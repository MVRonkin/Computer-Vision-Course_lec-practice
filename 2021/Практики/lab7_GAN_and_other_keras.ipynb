{
 "cells": [
  {
   "cell_type": "markdown",
   "metadata": {
    "id": "edfbxDDh2AEs"
   },
   "source": [
    "# Изучение работы TensorFlow2-Keras \n",
    "\n"
   ]
  },
  {
   "cell_type": "markdown",
   "metadata": {
    "id": "tZ4PL7fdOqen"
   },
   "source": [
    "## 1. Загрузка tensorflow"
   ]
  },
  {
   "cell_type": "code",
   "execution_count": null,
   "metadata": {
    "colab": {
     "base_uri": "https://localhost:8080/"
    },
    "executionInfo": {
     "elapsed": 647,
     "status": "ok",
     "timestamp": 1606461072451,
     "user": {
      "displayName": "Михаил Ронкин",
      "photoUrl": "",
      "userId": "11415097040659511675"
     },
     "user_tz": -300
    },
    "id": "LLlUwZnHJN5g",
    "outputId": "f6bc6c25-749c-4a9d-ec94-e9a0109c4230"
   },
   "outputs": [
    {
     "name": "stdout",
     "output_type": "stream",
     "text": [
      "Tensorflow version 2.3.0\n"
     ]
    }
   ],
   "source": [
    "%tensorflow_version 2.x\n",
    "import tensorflow as tf\n",
    "print(\"Tensorflow version \" + tf.__version__)\n",
    "\n",
    "\n",
    "import distutils\n",
    "if distutils.version.LooseVersion(tf.__version__) <= '2.0':\n",
    "    raise Exception('This notebook is compatible with TensorFlow 1.14 or higher, for TensorFlow 1.13 or lower please use the previous version at https://github.com/tensorflow/tpu/blob/r1.13/tools/colab/fashion_mnist.ipynb')\n"
   ]
  },
  {
   "cell_type": "code",
   "execution_count": null,
   "metadata": {
    "id": "avvHsuYsJbUH"
   },
   "outputs": [],
   "source": [
    "import matplotlib.pyplot as plt\n",
    "import numpy as np\n",
    "%matplotlib inline"
   ]
  },
  {
   "cell_type": "markdown",
   "metadata": {
    "id": "_I0RdnOSkNmi"
   },
   "source": [
    "!$^*$Примечение:\n",
    "\n",
    "В Google Colab возможны варианты тренировки на CPU, GPU и TPU\n",
    " <a href=\"https://cloud.google.com/tpu/\"><img valign=\"middle\" src=\"https://raw.githubusercontent.com/GoogleCloudPlatform/tensorflow-without-a-phd/master/tensorflow-rl-pong/images/tpu-hexagon.png\" width=\"50\"></a>\n",
    "\n",
    "Для среды выполнения кода выбирите в меню **среда выполнения** (**runtime**) пункт **Сменить среду выполнения** (**Change runtime type**)\n",
    "Затем выбрите GPU или TPU.\n",
    "\n",
    "<img src=\"https://cdn.analyticsvidhya.com/wp-content/uploads/2020/03/uc14.png\" width=\"500\">\n",
    "<img src=\"https://course.fast.ai/images/colab/04.png\" width=\"350\">\n"
   ]
  },
  {
   "cell_type": "markdown",
   "metadata": {
    "id": "yPCcb7CuHOPx"
   },
   "source": [
    "## 2. задача классификации рукописных цифр MNIST\n",
    "Загрузим один из готовых датасетов Fashion MNIST - с силуэтами одежды\n"
   ]
  },
  {
   "cell_type": "code",
   "execution_count": null,
   "metadata": {
    "id": "iy_UeXntislU"
   },
   "outputs": [],
   "source": [
    "import sklearn\n",
    "import sklearn.datasets \n",
    "import sklearn.model_selection "
   ]
  },
  {
   "cell_type": "code",
   "execution_count": null,
   "metadata": {
    "colab": {
     "base_uri": "https://localhost:8080/",
     "height": 298
    },
    "executionInfo": {
     "elapsed": 2007,
     "status": "ok",
     "timestamp": 1606461080565,
     "user": {
      "displayName": "Михаил Ронкин",
      "photoUrl": "",
      "userId": "11415097040659511675"
     },
     "user_tz": -300
    },
    "id": "4d4ctJxGRtiO",
    "outputId": "ba6fc526-b577-49bd-c9d8-5f3704b27ba3"
   },
   "outputs": [
    {
     "name": "stdout",
     "output_type": "stream",
     "text": [
      "(1797, 64)\n"
     ]
    },
    {
     "data": {
      "image/png": "[encoded data removed]",
      "text/plain": [
       "<Figure size 432x288 with 1 Axes>"
      ]
     },
     "metadata": {
      "needs_background": "light",
      "tags": []
     },
     "output_type": "display_data"
    }
   ],
   "source": [
    "digits = sklearn.datasets.load_digits()\n",
    "print(digits.data.shape)\n",
    "\n",
    "plt.figure()\n",
    "plt.gray() \n",
    "plt.imshow(digits.images[0]) \n",
    "plt.title(digits.target[0])\n",
    "plt.show() "
   ]
  },
  {
   "cell_type": "markdown",
   "metadata": {
    "id": "JLxje8jZTLT5"
   },
   "source": [
    "Загрузим данные"
   ]
  },
  {
   "cell_type": "code",
   "execution_count": null,
   "metadata": {
    "colab": {
     "base_uri": "https://localhost:8080/"
    },
    "executionInfo": {
     "elapsed": 756,
     "status": "ok",
     "timestamp": 1606461157998,
     "user": {
      "displayName": "Михаил Ронкин",
      "photoUrl": "",
      "userId": "11415097040659511675"
     },
     "user_tz": -300
    },
    "id": "0CmKojORSNsf",
    "outputId": "65fc127f-2f7b-49ec-e105-599df2808d43"
   },
   "outputs": [
    {
     "name": "stdout",
     "output_type": "stream",
     "text": [
      "number of images: 1797 image size: (8, 8)\n",
      "number of classe: 10 number of targets (1797,)\n"
     ]
    }
   ],
   "source": [
    "# add empty color dimension\n",
    "x = digits.images\n",
    "print('number of images:',x.shape[0], 'image size:',x.shape[1:])\n",
    "\n",
    "\n",
    "y = digits.target \n",
    "print('number of classe:',len(set(y)), 'number of targets', y.shape)"
   ]
  },
  {
   "cell_type": "markdown",
   "metadata": {
    "id": "-8Bp9i-jTonw"
   },
   "source": [
    "создадим два набора данных"
   ]
  },
  {
   "cell_type": "code",
   "execution_count": null,
   "metadata": {
    "colab": {
     "base_uri": "https://localhost:8080/"
    },
    "executionInfo": {
     "elapsed": 616,
     "status": "ok",
     "timestamp": 1606461159811,
     "user": {
      "displayName": "Михаил Ронкин",
      "photoUrl": "",
      "userId": "11415097040659511675"
     },
     "user_tz": -300
    },
    "id": "6KuCG4iZTNV3",
    "outputId": "0584463b-3dd2-43a8-f675-c9382ad5faa1"
   },
   "outputs": [
    {
     "name": "stdout",
     "output_type": "stream",
     "text": [
      "\n",
      " x_train shape =  (1203, 8, 8) \n",
      " x_test shape =  (594, 8, 8)\n"
     ]
    }
   ],
   "source": [
    "x_train, x_test, y_train, y_test = sklearn.model_selection.train_test_split(x,y, test_size=0.33, random_state=42)\n",
    "\n",
    "print('\\n x_train shape = ',x_train.shape,'\\n x_test shape = ', x_test.shape)\n"
   ]
  },
  {
   "cell_type": "markdown",
   "metadata": {
    "id": "3eju4mMMTsGn"
   },
   "source": [
    "!$^*$ Примечение: Если вы выполняете ЛР с использованием GPU или TPU - возможно целисообразно загрузить более большой набор данных - рукописных цифр.\n",
    "\n",
    "Для загрузки полонго набора MNIST можно использовать следующий код\n",
    "```python\n",
    "(x_train, y_train), (x_test, y_test) = tf.keras.datasets.mnist.load_data(path=\"mnist.npz\")\n",
    "\n",
    "print('x_train shape = ',x_train.shape,'\\n x_test shape = ', x_test.shape)\n",
    "print('number of classes: ', len(set(y_train)))\n",
    "\n",
    "```\n",
    "\n",
    "!$^*$ Примечение 2: Отметим, что полный набор MNIST не только имеет больше изображений, но и каждое изображение имеет размер 28x28, тогда как в урезанном наборе каждое изображение имеет размер 8х8!"
   ]
  },
  {
   "cell_type": "markdown",
   "metadata": {
    "id": "JfRRqE3GVL5e"
   },
   "source": [
    "Добавим к изображениям 3-ю разменость - это необходимо,чтобы они были именно изображениями, то есть имели ширину, длину и число цветов (например, RGB)."
   ]
  },
  {
   "cell_type": "code",
   "execution_count": null,
   "metadata": {
    "id": "Js8YmTNuVb5F"
   },
   "outputs": [],
   "source": [
    "# add empty color dimension\n",
    "x_train = np.expand_dims(x_train, -1)\n",
    "x_test = np.expand_dims(x_test, -1)"
   ]
  },
  {
   "cell_type": "markdown",
   "metadata": {
    "id": "wJCgSAl7UwRY"
   },
   "source": [
    "Проверим размер изображений и то, что у нас в трейне и в тесте есть изображения всех классов"
   ]
  },
  {
   "cell_type": "code",
   "execution_count": null,
   "metadata": {
    "colab": {
     "base_uri": "https://localhost:8080/",
     "height": 613
    },
    "executionInfo": {
     "elapsed": 930,
     "status": "ok",
     "timestamp": 1606461164429,
     "user": {
      "displayName": "Михаил Ронкин",
      "photoUrl": "",
      "userId": "11415097040659511675"
     },
     "user_tz": -300
    },
    "id": "Zo-Yk6LFGfSf",
    "outputId": "0735a03c-9cad-4903-efbe-4d4cd3bdd7ae"
   },
   "outputs": [
    {
     "name": "stdout",
     "output_type": "stream",
     "text": [
      "x_train shape =  (1203, 8, 8, 1) \n",
      " x_test shape =  (594, 8, 8, 1)\n",
      "lables of classes:  [0 1 2 3 4 5 6 7 8 9]\n",
      "lables of classes:  [0 1 2 3 4 5 6 7 8 9]\n"
     ]
    },
    {
     "data": {
      "image/png": "[encoded data removed]",
      "text/plain": [
       "<Figure size 432x288 with 1 Axes>"
      ]
     },
     "metadata": {
      "needs_background": "light",
      "tags": []
     },
     "output_type": "display_data"
    },
    {
     "data": {
      "image/png": "[encoded data removed]",
      "text/plain": [
       "<Figure size 432x288 with 1 Axes>"
      ]
     },
     "metadata": {
      "needs_background": "light",
      "tags": []
     },
     "output_type": "display_data"
    }
   ],
   "source": [
    "print('x_train shape = ',x_train.shape,'\\n x_test shape = ', x_test.shape)\n",
    "print('lables of classes: ', (np.unique(y_train)))\n",
    "print('lables of classes: ', (np.unique(y_test)))\n",
    "\n",
    "plt.imshow(x_train[0][:,:,0]);plt.title(y_train[0]); plt.show()\n",
    "plt.imshow(x_test[8][:,:,0]);plt.title(y_test[8]); plt.show()"
   ]
  },
  {
   "cell_type": "markdown",
   "metadata": {
    "id": "ZAy6PAziVxdu"
   },
   "source": [
    "## Сверточная сеть"
   ]
  },
  {
   "cell_type": "markdown",
   "metadata": {
    "id": "Hgc2FZKVMx15"
   },
   "source": [
    "**Создадаим модель - последовательную (```Sequential```) сверточную сеть типа Lenet**\n",
    "\n",
    "![](https://paperswithcode.com/media/methods/LeNet_Original_Image_48T74Lc.jpg)\n",
    "\n",
    "Однако добавим к  сети Lenet батч нормализацию и дроп-ауты.\n"
   ]
  },
  {
   "cell_type": "code",
   "execution_count": null,
   "metadata": {
    "id": "W7gMbs70GxA7"
   },
   "outputs": [],
   "source": [
    "def create_model(x_data):\n",
    "\n",
    "  # MODEL TYPE\n",
    "  model = tf.keras.models.Sequential()\n",
    "\n",
    "  #INPUT LAYER DOES NOT DESCRIBED\n",
    "  \n",
    "\n",
    "  #1-ST LAYER (CONVOLUTION LAYER)\n",
    "  model.add(tf.keras.layers.BatchNormalization(input_shape=x_data.shape[1:]))  \n",
    "  model.add(tf.keras.layers.Conv2D(64, (5, 5), padding='same', activation='elu'))  \n",
    "  model.add(tf.keras.layers.MaxPooling2D(pool_size=(2, 2), strides=(2,2)))\n",
    "  model.add(tf.keras.layers.Dropout(0.25))\n",
    "\n",
    "  #2-ND LAYER (CONVOLUTION LAYER)\n",
    "  model.add(tf.keras.layers.BatchNormalization(input_shape=x_data.shape[1:]))\n",
    "  model.add(tf.keras.layers.Conv2D(128, (5, 5), padding='same', activation='elu'))\n",
    "  model.add(tf.keras.layers.MaxPooling2D(pool_size=(2, 2)))\n",
    "  model.add(tf.keras.layers.Dropout(0.25))\n",
    "  \n",
    "  #3-RD LAYER (CONVOLUTION LAYER)\n",
    "  model.add(tf.keras.layers.BatchNormalization(input_shape=x_data.shape[1:]))\n",
    "  model.add(tf.keras.layers.Conv2D(256, (5, 5), padding='same', activation='elu'))\n",
    "  model.add(tf.keras.layers.MaxPooling2D(pool_size=(2, 2), strides=(2,2)))\n",
    "  model.add(tf.keras.layers.Dropout(0.25))\n",
    "\n",
    "  #4-TH LAYER (FLATTEN)\n",
    "  model.add(tf.keras.layers.Flatten())\n",
    "\n",
    "  #5-TH LAYER (FULLY CONNECTED)\n",
    "  model.add(tf.keras.layers.Dense(256))\n",
    "  model.add(tf.keras.layers.Activation('elu'))  \n",
    "  model.add(tf.keras.layers.Dropout(0.5))\n",
    "\n",
    "  #6-TH LAYER - OUTPUT (FULLY CONNECTED)\n",
    "  model.add(tf.keras.layers.Dense(10))\n",
    "  model.add(tf.keras.layers.Activation('softmax'))\n",
    "\n",
    "  return model"
   ]
  },
  {
   "cell_type": "markdown",
   "metadata": {
    "id": "IA-may8cMD7r"
   },
   "source": [
    "def __init__(filters, kernel_size, strides=(1, 1), padding='valid', data_format=None, dilation_rate=(1, 1), groups=1, activation=None, use_bias=True, kernel_initializer='glorot_uniform', bias_initializer='zeros', kernel_regularizer=None, bias_regularizer=None, activity_regularizer=None, kernel_constraint=None, bias_constraint=None, **kwargs)"
   ]
  },
  {
   "cell_type": "markdown",
   "metadata": {
    "id": "1EUR4QnsMwGr"
   },
   "source": [
    "Тепер создадим модель по описанной функции"
   ]
  },
  {
   "cell_type": "code",
   "execution_count": null,
   "metadata": {
    "colab": {
     "base_uri": "https://localhost:8080/"
    },
    "executionInfo": {
     "elapsed": 1017,
     "status": "ok",
     "timestamp": 1606461170889,
     "user": {
      "displayName": "Михаил Ронкин",
      "photoUrl": "",
      "userId": "11415097040659511675"
     },
     "user_tz": -300
    },
    "id": "i2cCD8QIMxqx",
    "outputId": "9fc6c936-6cc4-4dac-ca85-b8fc7cc3ff83"
   },
   "outputs": [
    {
     "name": "stdout",
     "output_type": "stream",
     "text": [
      "Model: \"sequential\"\n",
      "_________________________________________________________________\n",
      "Layer (type)                 Output Shape              Param #   \n",
      "=================================================================\n",
      "batch_normalization (BatchNo (None, 8, 8, 1)           4         \n",
      "_________________________________________________________________\n",
      "conv2d (Conv2D)              (None, 8, 8, 64)          1664      \n",
      "_________________________________________________________________\n",
      "max_pooling2d (MaxPooling2D) (None, 4, 4, 64)          0         \n",
      "_________________________________________________________________\n",
      "dropout (Dropout)            (None, 4, 4, 64)          0         \n",
      "_________________________________________________________________\n",
      "batch_normalization_1 (Batch (None, 4, 4, 64)          256       \n",
      "_________________________________________________________________\n",
      "conv2d_1 (Conv2D)            (None, 4, 4, 128)         204928    \n",
      "_________________________________________________________________\n",
      "max_pooling2d_1 (MaxPooling2 (None, 2, 2, 128)         0         \n",
      "_________________________________________________________________\n",
      "dropout_1 (Dropout)          (None, 2, 2, 128)         0         \n",
      "_________________________________________________________________\n",
      "batch_normalization_2 (Batch (None, 2, 2, 128)         512       \n",
      "_________________________________________________________________\n",
      "conv2d_2 (Conv2D)            (None, 2, 2, 256)         819456    \n",
      "_________________________________________________________________\n",
      "max_pooling2d_2 (MaxPooling2 (None, 1, 1, 256)         0         \n",
      "_________________________________________________________________\n",
      "dropout_2 (Dropout)          (None, 1, 1, 256)         0         \n",
      "_________________________________________________________________\n",
      "flatten (Flatten)            (None, 256)               0         \n",
      "_________________________________________________________________\n",
      "dense (Dense)                (None, 256)               65792     \n",
      "_________________________________________________________________\n",
      "activation (Activation)      (None, 256)               0         \n",
      "_________________________________________________________________\n",
      "dropout_3 (Dropout)          (None, 256)               0         \n",
      "_________________________________________________________________\n",
      "dense_1 (Dense)              (None, 10)                2570      \n",
      "_________________________________________________________________\n",
      "activation_1 (Activation)    (None, 10)                0         \n",
      "=================================================================\n",
      "Total params: 1,095,182\n",
      "Trainable params: 1,094,796\n",
      "Non-trainable params: 386\n",
      "_________________________________________________________________\n"
     ]
    }
   ],
   "source": [
    "model = create_model(x_train)\n",
    "model.summary()"
   ]
  },
  {
   "cell_type": "markdown",
   "metadata": {
    "id": "AuXoJX0bNDUN"
   },
   "source": [
    "Опишим особенности обучения модели:\n",
    "1. Будем использовать Adam оптимизатор.\n",
    "2. Функция потерь - котегориальная взаимная энтропия.\n",
    "3. Также будем в ходе обучения следить за качеством оубчения - мертикой обучения. В качестве метрики выбирем точность классификации категорий (categorical_accurac)\n",
    "\n",
    "!$^*$ Примечание описанная модель может быть запущена на GPU или на CPU при помощи данного кода. Для того, чтобы запустить модель на TPU можно использовать следующий код\n",
    "```python\n",
    "tf.keras.backend.clear_session()\n",
    "\n",
    "resolver = tf.distribute.cluster_resolver.TPUClusterResolver('grpc://' + os.environ['COLAB_TPU_ADDR'])\n",
    "tf.config.experimental_connect_to_cluster(resolver)\n",
    "\n",
    "# This is the TPU initialization code that has to be at the beginning.\n",
    "tf.tpu.experimental.initialize_tpu_system(resolver)\n",
    "print(\"All devices: \", tf.config.list_logical_devices('TPU'))\n",
    "\n",
    "strategy = tf.distribute.experimental.TPUStrategy(resolver)\n",
    "\n",
    "with strategy.scope():\n",
    "  model = create_model()\n",
    "  model.compile(\n",
    "      optimizer=tf.keras.optimizers.Adam(learning_rate=1e-3, ),\n",
    "      loss='sparse_categorical_crossentropy',\n",
    "      metrics=['sparse_categorical_accuracy'])\n",
    "```\n",
    "\n",
    "По вопорсам работы с TPU в колаб также доступны следующие туториалы\n",
    "https://cloud.google.com/tpu/docs/tutorials"
   ]
  },
  {
   "cell_type": "code",
   "execution_count": null,
   "metadata": {
    "id": "OhPZu-a0M_Mt"
   },
   "outputs": [],
   "source": [
    "LR = 1e-3\n",
    "optimizer = tf.keras.optimizers.Adam(learning_rate=LR, )\n",
    "\n",
    "model.compile(\n",
    "              optimizer=optimizer,\n",
    "              loss='sparse_categorical_crossentropy',\n",
    "              metrics=['sparse_categorical_accuracy'])"
   ]
  },
  {
   "cell_type": "markdown",
   "metadata": {
    "id": "KBa2mX4KMwJp"
   },
   "source": [
    "Проведем процесс обучения."
   ]
  },
  {
   "cell_type": "markdown",
   "metadata": {
    "id": "_vM9t7TiKPvc"
   },
   "source": [
    "опишим число эпох, размер батча и спец. параметр - число шагов в эпохе (число минибатчей, которые нужно использовать в каждую эпоху)"
   ]
  },
  {
   "cell_type": "code",
   "execution_count": null,
   "metadata": {
    "id": "2wUpT105GsZx"
   },
   "outputs": [],
   "source": [
    "EPOCHS = 200\n",
    "BATH_SIZE = 64\n",
    "STEPS = len(x_train)//BATH_SIZE"
   ]
  },
  {
   "cell_type": "markdown",
   "metadata": {
    "id": "FID3Ago-KcIv"
   },
   "source": [
    "Теперь добавим специальную функцию управления скоростью обучения - она нужна для того, чтобы как можно быстрее дойти до грубого приближения \"хороших\" значений весов на ранних стадиях обучения"
   ]
  },
  {
   "cell_type": "code",
   "execution_count": null,
   "metadata": {
    "colab": {
     "base_uri": "https://localhost:8080/",
     "height": 279
    },
    "executionInfo": {
     "elapsed": 1109,
     "status": "ok",
     "timestamp": 1606471709778,
     "user": {
      "displayName": "Михаил Ронкин",
      "photoUrl": "",
      "userId": "11415097040659511675"
     },
     "user_tz": -300
    },
    "id": "uUU36Z27Gscl",
    "outputId": "707cc4f4-e0d3-437e-ddb4-dddfb7b80513"
   },
   "outputs": [
    {
     "data": {
      "image/png": "[encoded data removed]",
      "text/plain": [
       "<Figure size 432x288 with 1 Axes>"
      ]
     },
     "metadata": {
      "needs_background": "light",
      "tags": []
     },
     "output_type": "display_data"
    }
   ],
   "source": [
    "start_lr = LR\n",
    "min_lr   = LR/10\n",
    "max_lr   = LR*3\n",
    "\n",
    "rampup_epochs  = EPOCHS/5\n",
    "sustain_epochs = 10\n",
    "exp_decay      = .8\n",
    "\n",
    "def lr_control(epoch):\n",
    "  if epoch < rampup_epochs:\n",
    "    return (max_lr - start_lr)/rampup_epochs * epoch + start_lr\n",
    "  \n",
    "  elif epoch < rampup_epochs + sustain_epochs:\n",
    "    return max_lr\n",
    "  \n",
    "  else:\n",
    "    return (max_lr - min_lr) * exp_decay**(epoch-rampup_epochs-sustain_epochs) + min_lr\n",
    "    \n",
    "lr_callback = tf.keras.callbacks.LearningRateScheduler(lambda epoch:lr_control(epoch), verbose=True)\n",
    "\n",
    "rang = np.arange(EPOCHS)\n",
    "\n",
    "\n",
    "y = [lr_control(x) for x in rang]\n",
    "\n",
    "plt.plot(rang, y)\n",
    "plt.xlabel('epoch')\n",
    "plt.ylabel('learning rate')\n",
    "plt.show()"
   ]
  },
  {
   "cell_type": "markdown",
   "metadata": {
    "id": "WfwNa45_Krkl"
   },
   "source": [
    "также создадим функцию ранней остановки, для нее зададим метрику, по которой должен идти контроль (```val_loss```) и число эпох в течение которых надо считать средний показатель для остановки"
   ]
  },
  {
   "cell_type": "code",
   "execution_count": null,
   "metadata": {
    "id": "1vQSvnyNHXbS"
   },
   "outputs": [],
   "source": [
    "early_stop = tf.keras.callbacks.EarlyStopping(monitor  = 'val_loss', \n",
    "                                              patience = 20)"
   ]
  },
  {
   "cell_type": "markdown",
   "metadata": {
    "id": "WXWSBN0XLQuF"
   },
   "source": [
    "Процесс обучения с сохранением истории"
   ]
  },
  {
   "cell_type": "code",
   "execution_count": null,
   "metadata": {
    "colab": {
     "base_uri": "https://localhost:8080/"
    },
    "executionInfo": {
     "elapsed": 197230,
     "status": "ok",
     "timestamp": 1606471504419,
     "user": {
      "displayName": "Михаил Ронкин",
      "photoUrl": "",
      "userId": "11415097040659511675"
     },
     "user_tz": -300
    },
    "id": "lUAxG6iANlUX",
    "outputId": "d6a6e815-63a6-4ecb-fc1b-02b8e1e48485"
   },
   "outputs": [
    {
     "name": "stdout",
     "output_type": "stream",
     "text": [
      "\n",
      "Epoch 00001: LearningRateScheduler reducing learning rate to 0.001.\n",
      "Epoch 1/200\n",
      "18/18 [==============================] - 4s 201ms/step - loss: 0.2372 - sparse_categorical_accuracy: 0.9751 - val_loss: 1.1952 - val_sparse_categorical_accuracy: 0.9579\n",
      "\n",
      "Epoch 00002: LearningRateScheduler reducing learning rate to 0.00105.\n",
      "Epoch 2/200\n",
      "18/18 [==============================] - 4s 200ms/step - loss: 0.0702 - sparse_categorical_accuracy: 0.9900 - val_loss: 0.2999 - val_sparse_categorical_accuracy: 0.9848\n",
      "\n",
      "Epoch 00003: LearningRateScheduler reducing learning rate to 0.0011.\n",
      "Epoch 3/200\n",
      "18/18 [==============================] - 4s 203ms/step - loss: 0.0488 - sparse_categorical_accuracy: 0.9942 - val_loss: 0.2243 - val_sparse_categorical_accuracy: 0.9832\n",
      "\n",
      "Epoch 00004: LearningRateScheduler reducing learning rate to 0.00115.\n",
      "Epoch 4/200\n",
      "18/18 [==============================] - 4s 202ms/step - loss: 0.0157 - sparse_categorical_accuracy: 0.9950 - val_loss: 0.1874 - val_sparse_categorical_accuracy: 0.9882\n",
      "\n",
      "Epoch 00005: LearningRateScheduler reducing learning rate to 0.0012000000000000001.\n",
      "Epoch 5/200\n",
      "18/18 [==============================] - 4s 202ms/step - loss: 0.0181 - sparse_categorical_accuracy: 0.9975 - val_loss: 0.1466 - val_sparse_categorical_accuracy: 0.9899\n",
      "\n",
      "Epoch 00006: LearningRateScheduler reducing learning rate to 0.00125.\n",
      "Epoch 6/200\n",
      "18/18 [==============================] - 4s 202ms/step - loss: 0.0036 - sparse_categorical_accuracy: 0.9983 - val_loss: 0.1273 - val_sparse_categorical_accuracy: 0.9933\n",
      "\n",
      "Epoch 00007: LearningRateScheduler reducing learning rate to 0.0013.\n",
      "Epoch 7/200\n",
      "18/18 [==============================] - 4s 205ms/step - loss: 0.0136 - sparse_categorical_accuracy: 0.9958 - val_loss: 0.1413 - val_sparse_categorical_accuracy: 0.9933\n",
      "\n",
      "Epoch 00008: LearningRateScheduler reducing learning rate to 0.00135.\n",
      "Epoch 8/200\n",
      "18/18 [==============================] - 4s 205ms/step - loss: 0.0229 - sparse_categorical_accuracy: 0.9975 - val_loss: 0.1004 - val_sparse_categorical_accuracy: 0.9933\n",
      "\n",
      "Epoch 00009: LearningRateScheduler reducing learning rate to 0.0014.\n",
      "Epoch 9/200\n",
      "18/18 [==============================] - 4s 202ms/step - loss: 0.0099 - sparse_categorical_accuracy: 0.9983 - val_loss: 0.1102 - val_sparse_categorical_accuracy: 0.9899\n",
      "\n",
      "Epoch 00010: LearningRateScheduler reducing learning rate to 0.0014500000000000001.\n",
      "Epoch 10/200\n",
      "18/18 [==============================] - 4s 202ms/step - loss: 0.0024 - sparse_categorical_accuracy: 0.9983 - val_loss: 0.1083 - val_sparse_categorical_accuracy: 0.9899\n",
      "\n",
      "Epoch 00011: LearningRateScheduler reducing learning rate to 0.0015.\n",
      "Epoch 11/200\n",
      "18/18 [==============================] - 4s 201ms/step - loss: 0.0059 - sparse_categorical_accuracy: 0.9983 - val_loss: 0.0918 - val_sparse_categorical_accuracy: 0.9916\n",
      "\n",
      "Epoch 00012: LearningRateScheduler reducing learning rate to 0.0015500000000000002.\n",
      "Epoch 12/200\n",
      "18/18 [==============================] - 4s 201ms/step - loss: 0.0023 - sparse_categorical_accuracy: 0.9992 - val_loss: 0.1073 - val_sparse_categorical_accuracy: 0.9899\n",
      "\n",
      "Epoch 00013: LearningRateScheduler reducing learning rate to 0.0016.\n",
      "Epoch 13/200\n",
      "18/18 [==============================] - 4s 203ms/step - loss: 0.0196 - sparse_categorical_accuracy: 0.9967 - val_loss: 0.0953 - val_sparse_categorical_accuracy: 0.9933\n",
      "\n",
      "Epoch 00014: LearningRateScheduler reducing learning rate to 0.00165.\n",
      "Epoch 14/200\n",
      "18/18 [==============================] - 4s 203ms/step - loss: 0.0054 - sparse_categorical_accuracy: 0.9992 - val_loss: 0.0811 - val_sparse_categorical_accuracy: 0.9933\n",
      "\n",
      "Epoch 00015: LearningRateScheduler reducing learning rate to 0.0017000000000000001.\n",
      "Epoch 15/200\n",
      "18/18 [==============================] - 4s 202ms/step - loss: 0.0065 - sparse_categorical_accuracy: 0.9992 - val_loss: 0.0715 - val_sparse_categorical_accuracy: 0.9933\n",
      "\n",
      "Epoch 00016: LearningRateScheduler reducing learning rate to 0.00175.\n",
      "Epoch 16/200\n",
      "18/18 [==============================] - 4s 202ms/step - loss: 0.0358 - sparse_categorical_accuracy: 0.9975 - val_loss: 0.0706 - val_sparse_categorical_accuracy: 0.9933\n",
      "\n",
      "Epoch 00017: LearningRateScheduler reducing learning rate to 0.0018.\n",
      "Epoch 17/200\n",
      "18/18 [==============================] - 4s 201ms/step - loss: 0.0096 - sparse_categorical_accuracy: 0.9983 - val_loss: 0.0716 - val_sparse_categorical_accuracy: 0.9916\n",
      "\n",
      "Epoch 00018: LearningRateScheduler reducing learning rate to 0.00185.\n",
      "Epoch 18/200\n",
      "18/18 [==============================] - 4s 202ms/step - loss: 0.0344 - sparse_categorical_accuracy: 0.9950 - val_loss: 0.0625 - val_sparse_categorical_accuracy: 0.9933\n",
      "\n",
      "Epoch 00019: LearningRateScheduler reducing learning rate to 0.0019000000000000002.\n",
      "Epoch 19/200\n",
      "18/18 [==============================] - 4s 202ms/step - loss: 0.0261 - sparse_categorical_accuracy: 0.9967 - val_loss: 0.0711 - val_sparse_categorical_accuracy: 0.9916\n",
      "\n",
      "Epoch 00020: LearningRateScheduler reducing learning rate to 0.00195.\n",
      "Epoch 20/200\n",
      "18/18 [==============================] - 4s 201ms/step - loss: 0.0196 - sparse_categorical_accuracy: 0.9967 - val_loss: 0.1065 - val_sparse_categorical_accuracy: 0.9933\n",
      "\n",
      "Epoch 00021: LearningRateScheduler reducing learning rate to 0.002.\n",
      "Epoch 21/200\n",
      "18/18 [==============================] - 4s 204ms/step - loss: 0.0107 - sparse_categorical_accuracy: 0.9967 - val_loss: 0.1138 - val_sparse_categorical_accuracy: 0.9933\n",
      "\n",
      "Epoch 00022: LearningRateScheduler reducing learning rate to 0.00205.\n",
      "Epoch 22/200\n",
      "18/18 [==============================] - 4s 203ms/step - loss: 0.0233 - sparse_categorical_accuracy: 0.9967 - val_loss: 0.1222 - val_sparse_categorical_accuracy: 0.9949\n",
      "\n",
      "Epoch 00023: LearningRateScheduler reducing learning rate to 0.0021000000000000003.\n",
      "Epoch 23/200\n",
      "18/18 [==============================] - 4s 201ms/step - loss: 0.0065 - sparse_categorical_accuracy: 0.9992 - val_loss: 0.0931 - val_sparse_categorical_accuracy: 0.9966\n",
      "\n",
      "Epoch 00024: LearningRateScheduler reducing learning rate to 0.00215.\n",
      "Epoch 24/200\n",
      "18/18 [==============================] - 4s 200ms/step - loss: 6.7768e-05 - sparse_categorical_accuracy: 1.0000 - val_loss: 0.0914 - val_sparse_categorical_accuracy: 0.9949\n",
      "\n",
      "Epoch 00025: LearningRateScheduler reducing learning rate to 0.0022.\n",
      "Epoch 25/200\n",
      "18/18 [==============================] - 4s 201ms/step - loss: 0.0033 - sparse_categorical_accuracy: 0.9992 - val_loss: 0.0953 - val_sparse_categorical_accuracy: 0.9949\n",
      "\n",
      "Epoch 00026: LearningRateScheduler reducing learning rate to 0.0022500000000000003.\n",
      "Epoch 26/200\n",
      "18/18 [==============================] - 4s 203ms/step - loss: 0.0038 - sparse_categorical_accuracy: 0.9992 - val_loss: 0.1232 - val_sparse_categorical_accuracy: 0.9933\n",
      "\n",
      "Epoch 00027: LearningRateScheduler reducing learning rate to 0.0023.\n",
      "Epoch 27/200\n",
      "18/18 [==============================] - 4s 203ms/step - loss: 0.0207 - sparse_categorical_accuracy: 0.9967 - val_loss: 0.1686 - val_sparse_categorical_accuracy: 0.9882\n",
      "\n",
      "Epoch 00028: LearningRateScheduler reducing learning rate to 0.00235.\n",
      "Epoch 28/200\n",
      "18/18 [==============================] - 4s 202ms/step - loss: 0.0735 - sparse_categorical_accuracy: 0.9950 - val_loss: 0.0768 - val_sparse_categorical_accuracy: 0.9933\n",
      "\n",
      "Epoch 00029: LearningRateScheduler reducing learning rate to 0.0024000000000000002.\n",
      "Epoch 29/200\n",
      "18/18 [==============================] - 4s 204ms/step - loss: 0.0483 - sparse_categorical_accuracy: 0.9975 - val_loss: 0.1990 - val_sparse_categorical_accuracy: 0.9848\n",
      "\n",
      "Epoch 00030: LearningRateScheduler reducing learning rate to 0.00245.\n",
      "Epoch 30/200\n",
      "18/18 [==============================] - 4s 204ms/step - loss: 0.0370 - sparse_categorical_accuracy: 0.9950 - val_loss: 0.0836 - val_sparse_categorical_accuracy: 0.9916\n",
      "\n",
      "Epoch 00031: LearningRateScheduler reducing learning rate to 0.0025.\n",
      "Epoch 31/200\n",
      "18/18 [==============================] - 4s 201ms/step - loss: 0.0396 - sparse_categorical_accuracy: 0.9942 - val_loss: 0.0511 - val_sparse_categorical_accuracy: 0.9933\n",
      "\n",
      "Epoch 00032: LearningRateScheduler reducing learning rate to 0.00255.\n",
      "Epoch 32/200\n",
      "18/18 [==============================] - 4s 202ms/step - loss: 0.0210 - sparse_categorical_accuracy: 0.9967 - val_loss: 0.1100 - val_sparse_categorical_accuracy: 0.9899\n",
      "\n",
      "Epoch 00033: LearningRateScheduler reducing learning rate to 0.0026.\n",
      "Epoch 33/200\n",
      "18/18 [==============================] - 4s 204ms/step - loss: 0.0545 - sparse_categorical_accuracy: 0.9933 - val_loss: 0.0812 - val_sparse_categorical_accuracy: 0.9882\n",
      "\n",
      "Epoch 00034: LearningRateScheduler reducing learning rate to 0.00265.\n",
      "Epoch 34/200\n",
      "18/18 [==============================] - 4s 202ms/step - loss: 0.0161 - sparse_categorical_accuracy: 0.9950 - val_loss: 0.0896 - val_sparse_categorical_accuracy: 0.9899\n",
      "\n",
      "Epoch 00035: LearningRateScheduler reducing learning rate to 0.0027.\n",
      "Epoch 35/200\n",
      "18/18 [==============================] - 4s 205ms/step - loss: 0.0065 - sparse_categorical_accuracy: 0.9975 - val_loss: 0.1165 - val_sparse_categorical_accuracy: 0.9899\n",
      "\n",
      "Epoch 00036: LearningRateScheduler reducing learning rate to 0.00275.\n",
      "Epoch 36/200\n",
      "18/18 [==============================] - 4s 202ms/step - loss: 0.0087 - sparse_categorical_accuracy: 0.9975 - val_loss: 0.0984 - val_sparse_categorical_accuracy: 0.9916\n",
      "\n",
      "Epoch 00037: LearningRateScheduler reducing learning rate to 0.0028000000000000004.\n",
      "Epoch 37/200\n",
      "18/18 [==============================] - 4s 202ms/step - loss: 0.0132 - sparse_categorical_accuracy: 0.9983 - val_loss: 0.1365 - val_sparse_categorical_accuracy: 0.9899\n",
      "\n",
      "Epoch 00038: LearningRateScheduler reducing learning rate to 0.00285.\n",
      "Epoch 38/200\n",
      "18/18 [==============================] - 4s 202ms/step - loss: 0.0135 - sparse_categorical_accuracy: 0.9958 - val_loss: 0.1468 - val_sparse_categorical_accuracy: 0.9882\n",
      "\n",
      "Epoch 00039: LearningRateScheduler reducing learning rate to 0.0029.\n",
      "Epoch 39/200\n",
      "18/18 [==============================] - 4s 202ms/step - loss: 0.0035 - sparse_categorical_accuracy: 0.9975 - val_loss: 0.1098 - val_sparse_categorical_accuracy: 0.9916\n",
      "\n",
      "Epoch 00040: LearningRateScheduler reducing learning rate to 0.0029500000000000004.\n",
      "Epoch 40/200\n",
      "18/18 [==============================] - 4s 203ms/step - loss: 3.4555e-04 - sparse_categorical_accuracy: 1.0000 - val_loss: 0.1147 - val_sparse_categorical_accuracy: 0.9899\n",
      "\n",
      "Epoch 00041: LearningRateScheduler reducing learning rate to 0.003.\n",
      "Epoch 41/200\n",
      "18/18 [==============================] - 4s 207ms/step - loss: 0.0226 - sparse_categorical_accuracy: 0.9983 - val_loss: 0.1115 - val_sparse_categorical_accuracy: 0.9882\n",
      "\n",
      "Epoch 00042: LearningRateScheduler reducing learning rate to 0.003.\n",
      "Epoch 42/200\n",
      "18/18 [==============================] - 4s 207ms/step - loss: 0.0034 - sparse_categorical_accuracy: 0.9975 - val_loss: 0.1379 - val_sparse_categorical_accuracy: 0.9899\n",
      "\n",
      "Epoch 00043: LearningRateScheduler reducing learning rate to 0.003.\n",
      "Epoch 43/200\n",
      "18/18 [==============================] - 4s 206ms/step - loss: 0.0120 - sparse_categorical_accuracy: 0.9992 - val_loss: 0.1237 - val_sparse_categorical_accuracy: 0.9916\n",
      "\n",
      "Epoch 00044: LearningRateScheduler reducing learning rate to 0.003.\n",
      "Epoch 44/200\n",
      "18/18 [==============================] - 4s 203ms/step - loss: 0.0357 - sparse_categorical_accuracy: 0.9933 - val_loss: 0.2485 - val_sparse_categorical_accuracy: 0.9815\n",
      "\n",
      "Epoch 00045: LearningRateScheduler reducing learning rate to 0.003.\n",
      "Epoch 45/200\n",
      "18/18 [==============================] - 4s 204ms/step - loss: 0.0385 - sparse_categorical_accuracy: 0.9917 - val_loss: 0.2358 - val_sparse_categorical_accuracy: 0.9747\n",
      "\n",
      "Epoch 00046: LearningRateScheduler reducing learning rate to 0.003.\n",
      "Epoch 46/200\n",
      "18/18 [==============================] - 4s 204ms/step - loss: 0.0205 - sparse_categorical_accuracy: 0.9967 - val_loss: 0.1412 - val_sparse_categorical_accuracy: 0.9865\n",
      "\n",
      "Epoch 00047: LearningRateScheduler reducing learning rate to 0.003.\n",
      "Epoch 47/200\n",
      "18/18 [==============================] - 4s 201ms/step - loss: 0.0301 - sparse_categorical_accuracy: 0.9942 - val_loss: 0.1765 - val_sparse_categorical_accuracy: 0.9848\n",
      "\n",
      "Epoch 00048: LearningRateScheduler reducing learning rate to 0.003.\n",
      "Epoch 48/200\n",
      "18/18 [==============================] - 4s 203ms/step - loss: 0.0280 - sparse_categorical_accuracy: 0.9958 - val_loss: 0.1691 - val_sparse_categorical_accuracy: 0.9865\n",
      "\n",
      "Epoch 00049: LearningRateScheduler reducing learning rate to 0.003.\n",
      "Epoch 49/200\n",
      "18/18 [==============================] - 4s 203ms/step - loss: 0.0303 - sparse_categorical_accuracy: 0.9950 - val_loss: 0.0912 - val_sparse_categorical_accuracy: 0.9949\n",
      "\n",
      "Epoch 00050: LearningRateScheduler reducing learning rate to 0.003.\n",
      "Epoch 50/200\n",
      "18/18 [==============================] - 4s 203ms/step - loss: 0.0733 - sparse_categorical_accuracy: 0.9933 - val_loss: 0.1239 - val_sparse_categorical_accuracy: 0.9899\n",
      "\n",
      "Epoch 00051: LearningRateScheduler reducing learning rate to 0.003.\n",
      "Epoch 51/200\n",
      "18/18 [==============================] - 4s 205ms/step - loss: 0.0482 - sparse_categorical_accuracy: 0.9933 - val_loss: 0.1454 - val_sparse_categorical_accuracy: 0.9865\n",
      "Epoch 00051: early stopping\n"
     ]
    }
   ],
   "source": [
    "history =\\\n",
    "  model.fit(\n",
    "            x_train.astype(np.float32), \n",
    "            y_train.astype(np.float32),\n",
    "            epochs = EPOCHS,\n",
    "            steps_per_epoch=STEPS,\n",
    "            validation_data=(x_test.astype(np.float32), \n",
    "                              y_test.astype(np.float32)),\n",
    "            callbacks=[lr_callback,\n",
    "                       early_stop]\n",
    "           )"
   ]
  },
  {
   "cell_type": "markdown",
   "metadata": {
    "id": "f57b3lEOOKYy"
   },
   "source": [
    "посмотрим на результат"
   ]
  },
  {
   "cell_type": "code",
   "execution_count": null,
   "metadata": {
    "colab": {
     "base_uri": "https://localhost:8080/"
    },
    "executionInfo": {
     "elapsed": 601,
     "status": "ok",
     "timestamp": 1606472486826,
     "user": {
      "displayName": "Михаил Ронкин",
      "photoUrl": "",
      "userId": "11415097040659511675"
     },
     "user_tz": -300
    },
    "id": "h2XxdTSPP8Hx",
    "outputId": "50a58e2a-1c45-4222-b8d8-4085236a8f44"
   },
   "outputs": [
    {
     "name": "stdout",
     "output_type": "stream",
     "text": [
      "average accuracy on validation: 0.9896349135567161\n"
     ]
    }
   ],
   "source": [
    "final_accuracy = history.history\n",
    "# print(final_accuracy.keys())\n",
    "print('average accuracy on validation:',np.mean(final_accuracy['val_sparse_categorical_accuracy']))"
   ]
  },
  {
   "cell_type": "markdown",
   "metadata": {
    "id": "6LAXAuSxON2t"
   },
   "source": [
    "визуализируем результат обучения"
   ]
  },
  {
   "cell_type": "code",
   "execution_count": null,
   "metadata": {
    "colab": {
     "base_uri": "https://localhost:8080/",
     "height": 755
    },
    "executionInfo": {
     "elapsed": 1768,
     "status": "ok",
     "timestamp": 1606471506223,
     "user": {
      "displayName": "Михаил Ронкин",
      "photoUrl": "",
      "userId": "11415097040659511675"
     },
     "user_tz": -300
    },
    "id": "SOeh4pcGZRrb",
    "outputId": "b5c1bb19-23aa-496a-a9ba-6023bffe920f"
   },
   "outputs": [
    {
     "data": {
      "image/png": "[encoded data removed]",
      "text/plain": [
       "<Figure size 720x720 with 2 Axes>"
      ]
     },
     "metadata": {
      "needs_background": "light",
      "tags": []
     },
     "output_type": "display_data"
    }
   ],
   "source": [
    "def display_training_curves(training, validation, title, subplot):\n",
    "  ax = plt.subplot(subplot)\n",
    "  ax.plot(training)\n",
    "  ax.plot(validation)\n",
    "  ax.set_title('model '+ title)\n",
    "  ax.set_ylabel(title)\n",
    "  ax.set_xlabel('epoch')\n",
    "  ax.legend(['training', 'validation'])\n",
    "\n",
    "plt.subplots(figsize=(10,10))\n",
    "plt.tight_layout()\n",
    "display_training_curves(history.history['sparse_categorical_accuracy'], history.history['val_sparse_categorical_accuracy'], 'accuracy', 211)\n",
    "display_training_curves(history.history['loss'], history.history['val_loss'], 'loss', 212)\n"
   ]
  },
  {
   "cell_type": "markdown",
   "metadata": {
    "id": "qpxP1pp4OSt3"
   },
   "source": [
    "оценим точность на тестовом датасете"
   ]
  },
  {
   "cell_type": "code",
   "execution_count": null,
   "metadata": {
    "colab": {
     "base_uri": "https://localhost:8080/"
    },
    "executionInfo": {
     "elapsed": 1283,
     "status": "ok",
     "timestamp": 1606471010201,
     "user": {
      "displayName": "Михаил Ронкин",
      "photoUrl": "",
      "userId": "11415097040659511675"
     },
     "user_tz": -300
    },
    "id": "IoSQJF7P_0AV",
    "outputId": "e545c942-307d-4410-cff8-296a77a1c593"
   },
   "outputs": [
    {
     "name": "stdout",
     "output_type": "stream",
     "text": [
      "19/19 [==============================] - 0s 10ms/step - loss: 0.3169 - sparse_categorical_accuracy: 0.9731\n",
      "\n",
      "sparse_categorical_accuracy: 97.31%\n"
     ]
    }
   ],
   "source": [
    "# evaluate the model\n",
    "scores = model.evaluate(x_test,y_test)\n",
    "print(\"\\n%s: %.2f%%\" % (model.metrics_names[1], scores[1]*100))\n"
   ]
  },
  {
   "cell_type": "markdown",
   "metadata": {
    "id": "PvxT1oR7OWIf"
   },
   "source": [
    "сохраним веса"
   ]
  },
  {
   "cell_type": "code",
   "execution_count": null,
   "metadata": {
    "id": "RiXuPH5CP7IK"
   },
   "outputs": [],
   "source": [
    "model.save_weights('/content/mnist_weigths.h5', overwrite=True)"
   ]
  },
  {
   "cell_type": "markdown",
   "metadata": {
    "id": "ZzgZaf8XMwMZ"
   },
   "source": [
    "## Представление результатов обучения"
   ]
  },
  {
   "cell_type": "markdown",
   "metadata": {
    "id": "ESL6ltQTMm05"
   },
   "source": [
    "Загрузим сохраненную модель"
   ]
  },
  {
   "cell_type": "code",
   "execution_count": null,
   "metadata": {
    "id": "Cu6SJ-KV_Xuy"
   },
   "outputs": [],
   "source": [
    "cpu_model = create_model(x_test)\n",
    "cpu_model.load_weights('/content/mnist_weigths.h5')\n",
    "\n"
   ]
  },
  {
   "cell_type": "markdown",
   "metadata": {
    "id": "P_wGce4tDKAV"
   },
   "source": [
    "Проведем предсказания модели и посмотрим на несколько результатов"
   ]
  },
  {
   "cell_type": "code",
   "execution_count": null,
   "metadata": {
    "colab": {
     "base_uri": "https://localhost:8080/"
    },
    "executionInfo": {
     "elapsed": 1045,
     "status": "ok",
     "timestamp": 1606471017507,
     "user": {
      "displayName": "Михаил Ронкин",
      "photoUrl": "",
      "userId": "11415097040659511675"
     },
     "user_tz": -300
    },
    "id": "XL_9OKh1DJNV",
    "outputId": "cc387405-9707-4ed4-a653-019197063a95"
   },
   "outputs": [
    {
     "name": "stdout",
     "output_type": "stream",
     "text": [
      "predicted: [6 9 3 7 2 2 5 2 5 2 1 9]\n",
      "actual: [6 9 3 7 2 1 5 2 5 2 1 9]\n"
     ]
    }
   ],
   "source": [
    "predicted = np.argmax(cpu_model.predict(x_test), axis=-1)\n",
    "                                        \n",
    "print('predicted:',predicted[:12])\n",
    "print('actual:',y_test[:12])\n"
   ]
  },
  {
   "cell_type": "markdown",
   "metadata": {
    "id": "JanJAxHpDVpU"
   },
   "source": [
    "Но так оценить где у нас проблемы будет сложно - по этому используем метод представления результатов в виде т.н. \"теплокарты\""
   ]
  },
  {
   "cell_type": "code",
   "execution_count": null,
   "metadata": {
    "colab": {
     "base_uri": "https://localhost:8080/",
     "height": 442
    },
    "executionInfo": {
     "elapsed": 1369,
     "status": "ok",
     "timestamp": 1606471021853,
     "user": {
      "displayName": "Михаил Ронкин",
      "photoUrl": "",
      "userId": "11415097040659511675"
     },
     "user_tz": -300
    },
    "id": "BGpMV58xB9LE",
    "outputId": "a2ea4da4-7074-49b8-a597-e7de4a4fa776"
   },
   "outputs": [
    {
     "data": {
      "image/png": "[encoded data removed]",
      "text/plain": [
       "<Figure size 504x504 with 2 Axes>"
      ]
     },
     "metadata": {
      "needs_background": "light",
      "tags": []
     },
     "output_type": "display_data"
    }
   ],
   "source": [
    "from sklearn.metrics import confusion_matrix\n",
    "import seaborn as sns\n",
    "\n",
    "def plot_cm(y_test, y_pred):\n",
    "    plt.rcParams.update({'font.size': 10})\n",
    "    '''\n",
    "    Графическое представление confusion matrix\n",
    "    '''\n",
    "    conf_mat = confusion_matrix(y_test, y_pred)\n",
    "    fig, ax = plt.subplots(figsize=(7,7))\n",
    "    sns.heatmap(conf_mat, \n",
    "                annot=True, \n",
    "                fmt='d',\n",
    "                xticklabels=np.unique(y_test), \n",
    "                yticklabels=np.unique(y_test))\n",
    "    plt.ylabel('Actual')\n",
    "    plt.xlabel('Predicted')\n",
    "    plt.show()\n",
    "    \n",
    "plot_cm(y_test, np.argmax(model.predict(x_test), axis=-1))"
   ]
  },
  {
   "cell_type": "markdown",
   "metadata": {
    "id": "k7q7P6gzFIE_"
   },
   "source": [
    "Тепереь посмотрим визуально, что получилось"
   ]
  },
  {
   "cell_type": "code",
   "execution_count": null,
   "metadata": {
    "colab": {
     "base_uri": "https://localhost:8080/",
     "height": 275
    },
    "executionInfo": {
     "elapsed": 966,
     "status": "ok",
     "timestamp": 1606471034613,
     "user": {
      "displayName": "Михаил Ронкин",
      "photoUrl": "",
      "userId": "11415097040659511675"
     },
     "user_tz": -300
    },
    "id": "CEvSGJDN_aQD",
    "outputId": "9a27de91-240f-4fdb-8a7d-0ddc090269b0"
   },
   "outputs": [
    {
     "data": {
      "text/plain": [
       "<Figure size 576x576 with 0 Axes>"
      ]
     },
     "metadata": {
      "tags": []
     },
     "output_type": "display_data"
    },
    {
     "data": {
      "image/png": "[encoded data removed]",
      "text/plain": [
       "<Figure size 432x288 with 16 Axes>"
      ]
     },
     "metadata": {
      "needs_background": "light",
      "tags": []
     },
     "output_type": "display_data"
    }
   ],
   "source": [
    "\n",
    "LABEL_NAMES = np.arange(10)\n",
    "\n",
    "def plot_predictions(images, predictions, lables):\n",
    "  n = images.shape[0]\n",
    "  nc = int(np.ceil(n / 4))\n",
    "\n",
    "\n",
    "  f, axes = plt.subplots(nc, 4)\n",
    "\n",
    "  for i in range(nc * 4):\n",
    "    y = i // 4\n",
    "    x = i % 4\n",
    "    axes[x, y].axis('off')\n",
    "    \n",
    "    label = LABEL_NAMES[np.argmax(predictions[i])]\n",
    "    confidence = np.max(predictions[i])\n",
    "    if i > n:\n",
    "      continue\n",
    "    axes[x, y].imshow(images[i])\n",
    "    axes[x, y].text(-0.5, -0.7, 'pred: '+str(label)+' label: '+str(lables[i]))\n",
    "  plt.show()\n",
    "    \n",
    "\n",
    "plt.gcf().set_size_inches(8, 8)  \n",
    "plot_predictions(np.squeeze(x_test[:16]), cpu_model.predict(x_test[:16]), y_test[:16])\n",
    "\n"
   ]
  },
  {
   "cell_type": "markdown",
   "metadata": {
    "id": "k7ECYCWUQimA"
   },
   "source": [
    "## Упражнения"
   ]
  },
  {
   "cell_type": "markdown",
   "metadata": {
    "id": "sn97ef-mQimA"
   },
   "source": [
    "<font size=3>\n",
    "    \n",
    "1. Исследовать модель, изменяя параметры и добавляя слои и их регуляризацию и инициализацию слоев, например дроп-ауту, батч-нормализацию или L2 регуляризацию\n",
    "\n"
   ]
  },
  {
   "cell_type": "code",
   "execution_count": null,
   "metadata": {
    "id": "5f8wBUNPVGID"
   },
   "outputs": [],
   "source": []
  },
  {
   "cell_type": "markdown",
   "metadata": {
    "id": "ELEw2mn1QimA"
   },
   "source": [
    "- - -\n",
    "# 3. Исследование автоэнкодера в Keras \n",
    "- - - "
   ]
  },
  {
   "cell_type": "markdown",
   "metadata": {
    "id": "NnIw3JPyQimA"
   },
   "source": [
    "## 3.1 Принцип работы Автоэнкодреа"
   ]
  },
  {
   "cell_type": "markdown",
   "metadata": {
    "id": "rDmTUr1XQimA"
   },
   "source": [
    "<font size =3 face ='Calibri' >\n",
    "\n",
    "Авто-энкодер это специальный вид сетей для обучения без учителя, при этом главная цель таких сетей - это научится повторять вход на выход нетривиально, то есть так, чтобы скрытый слой не повторял входной. \n",
    "\n",
    "Авто-энкодеры получили широкое распространения для предобучения сетей, а также для таких целей, как, например, фильртация шума или сжатие данных (скрытм слоем, потом разкодировка в выходной слой)"
   ]
  },
  {
   "cell_type": "markdown",
   "metadata": {
    "id": "FW36Xi7TQimA"
   },
   "source": [
    "![autoencoder.jpg](http://res.cloudinary.com/dyd911kmh/image/upload/f_auto,q_auto:best/v1522830223/AutoEncoder_kfqad1.png)"
   ]
  },
  {
   "cell_type": "markdown",
   "metadata": {
    "id": "50PIUvIcQimA"
   },
   "source": [
    "теперь рассмотрим пример. "
   ]
  },
  {
   "cell_type": "code",
   "execution_count": null,
   "metadata": {
    "colab": {
     "base_uri": "https://localhost:8080/"
    },
    "executionInfo": {
     "elapsed": 610,
     "status": "ok",
     "timestamp": 1606476147945,
     "user": {
      "displayName": "Михаил Ронкин",
      "photoUrl": "",
      "userId": "11415097040659511675"
     },
     "user_tz": -300
    },
    "id": "c4huJZGQTLKC",
    "outputId": "69c74897-c919-41c2-e38a-db148b61b19d"
   },
   "outputs": [
    {
     "name": "stdout",
     "output_type": "stream",
     "text": [
      "Tensorflow version 2.3.0\n"
     ]
    }
   ],
   "source": [
    "%tensorflow_version 2.x\n",
    "import tensorflow as tf\n",
    "print(\"Tensorflow version \" + tf.__version__)\n",
    "import matplotlib.pyplot as plt\n"
   ]
  },
  {
   "cell_type": "markdown",
   "metadata": {
    "id": "YKpnrMo4TQFa"
   },
   "source": [
    "возьмем  датасет FASHION-MNIST - состоящий из 60 тыс. изображений предметов одежды "
   ]
  },
  {
   "cell_type": "code",
   "execution_count": null,
   "metadata": {
    "colab": {
     "base_uri": "https://localhost:8080/",
     "height": 613
    },
    "executionInfo": {
     "elapsed": 1803,
     "status": "ok",
     "timestamp": 1606475503024,
     "user": {
      "displayName": "Михаил Ронкин",
      "photoUrl": "",
      "userId": "11415097040659511675"
     },
     "user_tz": -300
    },
    "id": "OAbJdpleQimA",
    "outputId": "571d73bb-e7a0-4f70-c7df-bf4aa60ff0ad"
   },
   "outputs": [
    {
     "name": "stdout",
     "output_type": "stream",
     "text": [
      "x_train shape =  (60000, 28, 28) \n",
      " x_test shape =  (10000, 28, 28)\n",
      "number of classes:  10\n",
      "(60000, 28, 28) (10000, 28, 28)\n"
     ]
    },
    {
     "data": {
      "image/png": "[encoded data removed]",
      "text/plain": [
       "<Figure size 432x288 with 1 Axes>"
      ]
     },
     "metadata": {
      "needs_background": "light",
      "tags": []
     },
     "output_type": "display_data"
    },
    {
     "data": {
      "image/png": "[encoded data removed]",
      "text/plain": [
       "<Figure size 432x288 with 1 Axes>"
      ]
     },
     "metadata": {
      "needs_background": "light",
      "tags": []
     },
     "output_type": "display_data"
    }
   ],
   "source": [
    "# Loads the training and test data sets (ignoring class labels)\n",
    "(x_train, y_train), (x_test, y_test) = tf.keras.datasets.fashion_mnist.load_data()\n",
    " \n",
    "print('x_train shape = ',x_train.shape,'\\n x_test shape = ', x_test.shape)\n",
    "print('number of classes: ', len(set(y_train)))\n",
    "\n",
    "\n",
    "# Scales the training and test data to range between 0 and 1.\n",
    "max_value = float(x_train.max())\n",
    "\n",
    "x_train = x_train.astype('float32') / max_value\n",
    "x_test = x_test.astype('float32') / max_value\n",
    "\n",
    "print(x_train.shape, x_test.shape)\n",
    "\n",
    "plt.imshow(x_train[0][:,:]);plt.title(y_train[0]); plt.show()\n",
    "plt.imshow(x_test[8][:,:]);plt.title(y_test[8]); plt.show()"
   ]
  },
  {
   "cell_type": "markdown",
   "metadata": {
    "id": "Llbpccv_TfoS"
   },
   "source": [
    "в данном случае будем использовать полносвязную сеть. Поэтмоу представим изображения в виде одномерных векторов"
   ]
  },
  {
   "cell_type": "code",
   "execution_count": null,
   "metadata": {
    "colab": {
     "base_uri": "https://localhost:8080/"
    },
    "executionInfo": {
     "elapsed": 583,
     "status": "ok",
     "timestamp": 1606475515251,
     "user": {
      "displayName": "Михаил Ронкин",
      "photoUrl": "",
      "userId": "11415097040659511675"
     },
     "user_tz": -300
    },
    "id": "JNKqAH3JQimA",
    "outputId": "0a9b14ff-e718-4d1f-d4ba-b9190dead36c"
   },
   "outputs": [
    {
     "data": {
      "text/plain": [
       "((60000, 784), (10000, 784))"
      ]
     },
     "execution_count": 205,
     "metadata": {
      "tags": []
     },
     "output_type": "execute_result"
    }
   ],
   "source": [
    "x_train = x_train.reshape((len(x_train), np.prod(x_train.shape[1:])))\n",
    "x_test = x_test.reshape((len(x_test), np.prod(x_test.shape[1:])))\n",
    "\n",
    "(x_train.shape, x_test.shape)"
   ]
  },
  {
   "cell_type": "markdown",
   "metadata": {
    "id": "dquH122UTpJK"
   },
   "source": [
    "тепер создадим наиболее простой автоэнкодер с одним скрытам слоем"
   ]
  },
  {
   "cell_type": "code",
   "execution_count": null,
   "metadata": {
    "id": "zKIaX0GMQimA"
   },
   "outputs": [],
   "source": [
    "def vanila_AE(X, encoding_dim=32):\n",
    "    \n",
    "    input_dim = X.shape[1] # input dimension = 784   \n",
    "\n",
    "    autoencoder = tf.keras.models.Sequential()\n",
    "    autoencoder.add(tf.keras.layers.Dense(encoding_dim, \n",
    "                                          input_shape=(input_dim,), \n",
    "                                          activation='relu'))\n",
    "    \n",
    "    autoencoder.add(tf.keras.layers.Dense(input_dim, \n",
    "                                          input_shape=(encoding_dim,),\n",
    "                                          activation='sigmoid'))\n",
    "    \n",
    "    compression_factor = float(input_dim) / encoding_dim\n",
    "    return autoencoder,  compression_factor\n",
    "    \n"
   ]
  },
  {
   "cell_type": "markdown",
   "metadata": {
    "id": "XsY_qiVzTywQ"
   },
   "source": [
    "создадим модель"
   ]
  },
  {
   "cell_type": "code",
   "execution_count": null,
   "metadata": {
    "colab": {
     "base_uri": "https://localhost:8080/"
    },
    "executionInfo": {
     "elapsed": 1433,
     "status": "ok",
     "timestamp": 1606475517659,
     "user": {
      "displayName": "Михаил Ронкин",
      "photoUrl": "",
      "userId": "11415097040659511675"
     },
     "user_tz": -300
    },
    "id": "aRV5aH8hQimA",
    "outputId": "1eca61ce-89ea-4667-9479-4ff8e3bccdda",
    "scrolled": true
   },
   "outputs": [
    {
     "name": "stdout",
     "output_type": "stream",
     "text": [
      "Compression factor: 24.5\n",
      "Model: \"sequential_22\"\n",
      "_________________________________________________________________\n",
      "Layer (type)                 Output Shape              Param #   \n",
      "=================================================================\n",
      "dense_46 (Dense)             (None, 32)                25120     \n",
      "_________________________________________________________________\n",
      "dense_47 (Dense)             (None, 784)               25872     \n",
      "=================================================================\n",
      "Total params: 50,992\n",
      "Trainable params: 50,992\n",
      "Non-trainable params: 0\n",
      "_________________________________________________________________\n"
     ]
    }
   ],
   "source": [
    "autoencoder, cf = vanila_AE(x_train, encoding_dim=32)\n",
    "print(\"Compression factor: %s\" % cf)\n",
    "autoencoder.summary()\n"
   ]
  },
  {
   "cell_type": "markdown",
   "metadata": {
    "id": "lArJgwazQimA"
   },
   "source": [
    "<font size = 4>\n",
    "теперь у нас автоэенкодер как на картинке ниже"
   ]
  },
  {
   "cell_type": "markdown",
   "metadata": {
    "id": "9jNUYo9HQimA"
   },
   "source": [
    "![Vanila-Auto_encoder.png](https://www.researchgate.net/profile/Guillaume-Alexandre_Bilodeau/publication/327434418/figure/fig2/AS:667345727025158@1536119028351/Diagram-showing-a-Vanilla-Autoencoder.png)"
   ]
  },
  {
   "cell_type": "markdown",
   "metadata": {
    "id": "TIb7yhZkQimA"
   },
   "source": [
    "## 3.2 Обучение авоэнкодера"
   ]
  },
  {
   "cell_type": "code",
   "execution_count": null,
   "metadata": {
    "id": "-rpEpcH9QimA"
   },
   "outputs": [],
   "source": [
    "LR=1e-3\n",
    "EPOCHS = 50\n",
    "BATCH = 100"
   ]
  },
  {
   "cell_type": "code",
   "execution_count": null,
   "metadata": {
    "colab": {
     "base_uri": "https://localhost:8080/"
    },
    "executionInfo": {
     "elapsed": 140841,
     "status": "ok",
     "timestamp": 1606475661733,
     "user": {
      "displayName": "Михаил Ронкин",
      "photoUrl": "",
      "userId": "11415097040659511675"
     },
     "user_tz": -300
    },
    "id": "CIRJ1dEMQimA",
    "outputId": "df6fad5c-fce7-44a7-acf4-fdfcb81501c1"
   },
   "outputs": [
    {
     "name": "stdout",
     "output_type": "stream",
     "text": [
      "Epoch 1/50\n",
      "600/600 [==============================] - 3s 5ms/step - loss: 0.3637 - val_loss: 0.3165\n",
      "Epoch 2/50\n",
      "600/600 [==============================] - 3s 5ms/step - loss: 0.3047 - val_loss: 0.2994\n",
      "Epoch 3/50\n",
      "600/600 [==============================] - 3s 5ms/step - loss: 0.2932 - val_loss: 0.2920\n",
      "Epoch 4/50\n",
      "600/600 [==============================] - 3s 5ms/step - loss: 0.2883 - val_loss: 0.2891\n",
      "Epoch 5/50\n",
      "600/600 [==============================] - 3s 5ms/step - loss: 0.2861 - val_loss: 0.2875\n",
      "Epoch 6/50\n",
      "600/600 [==============================] - 3s 5ms/step - loss: 0.2850 - val_loss: 0.2866\n",
      "Epoch 7/50\n",
      "600/600 [==============================] - 3s 5ms/step - loss: 0.2842 - val_loss: 0.2860\n",
      "Epoch 8/50\n",
      "600/600 [==============================] - 3s 5ms/step - loss: 0.2838 - val_loss: 0.2858\n",
      "Epoch 9/50\n",
      "600/600 [==============================] - 3s 5ms/step - loss: 0.2834 - val_loss: 0.2855\n",
      "Epoch 10/50\n",
      "600/600 [==============================] - 3s 5ms/step - loss: 0.2832 - val_loss: 0.2852\n",
      "Epoch 11/50\n",
      "600/600 [==============================] - 3s 5ms/step - loss: 0.2830 - val_loss: 0.2850\n",
      "Epoch 12/50\n",
      "600/600 [==============================] - 3s 5ms/step - loss: 0.2828 - val_loss: 0.2851\n",
      "Epoch 13/50\n",
      "600/600 [==============================] - 3s 5ms/step - loss: 0.2826 - val_loss: 0.2848\n",
      "Epoch 14/50\n",
      "600/600 [==============================] - 3s 5ms/step - loss: 0.2825 - val_loss: 0.2847\n",
      "Epoch 15/50\n",
      "600/600 [==============================] - 3s 5ms/step - loss: 0.2824 - val_loss: 0.2846\n",
      "Epoch 16/50\n",
      "600/600 [==============================] - 3s 5ms/step - loss: 0.2823 - val_loss: 0.2845\n",
      "Epoch 17/50\n",
      "600/600 [==============================] - 3s 5ms/step - loss: 0.2822 - val_loss: 0.2845\n",
      "Epoch 18/50\n",
      "600/600 [==============================] - 3s 5ms/step - loss: 0.2821 - val_loss: 0.2844\n",
      "Epoch 19/50\n",
      "600/600 [==============================] - 3s 5ms/step - loss: 0.2821 - val_loss: 0.2843\n",
      "Epoch 20/50\n",
      "600/600 [==============================] - 3s 5ms/step - loss: 0.2820 - val_loss: 0.2843\n",
      "Epoch 21/50\n",
      "600/600 [==============================] - 3s 5ms/step - loss: 0.2820 - val_loss: 0.2843\n",
      "Epoch 22/50\n",
      "600/600 [==============================] - 3s 5ms/step - loss: 0.2819 - val_loss: 0.2842\n",
      "Epoch 23/50\n",
      "600/600 [==============================] - 3s 5ms/step - loss: 0.2819 - val_loss: 0.2842\n",
      "Epoch 24/50\n",
      "600/600 [==============================] - 3s 5ms/step - loss: 0.2818 - val_loss: 0.2842\n",
      "Epoch 25/50\n",
      "600/600 [==============================] - 3s 5ms/step - loss: 0.2818 - val_loss: 0.2841\n",
      "Epoch 26/50\n",
      "600/600 [==============================] - 3s 5ms/step - loss: 0.2817 - val_loss: 0.2844\n",
      "Epoch 27/50\n",
      "600/600 [==============================] - 3s 5ms/step - loss: 0.2817 - val_loss: 0.2841\n",
      "Epoch 28/50\n",
      "600/600 [==============================] - 3s 5ms/step - loss: 0.2817 - val_loss: 0.2840\n",
      "Epoch 29/50\n",
      "600/600 [==============================] - 3s 5ms/step - loss: 0.2816 - val_loss: 0.2840\n",
      "Epoch 30/50\n",
      "600/600 [==============================] - 3s 5ms/step - loss: 0.2816 - val_loss: 0.2840\n",
      "Epoch 31/50\n",
      "600/600 [==============================] - 3s 5ms/step - loss: 0.2816 - val_loss: 0.2840\n",
      "Epoch 32/50\n",
      "600/600 [==============================] - 3s 5ms/step - loss: 0.2816 - val_loss: 0.2840\n",
      "Epoch 33/50\n",
      "600/600 [==============================] - 3s 5ms/step - loss: 0.2815 - val_loss: 0.2838\n",
      "Epoch 34/50\n",
      "600/600 [==============================] - 3s 5ms/step - loss: 0.2815 - val_loss: 0.2839\n",
      "Epoch 35/50\n",
      "600/600 [==============================] - 3s 5ms/step - loss: 0.2815 - val_loss: 0.2840\n",
      "Epoch 36/50\n",
      "600/600 [==============================] - 3s 5ms/step - loss: 0.2815 - val_loss: 0.2838\n",
      "Epoch 37/50\n",
      "600/600 [==============================] - 3s 5ms/step - loss: 0.2814 - val_loss: 0.2838\n",
      "Epoch 38/50\n",
      "600/600 [==============================] - 3s 5ms/step - loss: 0.2814 - val_loss: 0.2838\n",
      "Epoch 39/50\n",
      "600/600 [==============================] - 3s 5ms/step - loss: 0.2814 - val_loss: 0.2838\n",
      "Epoch 40/50\n",
      "600/600 [==============================] - 3s 5ms/step - loss: 0.2814 - val_loss: 0.2839\n",
      "Epoch 41/50\n",
      "600/600 [==============================] - 3s 5ms/step - loss: 0.2814 - val_loss: 0.2838\n",
      "Epoch 42/50\n",
      "600/600 [==============================] - 3s 5ms/step - loss: 0.2814 - val_loss: 0.2838\n",
      "Epoch 43/50\n",
      "600/600 [==============================] - 3s 5ms/step - loss: 0.2814 - val_loss: 0.2838\n",
      "Epoch 44/50\n",
      "600/600 [==============================] - 3s 5ms/step - loss: 0.2814 - val_loss: 0.2838\n",
      "Epoch 45/50\n",
      "600/600 [==============================] - 3s 5ms/step - loss: 0.2814 - val_loss: 0.2838\n",
      "Epoch 46/50\n",
      "600/600 [==============================] - 3s 5ms/step - loss: 0.2813 - val_loss: 0.2838\n",
      "Epoch 47/50\n",
      "600/600 [==============================] - 3s 5ms/step - loss: 0.2813 - val_loss: 0.2837\n",
      "Epoch 48/50\n",
      "600/600 [==============================] - 3s 5ms/step - loss: 0.2813 - val_loss: 0.2837\n",
      "Epoch 49/50\n",
      "600/600 [==============================] - 3s 5ms/step - loss: 0.2813 - val_loss: 0.2837\n",
      "Epoch 50/50\n",
      "600/600 [==============================] - 3s 5ms/step - loss: 0.2813 - val_loss: 0.2837\n"
     ]
    },
    {
     "data": {
      "text/plain": [
       "<tensorflow.python.keras.callbacks.History at 0x7fb772bb0080>"
      ]
     },
     "execution_count": 209,
     "metadata": {
      "tags": []
     },
     "output_type": "execute_result"
    }
   ],
   "source": [
    "autoencoder,_ = vanila_AE(x_train, encoding_dim=32)\n",
    "\n",
    "autoencoder.compile(loss='binary_crossentropy', \n",
    "              optimizer=tf.keras.optimizers.Adam(lr=LR))\n",
    "\n",
    "\n",
    "autoencoder.fit(x_train, \n",
    "                x_train,\n",
    "                epochs      = EPOCHS,\n",
    "                batch_size  = BATCH,\n",
    "                shuffle     = True,\n",
    "                verbose     = True,\n",
    "                validation_data = (x_test, x_test))"
   ]
  },
  {
   "cell_type": "markdown",
   "metadata": {
    "id": "v5AuoAcrT9vY"
   },
   "source": [
    "Посмотрим на результат обучения\n"
   ]
  },
  {
   "cell_type": "code",
   "execution_count": null,
   "metadata": {
    "colab": {
     "base_uri": "https://localhost:8080/",
     "height": 282
    },
    "executionInfo": {
     "elapsed": 2046,
     "status": "ok",
     "timestamp": 1606475716097,
     "user": {
      "displayName": "Михаил Ронкин",
      "photoUrl": "",
      "userId": "11415097040659511675"
     },
     "user_tz": -300
    },
    "id": "vbAbdGaNUCVr",
    "outputId": "8b4d4b4f-7f0e-4864-9bea-a3ff78422300"
   },
   "outputs": [
    {
     "name": "stdout",
     "output_type": "stream",
     "text": [
      "(10000, 784)\n"
     ]
    },
    {
     "data": {
      "image/png": "[encoded data removed]",
      "text/plain": [
       "<Figure size 432x288 with 1 Axes>"
      ]
     },
     "metadata": {
      "needs_background": "light",
      "tags": []
     },
     "output_type": "display_data"
    }
   ],
   "source": [
    "decoded_imgs = autoencoder.predict(x_test)\n",
    "print(decoded_imgs.shape)\n",
    "\n",
    "plt.imshow(decoded_imgs[0].reshape(28,28))\n",
    "plt.show()"
   ]
  },
  {
   "cell_type": "markdown",
   "metadata": {
    "id": "HY7wx9l_QimA"
   },
   "source": [
    "<font size =3>\n",
    "\n",
    "Для того, чтобы посмотреть, что делается внутри сети - выделим отдельно энкодер и посмотрим на его результат - т.н. латентное пространство"
   ]
  },
  {
   "cell_type": "code",
   "execution_count": null,
   "metadata": {
    "id": "d55ybL4TQimA"
   },
   "outputs": [],
   "source": [
    "def get_encoder(X, autoencoder ):\n",
    "    \n",
    "    input_dim = X.shape[1] # input dimension = 784  \n",
    "    \n",
    "    input_img = tf.keras.layers.Input(shape=(input_dim,))\n",
    "\n",
    "    encoder_layer = autoencoder.layers[0]\n",
    "\n",
    "    encoder = tf.keras.models.Model(input_img, encoder_layer(input_img))\n",
    "\n",
    "    return encoder"
   ]
  },
  {
   "cell_type": "code",
   "execution_count": null,
   "metadata": {
    "colab": {
     "base_uri": "https://localhost:8080/"
    },
    "executionInfo": {
     "elapsed": 571,
     "status": "ok",
     "timestamp": 1606475432469,
     "user": {
      "displayName": "Михаил Ронкин",
      "photoUrl": "",
      "userId": "11415097040659511675"
     },
     "user_tz": -300
    },
    "id": "9Fl9SXEdQimA",
    "outputId": "63269c69-bb07-4621-e3ec-84be1aa30a76"
   },
   "outputs": [
    {
     "name": "stdout",
     "output_type": "stream",
     "text": [
      "Model: \"functional_7\"\n",
      "_________________________________________________________________\n",
      "Layer (type)                 Output Shape              Param #   \n",
      "=================================================================\n",
      "input_5 (InputLayer)         [(None, 784)]             0         \n",
      "_________________________________________________________________\n",
      "dense_44 (Dense)             (None, 32)                25120     \n",
      "=================================================================\n",
      "Total params: 25,120\n",
      "Trainable params: 25,120\n",
      "Non-trainable params: 0\n",
      "_________________________________________________________________\n",
      "None\n"
     ]
    }
   ],
   "source": [
    "encoder = get_encoder(x_train, autoencoder )\n",
    "print(encoder.summary())"
   ]
  },
  {
   "cell_type": "markdown",
   "metadata": {
    "id": "Gj5kE7peQimA"
   },
   "source": [
    "<font size =4>\n",
    "\n",
    "кодер имеет структуру как на картинке\n",
    "![encoder-RBM](https://www.researchgate.net/profile/Andee_Kaplan/publication/328894173/figure/fig2/AS:725546539433985@1549995183104/An-example-restricted-Boltzmann-machine-RBM-consisting-of-two-layers-one-hidden.png)"
   ]
  },
  {
   "cell_type": "markdown",
   "metadata": {
    "id": "1zNHQQYOQimA"
   },
   "source": [
    "<font size = 4 face = 'Arial' >\n",
    "    \n",
    "**тест результатов на случайных изображениях**\n",
    "\n",
    "Возьмем 10 случайных изображений"
   ]
  },
  {
   "cell_type": "code",
   "execution_count": null,
   "metadata": {
    "id": "FaIkG8RoQimA"
   },
   "outputs": [],
   "source": [
    "num_images = 10\n",
    "np.random.seed(42)\n",
    "random_test_images = np.random.randint(x_test.shape[0], size=num_images)"
   ]
  },
  {
   "cell_type": "markdown",
   "metadata": {
    "id": "CZzUksXyQimA"
   },
   "source": [
    "визуализация результатов\n",
    "\n",
    "**посмотрим на наши 10 случайных изображений, их скрытые пространства и результаты их автокодирования**"
   ]
  },
  {
   "cell_type": "code",
   "execution_count": null,
   "metadata": {
    "colab": {
     "base_uri": "https://localhost:8080/",
     "height": 252
    },
    "executionInfo": {
     "elapsed": 3101,
     "status": "ok",
     "timestamp": 1606475735209,
     "user": {
      "displayName": "Михаил Ронкин",
      "photoUrl": "",
      "userId": "11415097040659511675"
     },
     "user_tz": -300
    },
    "id": "_o-19kG0QimA",
    "outputId": "e2bd55fb-a522-4c3d-c025-a41225cf5da4"
   },
   "outputs": [
    {
     "data": {
      "image/png": "[encoded data removed]",
      "text/plain": [
       "<Figure size 1296x288 with 30 Axes>"
      ]
     },
     "metadata": {
      "needs_background": "light",
      "tags": []
     },
     "output_type": "display_data"
    }
   ],
   "source": [
    "encoded_imgs = encoder.predict(x_test)\n",
    "decoded_imgs = autoencoder.predict(x_test)\n",
    "\n",
    "plt.figure(figsize=(18, 4))\n",
    "\n",
    "for i, image_idx in enumerate(random_test_images):\n",
    "    # plot original image\n",
    "    ax = plt.subplot(3, num_images, i + 1)\n",
    "    plt.imshow(x_test[image_idx].reshape(28, 28))\n",
    "    plt.gray()\n",
    "    ax.get_xaxis().set_visible(False)\n",
    "    ax.get_yaxis().set_visible(False)\n",
    "    \n",
    "    # plot encoded image\n",
    "    ax = plt.subplot(3, num_images, num_images + i + 1)\n",
    "    plt.imshow(encoded_imgs[image_idx].reshape(8, 4))\n",
    "    plt.gray()\n",
    "    ax.get_xaxis().set_visible(False)\n",
    "    ax.get_yaxis().set_visible(False)\n",
    "\n",
    "    # plot reconstructed image\n",
    "    ax = plt.subplot(3, num_images, 2*num_images + i + 1)\n",
    "    plt.imshow(decoded_imgs[image_idx].reshape(28, 28))\n",
    "    plt.gray()\n",
    "    ax.get_xaxis().set_visible(False)\n",
    "    ax.get_yaxis().set_visible(False)\n",
    "plt.show()"
   ]
  },
  {
   "cell_type": "markdown",
   "metadata": {
    "id": "4l6gXhQwQimA"
   },
   "source": [
    "## 3.3 Упражнения"
   ]
  },
  {
   "cell_type": "markdown",
   "metadata": {
    "id": "zffkoy8gQimB"
   },
   "source": [
    "<font size=4  face = 'Calibri' style='Line-height : 1.5em'>  \n",
    "    \n",
    "**1.** преорбазовать модель в  <font size = 5> **deep autoencoder** </font> (добавить слои регуляризацию и тп), посмотреть как это скажится на результатах"
   ]
  },
  {
   "cell_type": "code",
   "execution_count": null,
   "metadata": {
    "id": "oBUUQDs3QimB"
   },
   "outputs": [],
   "source": [
    "#"
   ]
  },
  {
   "cell_type": "markdown",
   "metadata": {
    "id": "1ol_iOEaQimB"
   },
   "source": [
    "<font size=4  face = 'Calibri' style='Line-height : 1.5em'>  \n",
    "    \n",
    "**2.** создать сверточный автоэнкодер  (<font size = 5> **convolution autoencoder** </font> ) (заменить полносвязные слои на сверточные) и посмотреть как это скажется на результате"
   ]
  },
  {
   "cell_type": "code",
   "execution_count": null,
   "metadata": {
    "id": "3qy92PGvQimB"
   },
   "outputs": [],
   "source": [
    "#"
   ]
  },
  {
   "cell_type": "markdown",
   "metadata": {
    "id": "3YVtcGeeQimB"
   },
   "source": [
    "<font size =4 face = 'Calibry' style='Line-height:1.5em'>\n",
    "\n",
    "    \n",
    "**для создания развертывающего слоя в противовес max_pooling можно использовать следующую процедуру** \n",
    "\n",
    "**Upsampling 2D layer**\n",
    "\n",
    "```python \n",
    "    keras.layers.UpSampling2D(\n",
    "                    pool_size, \n",
    "                    interpolation)\n",
    "```"
   ]
  },
  {
   "cell_type": "markdown",
   "metadata": {
    "id": "AqebMHniQimB"
   },
   "source": [
    "<font size=4 face = 'Calibri' style='Line-height : 1.5em'>  \n",
    "\n",
    "**3.** Cоздать фильтрующий автоэнкодер <font size =5 >**de-noise autoencoder** </font> (при этом надо добавить доп. слой добавления шумов в модель,\n",
    " скрытый слой дложен быть шире входного) и исследовать свойства такой модели\n"
   ]
  },
  {
   "cell_type": "code",
   "execution_count": null,
   "metadata": {
    "id": "WcSDcuoiQimB"
   },
   "outputs": [],
   "source": [
    "#"
   ]
  },
  {
   "cell_type": "markdown",
   "metadata": {
    "id": "eb4n_poGQimB"
   },
   "source": [
    "- - -\n",
    "# 4. Генеративно-состязательные сети (Generative Adversarial Network, GAN)\n",
    "- - -\n"
   ]
  },
  {
   "cell_type": "markdown",
   "metadata": {
    "id": "posGHXvxQimB"
   },
   "source": [
    " Генеративно-состязательные сети (Generative Adversarial Network, GAN)\n",
    "## 4.1 Основы работы GAN"
   ]
  },
  {
   "cell_type": "markdown",
   "metadata": {
    "id": "ufqbm4eaQimB"
   },
   "source": [
    "<font size=4  face = 'Calibri' style='Line-height : 1.5em'>  \n",
    "\n",
    "GAN - генеративно-состязательная сеть - это специальный вид сетей, для генерации данных из шума (напр. белого или равномерного):\n",
    "\n",
    "1. Основная цель сети при обучении- подобрать веса так, чтобы шум приобрел форму заданных данных, то есть создать соответствующий данным фильтр.  \n",
    "\n",
    "    \n",
    "2. сеть использует 2 под-сети: дискриминатор и генератор, цель первой - научится классифицировать где реальные данные, а где шум, цель второй - научится обманывать дикриминатор. \n",
    "\n",
    " "
   ]
  },
  {
   "cell_type": "markdown",
   "metadata": {
    "id": "bf9IGfWnQimB"
   },
   "source": [
    "<font size=4 face='Calibri' color = black|brown>\n",
    "принцип работы показан ниже"
   ]
  },
  {
   "cell_type": "markdown",
   "metadata": {
    "id": "jwI_vtvjQimB"
   },
   "source": [
    "![GAN-basic](https://camo.githubusercontent.com/912e1ea2c0ed056db1fd96cf45752decb74e6844/68747470733a2f2f646f63732e676f6f676c652e636f6d2f75633f69643d30427934517678416b41694e4363476c345645524d4f55644e543055)"
   ]
  },
  {
   "cell_type": "markdown",
   "metadata": {
    "id": "E-lBu9-8QimB"
   },
   "source": [
    "<font size=4 face='Calibri' color = black style='Line-height:1.5em'>\n",
    "\n",
    "см. также следующие исследования [это](https://github.com/T-Almeida/GAN-study/blob/master/01-%20GAN-2014-IanGoodfellow%20(GAN)%20-%20Keras%20implementation.ipynb) (и в дополнение \n",
    "[тут](https://github.com/erschmidt/Jupyter-GAN), \n",
    "[тут](https://github.com/tjwei/GANotebooks), \n",
    "[тут](https://github.com/T-Almeida/GAN-study),\n",
    "[тут](https://github.com/eriklindernoren/Keras-GAN)\n",
    "и широкое исследование\n",
    "[тут](https://github.com/wiseodd/generative-models ))"
   ]
  },
  {
   "cell_type": "markdown",
   "metadata": {
    "id": "VEsL9yxlQimB"
   },
   "source": [
    "<font size=4 face='Calibri' color = black style='Line-height:1.5em'>\n",
    "    \n",
    "импорт"
   ]
  },
  {
   "cell_type": "code",
   "execution_count": null,
   "metadata": {
    "id": "luUGlKdoQimB"
   },
   "outputs": [],
   "source": [
    "from numpy.random import seed\n",
    "seed(42)\n",
    "\n",
    "import numpy as np\n",
    "\n",
    "##imports\n",
    "import tensorflow as tf\n",
    "%matplotlib inline\n",
    "import matplotlib.pyplot as plt\n",
    "import os\n",
    "import functools"
   ]
  },
  {
   "cell_type": "markdown",
   "metadata": {
    "id": "Pa_GvKPhQimB"
   },
   "source": [
    "<font size=4 face='Calibri' color = black style='Line-height:1.5em'>\n",
    "    \n",
    "набор данных - будем использовать также набор данных MNIST\n"
   ]
  },
  {
   "cell_type": "code",
   "execution_count": null,
   "metadata": {
    "id": "eJkTi10FQimB"
   },
   "outputs": [],
   "source": [
    "(x_train,y_train),(x_test,y_test) = tf.keras.datasets.mnist.load_data()"
   ]
  },
  {
   "cell_type": "code",
   "execution_count": null,
   "metadata": {
    "colab": {
     "base_uri": "https://localhost:8080/"
    },
    "executionInfo": {
     "elapsed": 1261,
     "status": "ok",
     "timestamp": 1606480300519,
     "user": {
      "displayName": "Михаил Ронкин",
      "photoUrl": "",
      "userId": "11415097040659511675"
     },
     "user_tz": -300
    },
    "id": "1jewCyUkQimB",
    "outputId": "d785645a-7d25-4512-aa60-6a1afa753d65"
   },
   "outputs": [
    {
     "name": "stdout",
     "output_type": "stream",
     "text": [
      "(60000, 28, 28)\n"
     ]
    }
   ],
   "source": [
    "print(x_train.shape)"
   ]
  },
  {
   "cell_type": "code",
   "execution_count": null,
   "metadata": {
    "colab": {
     "base_uri": "https://localhost:8080/"
    },
    "executionInfo": {
     "elapsed": 1242,
     "status": "ok",
     "timestamp": 1606480300521,
     "user": {
      "displayName": "Михаил Ронкин",
      "photoUrl": "",
      "userId": "11415097040659511675"
     },
     "user_tz": -300
    },
    "id": "TF4ntPONQimB",
    "outputId": "591fc426-d448-4b71-c9a2-6667f3fc2ebc"
   },
   "outputs": [
    {
     "name": "stdout",
     "output_type": "stream",
     "text": [
      "(28, 28)\n",
      "784\n"
     ]
    }
   ],
   "source": [
    "IMAGE_SIZE     = x_train.shape[1:]\n",
    "IMAGE_1D_SIZE  = functools.reduce(lambda a,b:a*b,  x_train.shape[1:])\n",
    "\n",
    "print(IMAGE_SIZE)\n",
    "print(IMAGE_1D_SIZE)"
   ]
  },
  {
   "cell_type": "code",
   "execution_count": null,
   "metadata": {
    "id": "12tR3QgyQimB"
   },
   "outputs": [],
   "source": [
    "x_train = x_train.reshape([-1,IMAGE_1D_SIZE]).astype('float32')\n",
    "x_test  = x_test.reshape([-1,IMAGE_1D_SIZE]).astype('float32')"
   ]
  },
  {
   "cell_type": "code",
   "execution_count": null,
   "metadata": {
    "colab": {
     "base_uri": "https://localhost:8080/"
    },
    "executionInfo": {
     "elapsed": 1217,
     "status": "ok",
     "timestamp": 1606480300523,
     "user": {
      "displayName": "Михаил Ронкин",
      "photoUrl": "",
      "userId": "11415097040659511675"
     },
     "user_tz": -300
    },
    "id": "mhm_YCceQimB",
    "outputId": "67a6f75c-0276-452e-ddc9-b6c3a7eabef7"
   },
   "outputs": [
    {
     "name": "stdout",
     "output_type": "stream",
     "text": [
      "Shape of the training images (60000, 784)\n"
     ]
    }
   ],
   "source": [
    "#rescale the image to [0-1] range\n",
    "x_train = x_train/ 255\n",
    "x_test  = x_test/ 255\n",
    "\n",
    "print(\"Shape of the training images\",x_train.shape)"
   ]
  },
  {
   "cell_type": "markdown",
   "metadata": {
    "id": "_fZrh2mIQimB"
   },
   "source": [
    "<font size=4 face='Calibri' color = black style='Line-height:1.5em'>\n",
    "    \n",
    "визуализация"
   ]
  },
  {
   "cell_type": "code",
   "execution_count": null,
   "metadata": {
    "id": "kjRa89fKQimB"
   },
   "outputs": [],
   "source": [
    "def plot_mnist_images(data, img_shape = IMAGE_SIZE):\n",
    "    \n",
    "    imgs = data.reshape(-1,img_shape[0],img_shape[1])   \n",
    "    \n",
    "    edge_of_imgs = int(np.sqrt(data.shape[0]))\n",
    "    \n",
    "    n_of_imgs = (edge_of_imgs)**2\n",
    "\n",
    "    fig = plt.figure(figsize=(4, 4)) # create fugure \n",
    "\n",
    "    fig.subplots_adjust(left=0, right=1, bottom=0, top=1, hspace=0.05, wspace=0.05)\n",
    "\n",
    "    plt.cla()\n",
    "    \n",
    "    for i in range(n_of_imgs):\n",
    "\n",
    "        ax = fig.add_subplot(edge_of_imgs, edge_of_imgs, i + 1, xticks=[], yticks=[])\n",
    "\n",
    "        ax.imshow(imgs[i,:], cmap='binary')\n",
    "    \n",
    "    # Show the plot\n",
    "    plt.show()"
   ]
  },
  {
   "cell_type": "code",
   "execution_count": null,
   "metadata": {
    "colab": {
     "base_uri": "https://localhost:8080/",
     "height": 340
    },
    "executionInfo": {
     "elapsed": 1697,
     "status": "ok",
     "timestamp": 1606480301031,
     "user": {
      "displayName": "Михаил Ронкин",
      "photoUrl": "",
      "userId": "11415097040659511675"
     },
     "user_tz": -300
    },
    "id": "ipQhVcO6QimB",
    "outputId": "cafaf58a-ac1c-4a5e-f3e3-426305a5dd44",
    "scrolled": true
   },
   "outputs": [
    {
     "data": {
      "image/png": "[encoded data removed]",
      "text/plain": [
       "<Figure size 288x288 with 10 Axes>"
      ]
     },
     "metadata": {
      "needs_background": "light",
      "tags": []
     },
     "output_type": "display_data"
    }
   ],
   "source": [
    "plot_mnist_images(x_train[:9], (28,28))"
   ]
  },
  {
   "cell_type": "markdown",
   "metadata": {
    "id": "UegUMetuQimB"
   },
   "source": [
    "## 4.2 Создание ГАН (генератора и дискреминатора) "
   ]
  },
  {
   "cell_type": "markdown",
   "metadata": {
    "id": "7EUkrUjBQimB"
   },
   "source": [
    "<font size=5 face='Calibri' style='Line-height:1.5em'>\n",
    "будем использовать шум размерности 100"
   ]
  },
  {
   "cell_type": "code",
   "execution_count": null,
   "metadata": {
    "id": "6__nQnF5QimB"
   },
   "outputs": [],
   "source": [
    "#Dimention of random vector using for sampling\n",
    "Z_SHAPE = 100"
   ]
  },
  {
   "cell_type": "markdown",
   "metadata": {
    "id": "ehTWh57EQimB"
   },
   "source": [
    "**генератор**"
   ]
  },
  {
   "cell_type": "code",
   "execution_count": null,
   "metadata": {
    "colab": {
     "base_uri": "https://localhost:8080/"
    },
    "executionInfo": {
     "elapsed": 2443,
     "status": "ok",
     "timestamp": 1606480301806,
     "user": {
      "displayName": "Михаил Ронкин",
      "photoUrl": "",
      "userId": "11415097040659511675"
     },
     "user_tz": -300
    },
    "id": "1RVz9dZkQimB",
    "outputId": "b42ffa23-3d04-49cb-eebe-2098c4999334"
   },
   "outputs": [
    {
     "name": "stdout",
     "output_type": "stream",
     "text": [
      "Model: \"generator\"\n",
      "_________________________________________________________________\n",
      "Layer (type)                 Output Shape              Param #   \n",
      "=================================================================\n",
      "g_input (InputLayer)         [(None, 100)]             0         \n",
      "_________________________________________________________________\n",
      "dense_22 (Dense)             (None, 128)               12928     \n",
      "_________________________________________________________________\n",
      "activation_22 (Activation)   (None, 128)               0         \n",
      "_________________________________________________________________\n",
      "dense_23 (Dense)             (None, 784)               101136    \n",
      "_________________________________________________________________\n",
      "activation_23 (Activation)   (None, 784)               0         \n",
      "=================================================================\n",
      "Total params: 114,064\n",
      "Trainable params: 114,064\n",
      "Non-trainable params: 0\n",
      "_________________________________________________________________\n"
     ]
    }
   ],
   "source": [
    "#unput layer\n",
    "g_input = tf.keras.layers.Input(shape=[Z_SHAPE], name=\"g_input\")\n",
    "\n",
    "#hidden layer\n",
    "H = tf.keras.layers.Dense(128)(g_input)\n",
    "H = tf.keras.layers.Activation('relu')(H)\n",
    "\n",
    "#output layer\n",
    "g_output = tf.keras.layers.Dense(IMAGE_1D_SIZE)(H)\n",
    "g_output = tf.keras.layers.Activation('sigmoid')(g_output)\n",
    "\n",
    "#compil midel\n",
    "generator = tf.keras.models.Model(g_input,g_output, name=\"generator\")\n",
    "\n",
    "# see what obtained\n",
    "generator.summary()\n"
   ]
  },
  {
   "cell_type": "markdown",
   "metadata": {
    "id": "2kTkVl1ZQimB"
   },
   "source": [
    "<font size=4  face = 'Calibri' style='Line-height : 1.5em'>    \n",
    "**дискриминатор - классифицирующая сеть**"
   ]
  },
  {
   "cell_type": "code",
   "execution_count": null,
   "metadata": {
    "colab": {
     "base_uri": "https://localhost:8080/"
    },
    "executionInfo": {
     "elapsed": 2431,
     "status": "ok",
     "timestamp": 1606480301808,
     "user": {
      "displayName": "Михаил Ронкин",
      "photoUrl": "",
      "userId": "11415097040659511675"
     },
     "user_tz": -300
    },
    "id": "uwV2OSm4QimB",
    "outputId": "53944bde-4d52-4a26-d3bf-9bb0452b9655"
   },
   "outputs": [
    {
     "name": "stdout",
     "output_type": "stream",
     "text": [
      "Model: \"discriminator\"\n",
      "_________________________________________________________________\n",
      "Layer (type)                 Output Shape              Param #   \n",
      "=================================================================\n",
      "d_input (InputLayer)         [(None, 784)]             0         \n",
      "_________________________________________________________________\n",
      "dense_24 (Dense)             (None, 128)               100480    \n",
      "_________________________________________________________________\n",
      "activation_24 (Activation)   (None, 128)               0         \n",
      "_________________________________________________________________\n",
      "dense_25 (Dense)             (None, 1)                 129       \n",
      "_________________________________________________________________\n",
      "activation_25 (Activation)   (None, 1)                 0         \n",
      "=================================================================\n",
      "Total params: 100,609\n",
      "Trainable params: 100,609\n",
      "Non-trainable params: 0\n",
      "_________________________________________________________________\n"
     ]
    }
   ],
   "source": [
    "LR = 9e-4\n",
    "\n",
    "\n",
    "#input layer\n",
    "d_input = tf.keras.layers.Input(shape=[IMAGE_1D_SIZE],  name=\"d_input\")\n",
    "\n",
    "#hidden layer\n",
    "H = tf.keras.layers.Dense(128)(d_input)\n",
    "H = tf.keras.layers.Activation('relu')(H)\n",
    "\n",
    "#output layer\n",
    "d_output = tf.keras.layers.Dense(1)(H)\n",
    "d_output = tf.keras.layers.Activation('sigmoid')(d_output)\n",
    "\n",
    "# create model\n",
    "discriminator = tf.keras.models.Model(d_input,d_output, name=\"discriminator\")\n",
    "\n",
    "#compil midel\n",
    "d_optimizer = tf.keras.optimizers.Adam(lr=LR)\n",
    "discriminator.compile(loss='binary_crossentropy', optimizer=d_optimizer)\n",
    "\n",
    "# see what obtained\n",
    "discriminator.summary()"
   ]
  },
  {
   "cell_type": "markdown",
   "metadata": {
    "id": "SImn1-I-QimB"
   },
   "source": [
    "<font size=4  face = 'Calibri' style='Line-height : 1.5em'> \n",
    "\n",
    "функция, чтобы сделать слои нетренируемыми \n",
    "\n",
    "\n"
   ]
  },
  {
   "cell_type": "markdown",
   "metadata": {
    "id": "F1tZnJyZQimB"
   },
   "source": [
    "<font size=4  face = 'Calibri' style='Line-height : 1.5em'> \n",
    "\n",
    "**NOTE**\n",
    "мы будем использовать дискриминатор с фиксированными параметрами при обучении генератора"
   ]
  },
  {
   "cell_type": "markdown",
   "metadata": {
    "id": "EeztSurwQimB"
   },
   "source": [
    "<font size=4  face = 'Calibri' style='Line-height : 1.3em' color=red> \n",
    "\n",
    "**В силу некоторых технических недочетов keras имено тут надо замораживать слои**"
   ]
  },
  {
   "cell_type": "code",
   "execution_count": null,
   "metadata": {
    "id": "F4uSeOZ6QimC"
   },
   "outputs": [],
   "source": [
    "def make_trainable(net, val=True):\n",
    "    net.trainable = val\n",
    "    for l in net.layers:\n",
    "        l.trainable = val\n",
    "\n",
    "# Freeze weights in the discriminator for adversarial training\n",
    "make_trainable(discriminator, False)\n"
   ]
  },
  {
   "cell_type": "markdown",
   "metadata": {
    "id": "DAisF1HQQimC"
   },
   "source": [
    "<font size=6  face = 'Calibri' style='Line-height : 1.5em'> \n",
    "**ГАН - Генеративно состязательная сеть**"
   ]
  },
  {
   "cell_type": "code",
   "execution_count": null,
   "metadata": {
    "colab": {
     "base_uri": "https://localhost:8080/"
    },
    "executionInfo": {
     "elapsed": 2410,
     "status": "ok",
     "timestamp": 1606480301810,
     "user": {
      "displayName": "Михаил Ронкин",
      "photoUrl": "",
      "userId": "11415097040659511675"
     },
     "user_tz": -300
    },
    "id": "hDlXmuQAQimC",
    "outputId": "84addc57-f036-487b-e755-aebc9c311209"
   },
   "outputs": [
    {
     "name": "stdout",
     "output_type": "stream",
     "text": [
      "Model: \"generator_adversarial\"\n",
      "_________________________________________________________________\n",
      "Layer (type)                 Output Shape              Param #   \n",
      "=================================================================\n",
      "gan_z_input (InputLayer)     [(None, 100)]             0         \n",
      "_________________________________________________________________\n",
      "generator (Functional)       (None, 784)               114064    \n",
      "_________________________________________________________________\n",
      "discriminator (Functional)   (None, 1)                 100609    \n",
      "=================================================================\n",
      "Total params: 214,673\n",
      "Trainable params: 114,064\n",
      "Non-trainable params: 100,609\n",
      "_________________________________________________________________\n"
     ]
    }
   ],
   "source": [
    "LR = 9e-4\n",
    "\n",
    "# Build stacked GAN model to train the generator\n",
    "gan_input = tf.keras.layers.Input(shape=[Z_SHAPE], name=\"gan_z_input\")\n",
    "gan_fake_samples = generator(gan_input)\n",
    "gan_output = discriminator(gan_fake_samples)\n",
    "\n",
    "#create model \n",
    "gan = tf.keras.models.Model(gan_input, gan_output, name=\"generator_adversarial\")\n",
    "\n",
    "#compile model \n",
    "gan_optimizer = tf.keras.optimizers.Adam(lr=LR)\n",
    "gan.compile(loss='binary_crossentropy', optimizer=gan_optimizer)\n",
    "\n",
    "# see the model\n",
    "gan.summary()"
   ]
  },
  {
   "cell_type": "markdown",
   "metadata": {
    "id": "5Pe32DA4QimC"
   },
   "source": [
    "## 4.3 Тренировка GAN"
   ]
  },
  {
   "cell_type": "markdown",
   "metadata": {
    "id": "ySzRGOihQimC"
   },
   "source": [
    "<font size=4  face = 'Calibri' style='Line-height : 1.5em'>  \n",
    "    \n",
    " процедура тренировки состоит из 2 \n",
    " этапов\n",
    " </font>\n",
    " \n",
    " \n",
    "1 этап - генерация изображений генератором \n",
    "и присвоение им класса 0 и выборка реальных изображений с классом 1 и обучение дискриминатора на сформированном наборе данных.\n",
    "\n",
    "\n",
    "2 этап - обучение генератора с фиксированным дискриминатором генерировать данные из шума."
   ]
  },
  {
   "cell_type": "markdown",
   "metadata": {
    "id": "Aze_0fVEQimC"
   },
   "source": [
    "\n",
    "\n",
    "<font size =5 face = 'Calibri' >    \n",
    "    \n",
    "функция, для создания шума на входе генератора"
   ]
  },
  {
   "cell_type": "code",
   "execution_count": null,
   "metadata": {
    "id": "jRqRo7NeQimC"
   },
   "outputs": [],
   "source": [
    "def random_Z(m, n=Z_SHAPE):\n",
    "    return np.random.uniform(-1., 1., size=[m, n])    "
   ]
  },
  {
   "cell_type": "markdown",
   "metadata": {
    "id": "leo1wQe8QimC"
   },
   "source": [
    "<font size =5 face = 'Calibri' >\n",
    "    \n",
    "вспомогательные процедуры"
   ]
  },
  {
   "cell_type": "code",
   "execution_count": null,
   "metadata": {
    "id": "cj9kc7RLQimC"
   },
   "outputs": [],
   "source": [
    "#save losses \n",
    "losses = {}\n",
    "losses[\"gan_loss\"] = []\n",
    "losses[\"d_loss\"]   = []"
   ]
  },
  {
   "cell_type": "markdown",
   "metadata": {
    "id": "5B8x1UTYQimC"
   },
   "source": [
    "<font size =5 face = 'Calibri' >\n",
    "    \n",
    "    \n",
    "**тренеровка** "
   ]
  },
  {
   "cell_type": "code",
   "execution_count": null,
   "metadata": {
    "colab": {
     "base_uri": "https://localhost:8080/",
     "height": 1000
    },
    "executionInfo": {
     "elapsed": 538574,
     "status": "ok",
     "timestamp": 1606480845689,
     "user": {
      "displayName": "Михаил Ронкин",
      "photoUrl": "",
      "userId": "11415097040659511675"
     },
     "user_tz": -300
    },
    "id": "aIw1AL_LQimC",
    "outputId": "fdbd76ae-0013-4e4a-826b-21ee42017fda",
    "scrolled": true
   },
   "outputs": [
    {
     "name": "stdout",
     "output_type": "stream",
     "text": [
      "Epoch:  0\n",
      "Discriminator loss:  0.6748327016830444\n",
      "Generator loss: 2.5252654552459717\n"
     ]
    },
    {
     "data": {
      "image/png": "[encoded data removed]",
      "text/plain": [
       "<Figure size 288x288 with 10 Axes>"
      ]
     },
     "metadata": {
      "needs_background": "light",
      "tags": []
     },
     "output_type": "display_data"
    },
    {
     "name": "stdout",
     "output_type": "stream",
     "text": [
      "Epoch:  1500\n",
      "Discriminator loss:  0.02027037739753723\n",
      "Generator loss: 4.883783340454102\n"
     ]
    },
    {
     "data": {
      "image/png": "[encoded data removed]",
      "text/plain": [
       "<Figure size 288x288 with 10 Axes>"
      ]
     },
     "metadata": {
      "needs_background": "light",
      "tags": []
     },
     "output_type": "display_data"
    },
    {
     "name": "stdout",
     "output_type": "stream",
     "text": [
      "Epoch:  3000\n",
      "Discriminator loss:  0.052065931260585785\n",
      "Generator loss: 5.4890007972717285\n"
     ]
    },
    {
     "data": {
      "image/png": "[encoded data removed]",
      "text/plain": [
       "<Figure size 288x288 with 10 Axes>"
      ]
     },
     "metadata": {
      "needs_background": "light",
      "tags": []
     },
     "output_type": "display_data"
    },
    {
     "name": "stdout",
     "output_type": "stream",
     "text": [
      "Epoch:  4500\n",
      "Discriminator loss:  0.10429717600345612\n",
      "Generator loss: 4.177538871765137\n"
     ]
    },
    {
     "data": {
      "image/png": "[encoded data removed]",
      "text/plain": [
       "<Figure size 288x288 with 10 Axes>"
      ]
     },
     "metadata": {
      "needs_background": "light",
      "tags": []
     },
     "output_type": "display_data"
    },
    {
     "name": "stdout",
     "output_type": "stream",
     "text": [
      "Epoch:  6000\n",
      "Discriminator loss:  0.0875246673822403\n",
      "Generator loss: 4.758760452270508\n"
     ]
    },
    {
     "data": {
      "image/png": "[encoded data removed]",
      "text/plain": [
       "<Figure size 288x288 with 10 Axes>"
      ]
     },
     "metadata": {
      "needs_background": "light",
      "tags": []
     },
     "output_type": "display_data"
    },
    {
     "name": "stdout",
     "output_type": "stream",
     "text": [
      "Epoch:  7500\n",
      "Discriminator loss:  0.244710773229599\n",
      "Generator loss: 2.768871784210205\n"
     ]
    },
    {
     "data": {
      "image/png": "[encoded data removed]",
      "text/plain": [
       "<Figure size 288x288 with 10 Axes>"
      ]
     },
     "metadata": {
      "needs_background": "light",
      "tags": []
     },
     "output_type": "display_data"
    },
    {
     "name": "stdout",
     "output_type": "stream",
     "text": [
      "Epoch:  9000\n",
      "Discriminator loss:  0.23804232478141785\n",
      "Generator loss: 2.9235591888427734\n"
     ]
    },
    {
     "data": {
      "image/png": "[encoded data removed]",
      "text/plain": [
       "<Figure size 288x288 with 10 Axes>"
      ]
     },
     "metadata": {
      "needs_background": "light",
      "tags": []
     },
     "output_type": "display_data"
    },
    {
     "name": "stdout",
     "output_type": "stream",
     "text": [
      "Epoch:  10500\n",
      "Discriminator loss:  0.3897249698638916\n",
      "Generator loss: 2.854733943939209\n"
     ]
    },
    {
     "data": {
      "image/png": "[encoded data removed]",
      "text/plain": [
       "<Figure size 288x288 with 10 Axes>"
      ]
     },
     "metadata": {
      "needs_background": "light",
      "tags": []
     },
     "output_type": "display_data"
    },
    {
     "name": "stdout",
     "output_type": "stream",
     "text": [
      "Epoch:  12000\n",
      "Discriminator loss:  0.3873051702976227\n",
      "Generator loss: 2.3427109718322754\n"
     ]
    },
    {
     "data": {
      "image/png": "[encoded data removed]",
      "text/plain": [
       "<Figure size 288x288 with 10 Axes>"
      ]
     },
     "metadata": {
      "needs_background": "light",
      "tags": []
     },
     "output_type": "display_data"
    },
    {
     "name": "stdout",
     "output_type": "stream",
     "text": [
      "Epoch:  13500\n",
      "Discriminator loss:  0.3473866283893585\n",
      "Generator loss: 2.3499131202697754\n"
     ]
    },
    {
     "data": {
      "image/png": "[encoded data removed]",
      "text/plain": [
       "<Figure size 288x288 with 10 Axes>"
      ]
     },
     "metadata": {
      "needs_background": "light",
      "tags": []
     },
     "output_type": "display_data"
    },
    {
     "name": "stdout",
     "output_type": "stream",
     "text": [
      "Epoch:  15000\n",
      "Discriminator loss:  0.3835495114326477\n",
      "Generator loss: 2.304947853088379\n"
     ]
    },
    {
     "data": {
      "image/png": "[encoded data removed]",
      "text/plain": [
       "<Figure size 288x288 with 10 Axes>"
      ]
     },
     "metadata": {
      "needs_background": "light",
      "tags": []
     },
     "output_type": "display_data"
    },
    {
     "name": "stdout",
     "output_type": "stream",
     "text": [
      "Epoch:  16500\n",
      "Discriminator loss:  0.5645188093185425\n",
      "Generator loss: 1.8531239032745361\n"
     ]
    },
    {
     "data": {
      "image/png": "[encoded data removed]",
      "text/plain": [
       "<Figure size 288x288 with 10 Axes>"
      ]
     },
     "metadata": {
      "needs_background": "light",
      "tags": []
     },
     "output_type": "display_data"
    },
    {
     "name": "stdout",
     "output_type": "stream",
     "text": [
      "Epoch:  18000\n",
      "Discriminator loss:  0.42430609464645386\n",
      "Generator loss: 1.6774439811706543\n"
     ]
    },
    {
     "data": {
      "image/png": "[encoded data removed]",
      "text/plain": [
       "<Figure size 288x288 with 10 Axes>"
      ]
     },
     "metadata": {
      "needs_background": "light",
      "tags": []
     },
     "output_type": "display_data"
    },
    {
     "name": "stdout",
     "output_type": "stream",
     "text": [
      "Epoch:  19500\n",
      "Discriminator loss:  0.44557684659957886\n",
      "Generator loss: 1.7806299924850464\n"
     ]
    },
    {
     "data": {
      "image/png": "[encoded data removed]",
      "text/plain": [
       "<Figure size 288x288 with 10 Axes>"
      ]
     },
     "metadata": {
      "needs_background": "light",
      "tags": []
     },
     "output_type": "display_data"
    },
    {
     "name": "stdout",
     "output_type": "stream",
     "text": [
      "Epoch:  21000\n",
      "Discriminator loss:  0.33287954330444336\n",
      "Generator loss: 2.085783004760742\n"
     ]
    },
    {
     "data": {
      "image/png": "[encoded data removed]",
      "text/plain": [
       "<Figure size 288x288 with 10 Axes>"
      ]
     },
     "metadata": {
      "needs_background": "light",
      "tags": []
     },
     "output_type": "display_data"
    },
    {
     "name": "stdout",
     "output_type": "stream",
     "text": [
      "Epoch:  22500\n",
      "Discriminator loss:  0.37482380867004395\n",
      "Generator loss: 1.8962371349334717\n"
     ]
    },
    {
     "data": {
      "image/png": "[encoded data removed]",
      "text/plain": [
       "<Figure size 288x288 with 10 Axes>"
      ]
     },
     "metadata": {
      "needs_background": "light",
      "tags": []
     },
     "output_type": "display_data"
    },
    {
     "name": "stdout",
     "output_type": "stream",
     "text": [
      "Epoch:  24000\n",
      "Discriminator loss:  0.38339662551879883\n",
      "Generator loss: 1.8427135944366455\n"
     ]
    },
    {
     "data": {
      "image/png": "[encoded data removed]",
      "text/plain": [
       "<Figure size 288x288 with 10 Axes>"
      ]
     },
     "metadata": {
      "needs_background": "light",
      "tags": []
     },
     "output_type": "display_data"
    },
    {
     "name": "stdout",
     "output_type": "stream",
     "text": [
      "Epoch:  25500\n",
      "Discriminator loss:  0.4600101411342621\n",
      "Generator loss: 1.828047513961792\n"
     ]
    },
    {
     "data": {
      "image/png": "[encoded data removed]",
      "text/plain": [
       "<Figure size 288x288 with 10 Axes>"
      ]
     },
     "metadata": {
      "needs_background": "light",
      "tags": []
     },
     "output_type": "display_data"
    },
    {
     "name": "stdout",
     "output_type": "stream",
     "text": [
      "Epoch:  27000\n",
      "Discriminator loss:  0.4194336533546448\n",
      "Generator loss: 1.7807140350341797\n"
     ]
    },
    {
     "data": {
      "image/png": "[encoded data removed]",
      "text/plain": [
       "<Figure size 288x288 with 10 Axes>"
      ]
     },
     "metadata": {
      "needs_background": "light",
      "tags": []
     },
     "output_type": "display_data"
    },
    {
     "name": "stdout",
     "output_type": "stream",
     "text": [
      "Epoch:  28500\n",
      "Discriminator loss:  0.42180687189102173\n",
      "Generator loss: 1.8579199314117432\n"
     ]
    },
    {
     "data": {
      "image/png": "[encoded data removed]",
      "text/plain": [
       "<Figure size 288x288 with 10 Axes>"
      ]
     },
     "metadata": {
      "needs_background": "light",
      "tags": []
     },
     "output_type": "display_data"
    }
   ],
   "source": [
    "batch_size = 64 #must be multiple of 2\n",
    "epochs     = 30000\n",
    "\n",
    "\n",
    "#save losses \n",
    "losses = {}\n",
    "losses[\"gan_loss\"] = []\n",
    "losses[\"d_loss\"]   = []\n",
    "\n",
    "for i in range(epochs):\n",
    "    \n",
    "    #generate images\n",
    "    synthetic_images = generator.predict_on_batch(random_Z(batch_size))\n",
    "    \n",
    "    #select from tranning set\n",
    "    real_images = x_train[np.random.randint(0,x_train.shape[0],size=batch_size),:]\n",
    "    \n",
    "    d_x = np.concatenate((synthetic_images, real_images))\n",
    "    d_y = np.zeros([2*batch_size,1])\n",
    "    \n",
    "    d_y[batch_size:] = 1 #second half of the batch are true images so have label 1 and fake (first half) have label 0\n",
    "        \n",
    "    #first discriminator\n",
    "    make_trainable(discriminator,True)\n",
    "    d_loss = discriminator.train_on_batch(d_x,d_y)\n",
    "    \n",
    "    #second generator in adversarail faction\n",
    "    gan_x = random_Z(2*batch_size)\n",
    "    gan_y = np.ones([2*batch_size,1])\n",
    "\n",
    "    make_trainable(discriminator,False)\n",
    "    gan_loss = gan.train_on_batch(gan_x,gan_y)\n",
    "    \n",
    "    losses[\"gan_loss\"] += [gan_loss]\n",
    "    losses[\"d_loss\"]   += [d_loss]\n",
    "\n",
    "    \n",
    "    if i%(epochs/20) == 0:\n",
    "        print(\"Epoch: \",i)\n",
    "        print(\"Discriminator loss: \",d_loss)\n",
    "        print(\"Generator loss:\",gan_loss)\n",
    "        \n",
    "        #sample 9 images from generator\n",
    "        generated_images = generator.predict_on_batch(random_Z(9))\n",
    "        plot_mnist_images(generated_images)\n"
   ]
  },
  {
   "cell_type": "markdown",
   "metadata": {
    "id": "CTMwGyu7QimC"
   },
   "source": [
    "<font size =5 face = 'Calibri' >\n",
    "    \n",
    "сохранение модели\n"
   ]
  },
  {
   "cell_type": "code",
   "execution_count": null,
   "metadata": {
    "colab": {
     "base_uri": "https://localhost:8080/"
    },
    "executionInfo": {
     "elapsed": 1248,
     "status": "ok",
     "timestamp": 1606480846990,
     "user": {
      "displayName": "Михаил Ронкин",
      "photoUrl": "",
      "userId": "11415097040659511675"
     },
     "user_tz": -300
    },
    "id": "bXXJXEAZQimC",
    "outputId": "3b9b4c08-e571-41a1-81ec-cbe67f0afd82"
   },
   "outputs": [
    {
     "name": "stdout",
     "output_type": "stream",
     "text": [
      "INFO:tensorflow:Assets written to: discriminator.h5py/assets\n"
     ]
    }
   ],
   "source": [
    "#Save models\n",
    "gan.save('gan.hdf5')\n",
    "discriminator.save('discriminator.h5py')"
   ]
  },
  {
   "cell_type": "markdown",
   "metadata": {
    "id": "exWBLEDZQimC"
   },
   "source": [
    "<font size =5 face = 'Calibri' >\n",
    "    \n",
    "Кривая обучения"
   ]
  },
  {
   "cell_type": "code",
   "execution_count": null,
   "metadata": {
    "colab": {
     "base_uri": "https://localhost:8080/",
     "height": 355
    },
    "executionInfo": {
     "elapsed": 1483,
     "status": "ok",
     "timestamp": 1606480847247,
     "user": {
      "displayName": "Михаил Ронкин",
      "photoUrl": "",
      "userId": "11415097040659511675"
     },
     "user_tz": -300
    },
    "id": "TiRLgLupQimC",
    "outputId": "a74fb870-d8e2-44f1-a009-d54d598e4e4a"
   },
   "outputs": [
    {
     "name": "stdout",
     "output_type": "stream",
     "text": [
      "Discriminator loss:  0.41276663541793823\n",
      "Generator loss: 2.1325385570526123\n",
      "\n",
      " Plot learning curves \n",
      "\n"
     ]
    },
    {
     "data": {
      "image/png": "[encoded data removed]",
      "text/plain": [
       "<Figure size 432x288 with 1 Axes>"
      ]
     },
     "metadata": {
      "needs_background": "light",
      "tags": []
     },
     "output_type": "display_data"
    }
   ],
   "source": [
    "print(\"Discriminator loss: \",d_loss)\n",
    "print(\"Generator loss:\",gan_loss)\n",
    "\n",
    "print(\"\\n Plot learning curves \\n\")\n",
    "\n",
    "plt.plot(losses[\"gan_loss\"], label='discriminitive loss')\n",
    "plt.plot(losses[\"d_loss\"], label='generative loss')\n",
    "plt.legend()\n",
    "plt.show()"
   ]
  },
  {
   "cell_type": "markdown",
   "metadata": {
    "id": "X6drBf9BQimC"
   },
   "source": [
    "<font size =5 face = 'Calibri' >\n",
    "\n",
    "**резуьлтат обучения**\n",
    "\n",
    "создадим 9 изображений из шума (`random_Z(9)`)"
   ]
  },
  {
   "cell_type": "code",
   "execution_count": null,
   "metadata": {
    "colab": {
     "base_uri": "https://localhost:8080/",
     "height": 340
    },
    "executionInfo": {
     "elapsed": 1751,
     "status": "ok",
     "timestamp": 1606480847530,
     "user": {
      "displayName": "Михаил Ронкин",
      "photoUrl": "",
      "userId": "11415097040659511675"
     },
     "user_tz": -300
    },
    "id": "9YiYqRIlQimC",
    "outputId": "c84e94aa-d5c2-4907-84d6-f1a5e2482682"
   },
   "outputs": [
    {
     "data": {
      "image/png": "[encoded data removed]",
      "text/plain": [
       "<Figure size 288x288 with 10 Axes>"
      ]
     },
     "metadata": {
      "needs_background": "light",
      "tags": []
     },
     "output_type": "display_data"
    }
   ],
   "source": [
    "generated_images = generator.predict_on_batch(random_Z(9))\n",
    "plot_mnist_images(generated_images)"
   ]
  },
  {
   "cell_type": "markdown",
   "metadata": {
    "id": "Zn26Lz74QimC"
   },
   "source": [
    "## 4.4 Упражнения"
   ]
  },
  {
   "cell_type": "markdown",
   "metadata": {
    "id": "GZ2NGKSFQimC"
   },
   "source": [
    "<font size =4 face = 'Calibri' >\n",
    "    \n",
    "**1.**  исследовать ГАН в зависимости от параметров модели и числа слоев"
   ]
  },
  {
   "cell_type": "code",
   "execution_count": null,
   "metadata": {
    "id": "sDHgCt5pQimC"
   },
   "outputs": [],
   "source": [
    "#"
   ]
  },
  {
   "cell_type": "markdown",
   "metadata": {
    "id": "l0kcqNP4QimC"
   },
   "source": [
    "\n",
    "</font> <font size =4 face = 'Calibri' style='Line-heght:1.5em'>\n",
    "    \n",
    "**2.** преорбазовать модель в сверточный ГАН"
   ]
  },
  {
   "cell_type": "code",
   "execution_count": null,
   "metadata": {
    "id": "-dsU8gCdQimC"
   },
   "outputs": [],
   "source": [
    "#"
   ]
  }
 ],
 "metadata": {
  "accelerator": "TPU",
  "colab": {
   "collapsed_sections": [],
   "name": "lab8_rus",
   "provenance": [
    {
     "file_id": "https://github.com/tensorflow/tpu/blob/master/tools/colab/fashion_mnist.ipynb",
     "timestamp": 1606453746269
    }
   ],
   "toc_visible": true
  },
  "kernelspec": {
   "display_name": "Python 3",
   "language": "python",
   "name": "python3"
  },
  "language_info": {
   "codemirror_mode": {
    "name": "ipython",
    "version": 3
   },
   "file_extension": ".py",
   "mimetype": "text/x-python",
   "name": "python",
   "nbconvert_exporter": "python",
   "pygments_lexer": "ipython3",
   "version": "3.7.0"
  }
 },
 "nbformat": 4,
 "nbformat_minor": 4
}
