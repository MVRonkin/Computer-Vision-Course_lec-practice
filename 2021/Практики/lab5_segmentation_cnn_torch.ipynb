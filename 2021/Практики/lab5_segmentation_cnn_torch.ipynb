{
 "cells": [
  {
   "cell_type": "markdown",
   "metadata": {
    "id": "NGJeybGmqOhe"
   },
   "source": [
    "# Сверточные нейронные сети в PyTorch"
   ]
  },
  {
   "cell_type": "markdown",
   "metadata": {
    "id": "SW2hW1awqOhi"
   },
   "source": [
    "- - -"
   ]
  },
  {
   "cell_type": "markdown",
   "metadata": {
    "id": "YzysK4rIqOhi"
   },
   "source": [
    "## Сегментационные модели сверточных сетей"
   ]
  },
  {
   "cell_type": "markdown",
   "metadata": {
    "id": "ABy_9oDnqOhi"
   },
   "source": [
    "В предыдущих примерах мы рассмотрели задачу классификации. Однако, это не едиственная задача, которую можно решать нейронными сетями.\n",
    "В данном примере рассмотрим задачу семантической сегментации. \n",
    "\n",
    "\n",
    "В таких задачах требуется выделение каких-либо объектов в выходных данных (например, изображении) из входных данных (например, входного изображения).\n",
    "\n",
    "\n",
    "Работу сети можно проиллюстрировать следующим образом.\n",
    "\n",
    "![](https://encrypted-tbn0.gstatic.com/images?q=tbn%3AANd9GcSJqjFWfg48nnHgI8qERMXbsFvHPUuK7EIzSQ&usqp=CAU)"
   ]
  },
  {
   "cell_type": "markdown",
   "metadata": {
    "id": "oM20Oc2mqOhi"
   },
   "source": [
    "Задачу сематической сегментации рассмотрим для модели нейронной сети UNet.\n",
    "Данная сеть, как и большинство сегментационных моделей, состоит из двух частей: энкодера и декодера.\n",
    "\n",
    "Цель первой части (энкодера) - сжатие исходных данных в т.н. \"набор карт латентных признаков\". \n",
    "\n",
    "То есть, по существу, закодировать входную информацию с избыточностью так, чтобы потом можно было раскодировать только то, что нужно - задано выходной маской.\n",
    "\n",
    "Цель второй части (декдера) - раскодирование набора латентных признаков так, чтобы остался выделенным только нужный объект.\n",
    "\n",
    "Особенность сети UNet заключается в том, что при раскодировании используется не только информацию декодера, но и информация из энкода.\n",
    "Это достигается за счет соединения слоев, получаемых в декодере непосредственно и аналогичных по размеру слоев энкодера.\n",
    "\n",
    "Схема данной сети показана на рисунке ниже.\n",
    "\n",
    "![](https://miro.medium.com/max/770/1*XvJffq5FAdDS4FoCqUb76g.png)\n"
   ]
  },
  {
   "cell_type": "markdown",
   "metadata": {
    "id": "mUzh01WmqOhi"
   },
   "source": [
    "**Импорт основных библиотек**"
   ]
  },
  {
   "cell_type": "code",
   "execution_count": null,
   "metadata": {
    "id": "uuAAExjFqOhi"
   },
   "outputs": [],
   "source": [
    "import torch\n",
    "import torch.nn as nn\n",
    "import torch.nn.functional as F\n",
    "from torchsummary import summary\n",
    "import torch.optim as optim\n",
    "from torch.optim import lr_scheduler\n",
    "\n",
    "from torch.utils.data import Dataset, DataLoader\n",
    "from torchvision import transforms, datasets, models"
   ]
  },
  {
   "cell_type": "code",
   "execution_count": null,
   "metadata": {
    "id": "NP3U8W7oqOhi"
   },
   "outputs": [],
   "source": [
    "import time\n",
    "import copy\n",
    "import numpy as np\n",
    "import random\n",
    "import matplotlib.pyplot as plt\n",
    "\n",
    "from PIL import Image"
   ]
  },
  {
   "cell_type": "markdown",
   "metadata": {
    "id": "w54LaTESqOhi"
   },
   "source": [
    "Создадим датасет - будем использовать готовый пример, взятый [тут](https://github.com/usuyama/pytorch-unet), однако не много измененный. \n",
    "\n",
    "Будем создавать изображения, на которых имеются разные геометрические фигуры.\n",
    "Допустим, что из этих фигур нас интересует треугольник. Поэтому мы будем генерировать изображения с разными фигурами в качестве входных и выходное изображение (т.н. маску) в виде треугольника.\n"
   ]
  },
  {
   "cell_type": "code",
   "execution_count": null,
   "metadata": {
    "id": "jGlKVKWpqOhi"
   },
   "outputs": [],
   "source": [
    "# Owned here https://github.com/usuyama/pytorch-unet\n",
    "\n",
    "def generate_random_data(height, width, count):\n",
    "    x, y = zip(*[generate_img_and_mask(height, width) for i in range(0, count)])\n",
    "    X = np.asarray(x) * 255\n",
    "    X = X.transpose([0, 2, 3, 1]).astype(np.uint8)\n",
    "    Y = np.asarray(y)\n",
    "    return X, Y\n",
    "\n",
    "def generate_img_and_mask(height, width):\n",
    "    shape = (height, width)\n",
    "\n",
    "    triangle_location = get_random_location(*shape, zoom = 2)\n",
    "    circle_location1  = get_random_location(*shape, zoom=1)\n",
    "    circle_location2  = get_random_location(*shape, zoom=0.7)\n",
    "    mesh_location     = get_random_location(*shape, zoom=0.7)\n",
    "    square_location   = get_random_location(*shape, zoom=0.4)\n",
    "    plus_location     = get_random_location(*shape, zoom=1.2)\n",
    "\n",
    "    # Create input image\n",
    "    arr = np.zeros(shape, dtype=bool)\n",
    "    arr = add_triangle(arr, *triangle_location)\n",
    "    arr = add_circle(arr, *circle_location1)\n",
    "    arr = add_circle(arr, *circle_location2, fill=True)\n",
    "    arr = add_mesh_square(arr, *mesh_location)\n",
    "    arr = add_filled_square(arr, *square_location)\n",
    "    arr = add_plus(arr, *plus_location)\n",
    "    arr = np.reshape(arr, (1, height, width)).astype(np.float32)\n",
    "\n",
    "    # Create target masks\n",
    "    masks = np.asarray([\n",
    "        add_filled_square(np.zeros(shape, dtype=bool), *square_location),\n",
    "        add_circle(np.zeros(shape, dtype=bool), *circle_location2, fill=True),\n",
    "        add_triangle(np.zeros(shape, dtype=bool), *triangle_location),\n",
    "        add_circle(np.zeros(shape, dtype=bool), *circle_location1),\n",
    "        add_filled_square(np.zeros(shape, dtype=bool), *mesh_location),\n",
    "        add_plus(np.zeros(shape, dtype=bool), *plus_location)]).astype(np.float32)\n",
    "\n",
    "    return arr, masks\n",
    "\n",
    "def add_square(arr, x, y, size):\n",
    "    s = int(size / 2)\n",
    "    arr[x-s,y-s:y+s] = True\n",
    "    arr[x+s,y-s:y+s] = True\n",
    "    arr[x-s:x+s,y-s] = True\n",
    "    arr[x-s:x+s,y+s] = True\n",
    "    return arr\n",
    "\n",
    "def add_filled_square(arr, x, y, size):\n",
    "    s = int(size / 2)\n",
    "    xx, yy = np.mgrid[:arr.shape[0], :arr.shape[1]]\n",
    "    return np.logical_or(arr, logical_and([xx > x - s, xx < x + s, yy > y - s, yy < y + s]))\n",
    "\n",
    "def logical_and(arrays):\n",
    "    new_array = np.ones(arrays[0].shape, dtype=bool)\n",
    "    for a in arrays:\n",
    "        new_array = np.logical_and(new_array, a)\n",
    "    return new_array\n",
    "\n",
    "def add_mesh_square(arr, x, y, size):\n",
    "    s = int(size / 2)\n",
    "    xx, yy = np.mgrid[:arr.shape[0], :arr.shape[1]]\n",
    "    return np.logical_or(arr, logical_and([xx > x - s, xx < x + s, xx % 2 == 1, yy > y - s, yy < y + s, yy % 2 == 1]))\n",
    "\n",
    "def add_triangle(arr, x, y, size):\n",
    "    s = int(size / 2)\n",
    "    triangle = np.tril(4*np.ones((size, size), dtype=bool))\n",
    "    arr[x-s:x-s+triangle.shape[0],y-s:y-s+triangle.shape[1]] = triangle\n",
    "    return arr\n",
    "\n",
    "def add_circle(arr, x, y, size, fill=False):\n",
    "    xx, yy = np.mgrid[:arr.shape[0], :arr.shape[1]]\n",
    "    circle = np.sqrt((xx - x) ** 2 + (yy - y) ** 2)\n",
    "    new_arr = np.logical_or(arr, np.logical_and(circle < size, circle >= size * 0.7 if not fill else True))\n",
    "    return new_arr\n",
    "\n",
    "def add_plus(arr, x, y, size):\n",
    "    s = int(size / 2)\n",
    "    arr[x-1:x+1,y-s:y+s] = True\n",
    "    arr[x-s:x+s,y-1:y+1] = True\n",
    "    return arr\n",
    "\n",
    "def get_random_location(width, height, zoom=1.0):\n",
    "    x = int(width * random.uniform(0.1, 0.9))\n",
    "    y = int(height * random.uniform(0.1, 0.9))\n",
    "    size = int(min(width, height) * random.uniform(0.06, 0.12) * zoom)\n",
    "    return (x, y, size)\n",
    "\n",
    "class SimDataset(Dataset):\n",
    "    def __init__(self, count, transform=None):\n",
    "        self.input_images, self.target_masks = generate_random_data(32, 32, count=count)\n",
    "        self.transform = transform\n",
    "\n",
    "    def __len__(self):\n",
    "        return len(self.input_images)\n",
    "\n",
    "    def __getitem__(self, idx):\n",
    "        image = self.input_images[idx]\n",
    "        mask  = self.target_masks[idx]\n",
    "        \n",
    "        if self.transform:\n",
    "            image = self.transform(image)\n",
    "\n",
    "        return [image, mask[:][2:3]]\n",
    "\n",
    "# use the same transformations for train/val in this example\n",
    "trans = transforms.Compose([\n",
    "        transforms.ToTensor(),\n",
    "        transforms.Normalize([0.5], [ 0.2])])\n",
    "\n",
    "train_set = SimDataset(2000, transform = trans)\n",
    "val_set  = SimDataset(200, transform = trans)\n",
    "\n",
    "image_datasets = {'train': train_set, 'val': val_set}\n",
    "\n",
    "batch_size = 8\n",
    "\n",
    "dataloaders = {\n",
    "    'train': DataLoader(train_set, batch_size=batch_size, shuffle=True, num_workers=0),\n",
    "    'val': DataLoader(val_set, batch_size=batch_size, shuffle=True, num_workers=0)\n",
    "}"
   ]
  },
  {
   "cell_type": "markdown",
   "metadata": {
    "id": "MxUUiE-ZqOhi"
   },
   "source": [
    "**Посмотрим на один минибатч из датасета - входные изображения и маски**"
   ]
  },
  {
   "cell_type": "code",
   "execution_count": null,
   "metadata": {
    "id": "ngxGeZRDqOhi",
    "outputId": "e4e0cd4a-ad55-4782-cbfc-a2b57cf67328"
   },
   "outputs": [
    {
     "name": "stdout",
     "output_type": "stream",
     "text": [
      "torch.Size([8, 1, 32, 32])\n",
      "torch.Size([8, 1, 32, 32])\n",
      "torch.Size([8, 1, 32, 32])\n",
      "torch.Size([8, 1, 32, 32])\n"
     ]
    },
    {
     "data": {
      "text/plain": [
       "<matplotlib.image.AxesImage at 0x1d8ae2720c8>"
      ]
     },
     "execution_count": 157,
     "metadata": {
      "tags": []
     },
     "output_type": "execute_result"
    },
    {
     "data": {
      "image/png": "[encoded data removed]",
      "text/plain": [
       "<Figure size 1152x288 with 4 Axes>"
      ]
     },
     "metadata": {
      "needs_background": "light",
      "tags": []
     },
     "output_type": "display_data"
    },
    {
     "data": {
      "image/png": "[encoded data removed]",
      "text/plain": [
       "<Figure size 1152x288 with 4 Axes>"
      ]
     },
     "metadata": {
      "needs_background": "light",
      "tags": []
     },
     "output_type": "display_data"
    }
   ],
   "source": [
    "images,masks = next(iter(dataloaders['train']))\n",
    "\n",
    "\n",
    "print(images.shape)\n",
    "\n",
    "print(images.shape)\n",
    "print(masks.shape)\n",
    "\n",
    "plt.figure(figsize=(16,4))\n",
    "plt.subplot(141);plt.imshow(images[0][0])\n",
    "plt.subplot(142);plt.imshow(images[1][0])\n",
    "plt.subplot(143);plt.imshow(images[2][0])\n",
    "plt.subplot(144);plt.imshow(images[3][0])\n",
    "\n",
    "print(images.shape)\n",
    "plt.figure(figsize=(16,4))\n",
    "plt.subplot(141);plt.imshow(masks[0][0])\n",
    "plt.subplot(142);plt.imshow(masks[1][0])\n",
    "plt.subplot(143);plt.imshow(masks[2][0])\n",
    "plt.subplot(144);plt.imshow(masks[3][0])"
   ]
  },
  {
   "cell_type": "markdown",
   "metadata": {
    "id": "HBQb9-6oqOhi"
   },
   "source": [
    "**Создадим класс нейронной сети**\n",
    "* Сеть будет состоять из 4 блоков энкодера и 4 блоков декотора.\n",
    "* Каждый блок будет состоять из двух операций свертки с ядром 3х3 и режмом same.\n",
    "* В энкодере будем использовать макспулин (MaxPool2d).\n",
    "* В декодере операцию, обратную макспулингу - (Upsample) методом билинейного преобразования.\n",
    "* Выберем \"одинарный\" размер (число) карт признаков как SIZE = 32."
   ]
  },
  {
   "cell_type": "code",
   "execution_count": null,
   "metadata": {
    "id": "3LZG986kqOhi"
   },
   "outputs": [],
   "source": [
    "def conv_block(in_channels, out_channels):\n",
    "    return nn.Sequential(\n",
    "        nn.Conv2d(in_channels,  out_channels, 3, padding=1),\n",
    "        nn.ReLU(inplace=True),\n",
    "        nn.Conv2d(out_channels, out_channels, 3, padding=1),\n",
    "        nn.ReLU(inplace=True)\n",
    "    )   \n",
    "\n",
    "SIZE = 32\n",
    "\n",
    "class UNet(nn.Module):\n",
    "\n",
    "    def __init__(self, n_class=1):\n",
    "        super().__init__()\n",
    "                \n",
    "        self.down1 = conv_block(1,      SIZE)\n",
    "        self.down2 = conv_block(SIZE,   SIZE*2)\n",
    "        self.down3 = conv_block(SIZE*2, SIZE*4)\n",
    "        self.down4 = conv_block(SIZE*4, SIZE*8)        \n",
    "\n",
    "        self.maxpool  = nn.MaxPool2d(2)\n",
    "        self.upsample = nn.Upsample(scale_factor=2, \n",
    "                                    mode='bilinear', \n",
    "                                    align_corners=True)        \n",
    "        \n",
    "        self.up3 = conv_block(SIZE*4 + SIZE*8, SIZE*4)\n",
    "        self.up2 = conv_block(SIZE*2 + SIZE*4, SIZE*2)\n",
    "        self.up1 = conv_block(SIZE*2 + SIZE,   SIZE)\n",
    "        \n",
    "        self.out = nn.Conv2d(SIZE, n_class, 1)\n",
    "        \n",
    "        \n",
    "    def forward(self, x):\n",
    "        \n",
    "        #ENCODER\n",
    "        conv1 = self.down1(x)\n",
    "        x = self.maxpool(conv1)\n",
    "\n",
    "        conv2 = self.down2(x)\n",
    "        x = self.maxpool(conv2)\n",
    "        \n",
    "        conv3 = self.down3(x)\n",
    "        x = self.maxpool(conv3)   \n",
    "        \n",
    "        x = self.down4(x)\n",
    "        \n",
    "        #DECODER\n",
    "        x = self.upsample(x)        \n",
    "        x = torch.cat([x, conv3], dim=1)\n",
    "        \n",
    "        x = self.up3(x)\n",
    "        x = self.upsample(x)        \n",
    "        x = torch.cat([x, conv2], dim=1)       \n",
    "\n",
    "        x = self.up2(x)\n",
    "        x = self.upsample(x)        \n",
    "        x = torch.cat([x, conv1], dim=1)   \n",
    "        \n",
    "        x = self.up1(x)\n",
    "        \n",
    "        out = self.out(x)\n",
    "        \n",
    "        return out"
   ]
  },
  {
   "cell_type": "markdown",
   "metadata": {
    "id": "L1s5K4JnqOhj"
   },
   "source": [
    "**Создадим экземпляр нейронной сети**"
   ]
  },
  {
   "cell_type": "code",
   "execution_count": null,
   "metadata": {
    "id": "6PTE1QBhqOhj",
    "outputId": "c5949e96-60e2-4797-a39f-be549a9a8394"
   },
   "outputs": [
    {
     "name": "stdout",
     "output_type": "stream",
     "text": [
      "----------------------------------------------------------------\n",
      "        Layer (type)               Output Shape         Param #\n",
      "================================================================\n",
      "            Conv2d-1           [-1, 32, 32, 32]             320\n",
      "              ReLU-2           [-1, 32, 32, 32]               0\n",
      "            Conv2d-3           [-1, 32, 32, 32]           9,248\n",
      "              ReLU-4           [-1, 32, 32, 32]               0\n",
      "         MaxPool2d-5           [-1, 32, 16, 16]               0\n",
      "            Conv2d-6           [-1, 64, 16, 16]          18,496\n",
      "              ReLU-7           [-1, 64, 16, 16]               0\n",
      "            Conv2d-8           [-1, 64, 16, 16]          36,928\n",
      "              ReLU-9           [-1, 64, 16, 16]               0\n",
      "        MaxPool2d-10             [-1, 64, 8, 8]               0\n",
      "           Conv2d-11            [-1, 128, 8, 8]          73,856\n",
      "             ReLU-12            [-1, 128, 8, 8]               0\n",
      "           Conv2d-13            [-1, 128, 8, 8]         147,584\n",
      "             ReLU-14            [-1, 128, 8, 8]               0\n",
      "        MaxPool2d-15            [-1, 128, 4, 4]               0\n",
      "           Conv2d-16            [-1, 256, 4, 4]         295,168\n",
      "             ReLU-17            [-1, 256, 4, 4]               0\n",
      "           Conv2d-18            [-1, 256, 4, 4]         590,080\n",
      "             ReLU-19            [-1, 256, 4, 4]               0\n",
      "         Upsample-20            [-1, 256, 8, 8]               0\n",
      "           Conv2d-21            [-1, 128, 8, 8]         442,496\n",
      "             ReLU-22            [-1, 128, 8, 8]               0\n",
      "           Conv2d-23            [-1, 128, 8, 8]         147,584\n",
      "             ReLU-24            [-1, 128, 8, 8]               0\n",
      "         Upsample-25          [-1, 128, 16, 16]               0\n",
      "           Conv2d-26           [-1, 64, 16, 16]         110,656\n",
      "             ReLU-27           [-1, 64, 16, 16]               0\n",
      "           Conv2d-28           [-1, 64, 16, 16]          36,928\n",
      "             ReLU-29           [-1, 64, 16, 16]               0\n",
      "         Upsample-30           [-1, 64, 32, 32]               0\n",
      "           Conv2d-31           [-1, 32, 32, 32]          27,680\n",
      "             ReLU-32           [-1, 32, 32, 32]               0\n",
      "           Conv2d-33           [-1, 32, 32, 32]           9,248\n",
      "             ReLU-34           [-1, 32, 32, 32]               0\n",
      "           Conv2d-35            [-1, 1, 32, 32]              33\n",
      "================================================================\n",
      "Total params: 1,946,305\n",
      "Trainable params: 1,946,305\n",
      "Non-trainable params: 0\n",
      "----------------------------------------------------------------\n",
      "Input size (MB): 0.00\n",
      "Forward/backward pass size (MB): 4.62\n",
      "Params size (MB): 7.42\n",
      "Estimated Total Size (MB): 12.05\n",
      "----------------------------------------------------------------\n"
     ]
    }
   ],
   "source": [
    "unet_model = UNet()\n",
    "summary(unet_model, input_size=(1, 32, 32),device='cpu')"
   ]
  },
  {
   "cell_type": "markdown",
   "metadata": {
    "id": "bzMqCnuVqOhj"
   },
   "source": [
    "**Обучение будем проводить по двум вариантам функции потерь: бинарная энтропия и т.н. DICE**\n",
    "\n",
    "Dice (Коэффициент Серенса-Дайса) представляет собой метрику, характерную для сегментации - по существу, отношение удвоенной площади пересечения искомого объекта (макси) к сумме площадей искомого объекта и полученного по результатам работы нейронной сети.\n",
    "\n",
    "![](https://miro.medium.com/max/858/1*yUd5ckecHjWZf6hGrdlwzA.png)"
   ]
  },
  {
   "cell_type": "markdown",
   "metadata": {
    "id": "NIX1ItkiqOhj"
   },
   "source": [
    "Если говорить более качественно, то Dice говорит о том, на сколько правильно объект выделен по площади и по его расположению относительно искомого.\n",
    "Иллюстрация плохого, среднего и хорошего DICE приведена на картинке ниже\n",
    "\n",
    "\n",
    "![](https://upload.wikimedia.org/wikipedia/commons/thumb/e/e6/Intersection_over_Union_-_poor%2C_good_and_excellent_score.png/300px-Intersection_over_Union_-_poor%2C_good_and_excellent_score.png)"
   ]
  },
  {
   "cell_type": "markdown",
   "metadata": {
    "id": "JtXO5LwAqOhj"
   },
   "source": [
    "Расстояние, соответствующиее Dice расчитчвается как:\n",
    "\n",
    "$$dice = 1 - \\frac {2\\cdot(A\\cap B)}{|A|+|B|}$$\n",
    "\n",
    "где $A,B$ - это площади полученного и искомого объектов, знак $\\cap$ - это обозначение пересечения площадей\n"
   ]
  },
  {
   "cell_type": "code",
   "execution_count": null,
   "metadata": {
    "id": "EK2-z99zqOhj"
   },
   "outputs": [],
   "source": [
    "def dice_loss(pred, target, smooth = 1.):\n",
    "    pred   = pred.contiguous()\n",
    "    target = target.contiguous()    \n",
    "    \n",
    "    intersection   = (pred * target).sum(dim=2).sum(dim=2)\n",
    "    sum_of_squares = pred.sum(dim=2).sum(dim=2) + target.sum(dim=2).sum(dim=2)\n",
    "    \n",
    "    loss = 1 - 2. * intersection / sum_of_squares \n",
    "    \n",
    "    return loss.mean()"
   ]
  },
  {
   "cell_type": "markdown",
   "metadata": {
    "id": "VMMKnnpzqOhj"
   },
   "source": [
    "Таким образом у нас будет две метрики DICE и BCE, а также функция потерь.\n",
    "Будем считать функцию потерь как комбинацию DICE и BCE с рзными весами. \n",
    "\n",
    "Таким образом в функции потерь будет учитываться место объекта и его площадь (DICE), а также особенности формы объекта с точки зрения его параметров, например яркости или особенностей формы (например широховатости краев) (BCE)."
   ]
  },
  {
   "cell_type": "code",
   "execution_count": null,
   "metadata": {
    "id": "ptDoQG6MqOhj"
   },
   "outputs": [],
   "source": [
    "METRICS_DEFAULT = {'bce':0.0,'dice':0.0,'loss':0.0}"
   ]
  },
  {
   "cell_type": "markdown",
   "metadata": {
    "id": "o_RkQ33JqOhj"
   },
   "source": [
    "Объеденим расчет метрик и потерь в одну функцию"
   ]
  },
  {
   "cell_type": "code",
   "execution_count": null,
   "metadata": {
    "id": "isBIyWDeqOhj"
   },
   "outputs": [],
   "source": [
    "def calc_loss(pred, target, metrics = None, bce_weight=0.5):\n",
    "    \n",
    "    if (metrics is None):\n",
    "        metrics = METRICS_DEFAULT.copy()\n",
    "\n",
    "    bce = F.binary_cross_entropy_with_logits(pred, target)\n",
    "        \n",
    "    pred = torch.sigmoid(pred)    \n",
    "    dice = dice_loss(pred, target)\n",
    "    \n",
    "    loss = bce * bce_weight + dice * (1 - bce_weight)\n",
    "    \n",
    "    metrics['bce']  += bce.data.cpu().numpy()\n",
    "    metrics['dice'] += dice.data.cpu().numpy() \n",
    "    metrics['loss'] += loss.data.cpu().numpy() \n",
    "\n",
    "    return loss, metrics\n"
   ]
  },
  {
   "cell_type": "markdown",
   "metadata": {
    "id": "VwOyZxcjqOhj"
   },
   "source": [
    "**Опишем процедуру тренировки как отдельную функцию**\n",
    "\n",
    "Процедура включает следующие параметры:\n",
    "* модель нейронной сети (unet_model);\n",
    "* словарь двух загрузчиков данных в формате DataLoader (dataloaders) \n",
    "    (для валидации 'valid'; для тренировки 'train');\n",
    "* функцию оптимизатор (optimizer);\n",
    "* функцуию изменения сокрости обучения (scheduler);\n",
    "* число эпох (num_epochs).\n",
    "\n",
    "Выход процедуры - обученная модель.\n",
    "\n",
    "**Особенности процедуры train_model**:\n",
    "* Процедура включает как фазу тренировку, так и фазу валидацию для каждой эпохи.\n",
    "* Каждый раз, когда после обучения эпохи значения метрик ниже чем были до этого, \n",
    "    то результат тренировки записывается.\n",
    "* В итоге возвращается результат на лучшей эпохе.\n",
    "* В процессе каждой эпохи на экран выводится служебная информация.\n"
   ]
  },
  {
   "cell_type": "code",
   "execution_count": null,
   "metadata": {
    "id": "F8PFXy15qOhj"
   },
   "outputs": [],
   "source": [
    "def train_model(unet_model, dataloaders, optimizer,  scheduler=None, num_epochs=25):\n",
    "    \n",
    "    #INITIALIZATION OF THE BEST MODEL INITAL STATE\n",
    "    best_model = copy.deepcopy(unet_model.state_dict())\n",
    "    best_loss  = 1e10\n",
    "    best_epoch = 0\n",
    "    \n",
    "    \n",
    "    start_time = time.time()\n",
    "    \n",
    "    #EPOHS OF TRAINING\n",
    "    for epoch in range(num_epochs):\n",
    "        \n",
    "        #SERVICE INFORMATION \n",
    "        print('-' * 10)\n",
    "        since = time.time()        \n",
    "        print('Epoch {}/{}'.format(epoch+1, num_epochs),end=' ')\n",
    "        for param_group in optimizer.param_groups: print(\"LR\", param_group['lr'])  \n",
    "\n",
    "        #TRAINING AND VALIDATION PHASES\n",
    "        for phase in ['train', 'val']:\n",
    "            \n",
    "            #FOR SUCH LAYERS AS DROPOUT AND BATCH NORM\n",
    "            if phase == 'train':               \n",
    "                unet_model.train()  # Set model to training mode\n",
    "            else:\n",
    "                unet_model.eval()   # Set model to evaluate mode\n",
    "         \n",
    "            #COUNTER FOR SAMPLES PROCESSED IN THE EPOCH\n",
    "            epoch_samples = 0  \n",
    "            \n",
    "            #RESET METRICS VALUES FOR EPOCH\n",
    "            metrics       = METRICS_DEFAULT.copy()\n",
    "            \n",
    "            #MINI_BATCHES\n",
    "            for inputs, labels in dataloaders[phase]:\n",
    "                optimizer.zero_grad()\n",
    "                \n",
    "                #IF VAL, THEN NO_GRAD, ELSE GRAD_ENABLE\n",
    "                with torch.set_grad_enabled(phase == 'train'):                  \n",
    "                    outputs       = unet_model.forward(inputs)                    \n",
    "                    loss, metrics = calc_loss(outputs, labels, metrics)                    \n",
    "                    \n",
    "                    if phase == 'train':                        \n",
    "                        loss.backward()                        \n",
    "                        optimizer.step()\n",
    "\n",
    "                #FOR LOSS NORMALIZATION\n",
    "                epoch_samples += inputs.size(0)\n",
    "            \n",
    "            #CHECK FOR THE BEST RESULT            \n",
    "            epoch_loss = metrics['loss'] / epoch_samples            \n",
    "            if phase == 'val' and epoch_loss < best_loss:\n",
    "                print(\"saving best model\")\n",
    "                best_loss  = epoch_loss\n",
    "                best_epoch = epoch\n",
    "                best_model = copy.deepcopy(unet_model.state_dict())\n",
    "            \n",
    "            #LEARNING RATE SCHADULER\n",
    "            if phase == 'train' and scheduler is not None:\n",
    "                scheduler.step()                \n",
    "            \n",
    "            #SERVICE INFORMATION \n",
    "            print(str(phase),\":\",\n",
    "                  'loss:%.5f'%(metrics['loss']),\n",
    "                  'dice:%.5f'%(1-metrics['dice']), #1-DICE IS BETTER TO INTERPRITATE\n",
    "                  'bce:%.5f' %(metrics['bce']))       \n",
    "        \n",
    "        #SERVICE INFORMATION \n",
    "        time_elapsed = time.time() - since\n",
    "        print('Epoch time: {:.0f}m {:.0f}s'.\\\n",
    "              format(time_elapsed // 60, time_elapsed % 60))\n",
    "    \n",
    "    #SERVICE INFORMATION \n",
    "    print('Best val loss: {:4f}'.format(best_loss), \n",
    "          'best epoch: %d'%(best_epoch),\n",
    "          'training_time:{:.0f}m {:.0f}s'.\\\n",
    "              format((time.time()-start_time) // 60, \n",
    "                     (time.time()-start_time) % 60))\n",
    "\n",
    "    #LOAD THE BEST MODEL STATE (WEIGHTS AND BIASES)\n",
    "    unet_model.load_state_dict(best_model)\n",
    "    return unet_model"
   ]
  },
  {
   "cell_type": "markdown",
   "metadata": {
    "id": "Q4fVJ2alqOhj"
   },
   "source": [
    "**Зададим особенности обучения.** \n",
    "* Оптимизатор Adam;\n",
    "* каждые 10 эпох будем снижать скорость обучения с коэффициентом 0.9;\n",
    "* Сделаем возможность выбирать или использовать предобученная модель или инциализировать новую.\n",
    "     То есть сделаем возможность дообучать модели."
   ]
  },
  {
   "cell_type": "code",
   "execution_count": null,
   "metadata": {
    "id": "M9Y8SvgaqOhj"
   },
   "outputs": [],
   "source": [
    "EPOCH = 20\n",
    "pretrained = True\n",
    "\n",
    "# Observe that all parameters are being optimized\n",
    "optimizer_ft = optim.Adam(unet_model.parameters(), lr=1e-4)\n",
    "\n",
    "exp_lr_scheduler = lr_scheduler.StepLR(optimizer_ft, step_size=10, gamma=0.9)\n",
    "\n",
    "if pretrained == False: #IF NEW MODEL\n",
    "    unet_model = UNet()"
   ]
  },
  {
   "cell_type": "markdown",
   "metadata": {
    "id": "L8XiVS8FqOhj"
   },
   "source": [
    "**тренировка сети**"
   ]
  },
  {
   "cell_type": "code",
   "execution_count": null,
   "metadata": {
    "id": "ckTBW0TvqOhj",
    "outputId": "1c01fc59-89f4-4448-d7f5-9696d0909a8d"
   },
   "outputs": [
    {
     "name": "stdout",
     "output_type": "stream",
     "text": [
      "----------\n",
      "Epoch 1/20 LR 0.0001\n",
      "train : loss:88.99715 dice:-149.26764 bce:27.72667\n",
      "saving best model\n",
      "val : loss:3.41808 dice:-5.21179 bce:0.62436\n",
      "Epoch time: 0m 52s\n",
      "----------\n",
      "Epoch 2/20 LR 0.0001\n",
      "train : loss:23.89559 dice:-43.06356 bce:3.72762\n",
      "saving best model\n",
      "val : loss:0.92763 dice:-0.75036 bce:0.10490\n",
      "Epoch time: 0m 51s\n",
      "----------\n",
      "Epoch 3/20 LR 0.0001\n",
      "train : loss:5.87469 dice:-10.03694 bce:0.71244\n",
      "saving best model\n",
      "val : loss:0.45363 dice:0.17031 bce:0.07757\n",
      "Epoch time: 0m 53s\n",
      "----------\n",
      "Epoch 4/20 LR 0.0001\n",
      "train : loss:3.62841 dice:-5.71953 bce:0.53730\n",
      "val : loss:0.60130 dice:-0.11752 bce:0.08509\n",
      "Epoch time: 0m 52s\n",
      "----------\n",
      "Epoch 5/20 LR 0.0001\n",
      "train : loss:2.92768 dice:-4.38651 bce:0.46885\n",
      "saving best model\n",
      "val : loss:0.37150 dice:0.31172 bce:0.05472\n",
      "Epoch time: 0m 51s\n",
      "----------\n",
      "Epoch 6/20 LR 0.0001\n",
      "train : loss:2.52196 dice:-3.62078 bce:0.42314\n",
      "saving best model\n",
      "val : loss:0.29215 dice:0.45851 bce:0.04282\n",
      "Epoch time: 0m 51s\n",
      "----------\n",
      "Epoch 7/20 LR 0.0001\n",
      "train : loss:2.22964 dice:-3.07948 bce:0.37979\n",
      "val : loss:0.30548 dice:0.43707 bce:0.04803\n",
      "Epoch time: 0m 47s\n",
      "----------\n",
      "Epoch 8/20 LR 0.0001\n",
      "train : loss:1.78023 dice:-2.25253 bce:0.30793\n",
      "saving best model\n",
      "val : loss:0.19300 dice:0.64395 bce:0.02994\n",
      "Epoch time: 0m 47s\n",
      "----------\n",
      "Epoch 9/20 LR 0.0001\n",
      "train : loss:1.84348 dice:-2.36747 bce:0.31949\n",
      "val : loss:0.19622 dice:0.64683 bce:0.03927\n",
      "Epoch time: 0m 49s\n",
      "----------\n",
      "Epoch 10/20 LR 0.0001\n",
      "train : loss:1.32924 dice:-1.42492 bce:0.23356\n",
      "saving best model\n",
      "val : loss:0.13735 dice:0.74777 bce:0.02248\n",
      "Epoch time: 0m 48s\n",
      "----------\n",
      "Epoch 11/20 LR 9e-05\n",
      "train : loss:1.18267 dice:-1.15728 bce:0.20807\n",
      "saving best model\n",
      "val : loss:0.11755 dice:0.78273 bce:0.01783\n",
      "Epoch time: 0m 48s\n",
      "----------\n",
      "Epoch 12/20 LR 9e-05\n",
      "train : loss:1.09013 dice:-0.99314 bce:0.18711\n",
      "val : loss:0.13325 dice:0.75543 bce:0.02192\n",
      "Epoch time: 0m 50s\n",
      "----------\n",
      "Epoch 13/20 LR 9e-05\n",
      "train : loss:0.96682 dice:-0.75825 bce:0.17539\n",
      "saving best model\n",
      "val : loss:0.11375 dice:0.78870 bce:0.01620\n",
      "Epoch time: 1m 2s\n",
      "----------\n",
      "Epoch 14/20 LR 9e-05\n",
      "train : loss:0.87462 dice:-0.58834 bce:0.16090\n",
      "saving best model\n",
      "val : loss:0.09419 dice:0.82631 bce:0.01470\n",
      "Epoch time: 1m 11s\n",
      "----------\n",
      "Epoch 15/20 LR 9e-05\n",
      "train : loss:0.81951 dice:-0.49076 bce:0.14826\n",
      "saving best model\n",
      "val : loss:0.09142 dice:0.83266 bce:0.01550\n",
      "Epoch time: 1m 17s\n",
      "----------\n",
      "Epoch 16/20 LR 9e-05\n",
      "train : loss:0.75647 dice:-0.37521 bce:0.13774\n",
      "saving best model\n",
      "val : loss:0.08263 dice:0.84809 bce:0.01334\n",
      "Epoch time: 1m 28s\n",
      "----------\n",
      "Epoch 17/20 LR 9e-05\n",
      "train : loss:0.77963 dice:-0.41510 bce:0.14417\n",
      "val : loss:0.09227 dice:0.82930 bce:0.01385\n",
      "Epoch time: 1m 31s\n",
      "----------\n",
      "Epoch 18/20 LR 9e-05\n",
      "train : loss:0.65586 dice:-0.19554 bce:0.11618\n",
      "saving best model\n",
      "val : loss:0.07911 dice:0.85659 bce:0.01481\n",
      "Epoch time: 1m 39s\n",
      "----------\n",
      "Epoch 19/20 LR 9e-05\n",
      "train : loss:0.63943 dice:-0.15399 bce:0.12488\n",
      "val : loss:0.09688 dice:0.82597 bce:0.01973\n",
      "Epoch time: 1m 44s\n",
      "----------\n",
      "Epoch 20/20 LR 9e-05\n",
      "train : loss:0.74586 dice:-0.37008 bce:0.12164\n",
      "saving best model\n",
      "val : loss:0.05855 dice:0.89247 bce:0.00957\n",
      "Epoch time: 1m 53s\n",
      "Best val loss: 0.000293 best epoch: 19 training_time:21m 44s\n"
     ]
    }
   ],
   "source": [
    "unet_model =\\\n",
    "    train_model(unet_model, \n",
    "                dataloaders = dataloaders,\n",
    "                optimizer   = optimizer_ft, \n",
    "                scheduler   = exp_lr_scheduler,  \n",
    "                num_epochs  = EPOCH)    "
   ]
  },
  {
   "cell_type": "markdown",
   "metadata": {
    "id": "34rSrzM_qOhj"
   },
   "source": [
    "**Создадим тестовый дата-сет**"
   ]
  },
  {
   "cell_type": "code",
   "execution_count": null,
   "metadata": {
    "id": "r9YLeh6VqOhj"
   },
   "outputs": [],
   "source": [
    "test_dataset = SimDataset(4, transform = trans)\n",
    "test_loader  = DataLoader(test_dataset, batch_size=4, shuffle=False, num_workers=0)"
   ]
  },
  {
   "cell_type": "markdown",
   "metadata": {
    "id": "8jB-5ssgqOhj"
   },
   "source": [
    "**Посмотрим на метрики на тестовом датасете**"
   ]
  },
  {
   "cell_type": "code",
   "execution_count": null,
   "metadata": {
    "id": "A1s8N4SJqOhj",
    "outputId": "ce54247f-67c2-45af-ae32-3b241c6808a5"
   },
   "outputs": [
    {
     "name": "stdout",
     "output_type": "stream",
     "text": [
      "loss:0.00043 dice:0.99918 bce:0.00005\n"
     ]
    }
   ],
   "source": [
    "unet_model.eval() \n",
    "inputs, labels = next(iter(test_loader))\n",
    "predicts       = unet_model(inputs)\n",
    "loss, metrics  = calc_loss(predicts, labels)\n",
    "print('loss:%.5f'%(metrics['loss']),\n",
    "                  'dice:%.5f'%(1-metrics['dice']), \n",
    "                  'bce:%.5f' %(metrics['bce']))"
   ]
  },
  {
   "cell_type": "markdown",
   "metadata": {
    "id": "K7pbFtN-qOhj"
   },
   "source": [
    "**Проверим результат визуально**"
   ]
  },
  {
   "cell_type": "code",
   "execution_count": null,
   "metadata": {
    "id": "YuKW4SfDqOhj",
    "outputId": "b2d9c988-2cee-44f0-d005-8989e1d542fa"
   },
   "outputs": [
    {
     "name": "stdout",
     "output_type": "stream",
     "text": [
      " I N P U T \n"
     ]
    },
    {
     "data": {
      "image/png": "[encoded data removed]",
      "text/plain": [
       "<Figure size 1152x288 with 4 Axes>"
      ]
     },
     "metadata": {
      "needs_background": "light",
      "tags": []
     },
     "output_type": "display_data"
    },
    {
     "name": "stdout",
     "output_type": "stream",
     "text": [
      " G R O U N D T R U T H \n"
     ]
    },
    {
     "data": {
      "image/png": "[encoded data removed]",
      "text/plain": [
       "<Figure size 1152x288 with 4 Axes>"
      ]
     },
     "metadata": {
      "needs_background": "light",
      "tags": []
     },
     "output_type": "display_data"
    },
    {
     "name": "stdout",
     "output_type": "stream",
     "text": [
      " P R E D I C T E D \n"
     ]
    },
    {
     "data": {
      "image/png": "[encoded data removed]",
      "text/plain": [
       "<Figure size 1152x288 with 4 Axes>"
      ]
     },
     "metadata": {
      "needs_background": "light",
      "tags": []
     },
     "output_type": "display_data"
    }
   ],
   "source": [
    "predicts = predicts.data.cpu().numpy()\n",
    "\n",
    "print(' I N P U T ')\n",
    "plt.figure(figsize=(16,4))\n",
    "plt.subplot(141);plt.imshow(inputs[0][0])\n",
    "plt.subplot(142);plt.imshow(inputs[1][0])\n",
    "plt.subplot(143);plt.imshow(inputs[2][0])\n",
    "plt.subplot(144);plt.imshow(inputs[3][0])\n",
    "plt.show()\n",
    "\n",
    "print(' G R O U N D T R U T H ')\n",
    "plt.figure(figsize=(16,4))\n",
    "plt.subplot(141);plt.imshow(labels[0].sum(0))\n",
    "plt.subplot(142);plt.imshow(labels[1].sum(0))\n",
    "plt.subplot(143);plt.imshow(labels[2].sum(0))\n",
    "plt.subplot(144);plt.imshow(labels[3].sum(0))\n",
    "plt.show()\n",
    "\n",
    "print(' P R E D I C T E D ')\n",
    "plt.figure(figsize=(16,4))\n",
    "plt.subplot(141);plt.imshow(predicts[0][0])\n",
    "plt.subplot(142);plt.imshow(predicts[1][0])\n",
    "plt.subplot(143);plt.imshow(predicts[2][0])\n",
    "plt.subplot(144);plt.imshow(predicts[3][0])\n",
    "plt.show()\n"
   ]
  },
  {
   "cell_type": "markdown",
   "metadata": {
    "id": "GFBAdYvyqOhj"
   },
   "source": [
    "#### Упражнение 1\n",
    "Сохраните веса модели в отдельный файл.\n",
    "\n",
    "Дообучите модель (без ее сброса - перезагрузки) на 10 эпохах"
   ]
  },
  {
   "cell_type": "code",
   "execution_count": null,
   "metadata": {
    "id": "yLBMNIwIqOhj"
   },
   "outputs": [],
   "source": []
  },
  {
   "cell_type": "markdown",
   "metadata": {
    "id": "-IU2sstUqOhj"
   },
   "source": [
    "#### Упражнение 2\n",
    "Добавьте возможность вывода графика функции потерь и метрики DICE по результатам обучения."
   ]
  },
  {
   "cell_type": "code",
   "execution_count": null,
   "metadata": {
    "id": "24dT-jZfqOhj"
   },
   "outputs": [],
   "source": []
  },
  {
   "cell_type": "markdown",
   "metadata": {
    "id": "jLU4MgODqOhj"
   },
   "source": [
    "#### Упражнение 3\n",
    "Добавьте в процесс обучения метику Jaccard\n",
    "![](https://neo4j.com/docs/graph-algorithms/current/images/jaccard.png)"
   ]
  },
  {
   "cell_type": "code",
   "execution_count": null,
   "metadata": {
    "id": "h3w5tGRiqOhj"
   },
   "outputs": [],
   "source": []
  },
  {
   "cell_type": "markdown",
   "metadata": {
    "id": "3qeOk6LCqOhj"
   },
   "source": [
    "#### Упражнение 4\n",
    "Добавьте к процессу обучения функцию ранней остановки (остановки по неизменению или росту валидации)"
   ]
  },
  {
   "cell_type": "code",
   "execution_count": null,
   "metadata": {
    "id": "hAO4xsSAqOhj"
   },
   "outputs": [],
   "source": []
  },
  {
   "cell_type": "markdown",
   "metadata": {
    "id": "M19-8m-9qOhj"
   },
   "source": [
    "#### Упражнение 5\n",
    "Добавьте к архитектуре сети батч-нормализаци, дроп-ауты, а также добавьте инициализацию весов, для случая, если это не дообучение"
   ]
  },
  {
   "cell_type": "code",
   "execution_count": null,
   "metadata": {
    "id": "Z8eVDshHqOhj"
   },
   "outputs": [],
   "source": []
  },
  {
   "cell_type": "markdown",
   "metadata": {
    "id": "BURrWYCvqOhj"
   },
   "source": [
    "#### Упражнение 6"
   ]
  },
  {
   "cell_type": "markdown",
   "metadata": {
    "id": "eyv60F9GqOhj"
   },
   "source": [
    "Уберите из архитектуры UNet связи энкодера и декодера - то есть преобразуйте UNet в SegNet. \n",
    "Сравните качество обучения сети."
   ]
  },
  {
   "cell_type": "code",
   "execution_count": null,
   "metadata": {
    "id": "SI8vZ1G7qOhj"
   },
   "outputs": [],
   "source": []
  },
  {
   "cell_type": "code",
   "execution_count": null,
   "metadata": {
    "id": "6M4tcPWYqOhj"
   },
   "outputs": [],
   "source": []
  },
  {
   "cell_type": "markdown",
   "metadata": {
    "id": "MsoDxYDfqOhj"
   },
   "source": [
    "- - - "
   ]
  },
  {
   "cell_type": "markdown",
   "metadata": {
    "id": "ep3yrvmRqOhj"
   },
   "source": [
    "## Предобучение сверточной сети автоэнкодером"
   ]
  },
  {
   "cell_type": "markdown",
   "metadata": {
    "id": "wuDajb_jqOhj"
   },
   "source": [
    "Часто при обучении модели сети - для поднятия качества ее обучения, особенно для небольших датасетов желательным является предобучение нейронной сети.\n",
    "Такое предобучение может быть произведено или на каком-то близком, но большом датасете или, например, методом автоэнкодера (такой подход? по существу, представляет собой концепцию сетей глубокого доверия - deep belief network). В случае UNet подход глубокого доверия может быть произведен путем обучения нейронной сети для случая, когда ее выход должен повторять ее вход - по сути это обучение без учителя. Стоит отметить, что преобучение и обучение могут быть проведены с разными видами функции потерь или другими параметрами обучения.\n"
   ]
  },
  {
   "cell_type": "markdown",
   "metadata": {
    "id": "JJDwun02qOhj"
   },
   "source": [
    "**Этап автоэнкодера**\n",
    "\n",
    "Выбирем в качестве функции потерь MSE (Minimum Square Error)"
   ]
  },
  {
   "cell_type": "code",
   "execution_count": null,
   "metadata": {
    "id": "V0e8ta-7qOhk"
   },
   "outputs": [],
   "source": [
    "AUTOMETRICS_DEFAULT = {'mse':0.0,'dice':0.0,'loss':0.0}"
   ]
  },
  {
   "cell_type": "markdown",
   "metadata": {
    "id": "wccJQUS-qOhk"
   },
   "source": [
    "**Пересоздадим модель**"
   ]
  },
  {
   "cell_type": "code",
   "execution_count": null,
   "metadata": {
    "id": "i1HvYl1vqOhk"
   },
   "outputs": [],
   "source": [
    "unet_model = UNet()"
   ]
  },
  {
   "cell_type": "markdown",
   "metadata": {
    "id": "c-faNOWhqOhk"
   },
   "source": [
    "**Пусть функция потерь будет только MSE**"
   ]
  },
  {
   "cell_type": "code",
   "execution_count": null,
   "metadata": {
    "id": "gRdfGhEtqOhk"
   },
   "outputs": [],
   "source": [
    "def calc_autoloss(pred, inputs, metrics = None, mce_weight=1):\n",
    "    \n",
    "    if (metrics is None):\n",
    "        metrics = AUTOMETRICS_DEFAULT.copy()\n",
    "\n",
    "    mse = F.mse_loss(pred, inputs)\n",
    "        \n",
    "    pred = torch.sigmoid(pred)    \n",
    "    dice = dice_loss(pred, inputs)\n",
    "    \n",
    "    loss = mse #* mce_weight + dice * (1 - mce_weight)\n",
    "    \n",
    "    metrics['mse']  += mse.data.cpu().numpy()\n",
    "    metrics['dice'] += dice.data.cpu().numpy() \n",
    "    metrics['loss'] += loss.data.cpu().numpy() \n",
    "\n",
    "    return loss, metrics"
   ]
  },
  {
   "cell_type": "markdown",
   "metadata": {
    "id": "4nl7DiiaqOhk"
   },
   "source": [
    "**Перепишем процедуру обучения сети**"
   ]
  },
  {
   "cell_type": "code",
   "execution_count": null,
   "metadata": {
    "id": "sAexg6vdqOhk"
   },
   "outputs": [],
   "source": [
    "def train_autoencoder(unet_model, dataloaders, optimizer,  scheduler=None, num_epochs=25):\n",
    "    \n",
    "    #INITIALIZATION OF THE BEST MODEL INITAL STATE\n",
    "    best_model = copy.deepcopy(unet_model.state_dict())\n",
    "    best_loss  = 1e10\n",
    "    best_epoch = 0\n",
    "    \n",
    "    start_time = time.time()\n",
    "    \n",
    "    \n",
    "    #EPOHS OF TRAINING\n",
    "    for epoch in range(num_epochs):\n",
    "        \n",
    "        #SERVICE INFORMATION \n",
    "        print('-' * 10)\n",
    "        since = time.time()        \n",
    "        print('Epoch {}/{}'.format(epoch+1, num_epochs),end=' ')\n",
    "        for param_group in optimizer.param_groups: print(\"LR\", param_group['lr'])  \n",
    "\n",
    "        #TRAINING AND VALIDATION PHASES\n",
    "        for phase in ['train', 'val']:\n",
    "            \n",
    "            #FOR SUCH LAYERS AS DROPOUT  AND BATCH NORM\n",
    "            if phase == 'train':               \n",
    "                unet_model.train()  \n",
    "            else:\n",
    "                unet_model.eval()  \n",
    "         \n",
    "            #COUNTER FOR SAMPLES PROCESSED IN THE EPOCH\n",
    "            epoch_samples = 0  \n",
    "            \n",
    "            #RESET METRICS VALUES FOR EPOCH\n",
    "            metrics       = AUTOMETRICS_DEFAULT.copy()\n",
    "            \n",
    "            #MINI_BATCHES\n",
    "            for inputs, labels in dataloaders[phase]:\n",
    "                optimizer.zero_grad()\n",
    "                \n",
    "                #IF VAL, THEN NO_GRAD, ELSE GRAD_ENABLE\n",
    "                with torch.set_grad_enabled(phase == 'train'):                  \n",
    "                    outputs       = unet_model.forward(inputs)                    \n",
    "                    loss, metrics = calc_autoloss(outputs, inputs, metrics)                    \n",
    "                    \n",
    "                    if phase == 'train':                        \n",
    "                        loss.backward()                        \n",
    "                        optimizer.step()\n",
    "                        \n",
    "                #FOR LOSS NORMALIZATION ON THE BATCH SIZE\n",
    "                epoch_samples += inputs.size(0)\n",
    "            \n",
    "            #CHECK FOR THE BEST RESULT            \n",
    "            epoch_loss = metrics['loss'] / epoch_samples            \n",
    "            if phase == 'val' and epoch_loss < best_loss:\n",
    "                print(\"saving best model\")\n",
    "                best_loss  = epoch_loss\n",
    "                best_epoch = epoch\n",
    "                best_model = copy.deepcopy(unet_model.state_dict())\n",
    "            \n",
    "            #LEARNING RATE SCHADULER\n",
    "            if phase == 'train' and scheduler is not None:\n",
    "                scheduler.step()                \n",
    "            \n",
    "            #SERVICE INFORMATION \n",
    "            print(str(phase),\":\",\n",
    "                  'loss:%.5f'%(metrics['loss']),\n",
    "                  'dice:%.5f'%(1-metrics['dice']), #1-DICE IS BETTER TO INTERPRITATE\n",
    "                  'mse:%.5f' %(metrics['mse']))       \n",
    "        \n",
    "        #SERVICE INFORMATION\n",
    "        time_elapsed = time.time() - since\n",
    "        print('Epoch time: {:.0f}m {:.0f}s'.\\\n",
    "              format(time_elapsed // 60, time_elapsed % 60))\n",
    "    \n",
    "    #SERVICE INFORMATION \n",
    "    print('Best val loss: {:4f}'.format(best_loss), \n",
    "          'best epoch: %d'%(best_epoch),\n",
    "          'training_time:{:.0f}m {:.0f}s'.\\\n",
    "              format((time.time()-start_time) // 60, \n",
    "                     (time.time()-start_time) % 60))\n",
    "\n",
    "    #LOAD THE BEST MODEL STATE (WEIGHTS AND BIASES)\n",
    "    unet_model.load_state_dict(best_model)\n",
    "    return unet_model"
   ]
  },
  {
   "cell_type": "markdown",
   "metadata": {
    "id": "6ObOADS_qOhk"
   },
   "source": [
    "**Параметры обучения**"
   ]
  },
  {
   "cell_type": "code",
   "execution_count": null,
   "metadata": {
    "id": "vq3KcSfnqOhk"
   },
   "outputs": [],
   "source": [
    "EPOCH = 20\n",
    "pretrained = True\n",
    "\n",
    "# Observe that all parameters are being optimized\n",
    "optimizer_ft     = optim.Adam(unet_model.parameters(), lr=1e-4)\n",
    "\n",
    "exp_lr_scheduler = lr_scheduler.StepLR(optimizer_ft, step_size=10, gamma=0.9)\n",
    "\n",
    "if pretrained == False:\n",
    "    unet_model = UNet()"
   ]
  },
  {
   "cell_type": "markdown",
   "metadata": {
    "id": "Bs-BIo7OqOhk"
   },
   "source": [
    "**Тренировка автоэнкодера**"
   ]
  },
  {
   "cell_type": "code",
   "execution_count": null,
   "metadata": {
    "id": "WkIGLQGNqOhk",
    "outputId": "e149476f-1514-4728-b836-e0f337dc5884"
   },
   "outputs": [
    {
     "name": "stdout",
     "output_type": "stream",
     "text": [
      "----------\n",
      "Epoch 1/20 LR 0.0001\n",
      "train : loss:6883.09349 dice:-222.18551 mse:6883.09349\n",
      "saving best model\n",
      "val : loss:3.59113 dice:-21.36611 mse:3.59113\n",
      "Epoch time: 0m 51s\n",
      "----------\n",
      "Epoch 2/20 LR 0.0001\n",
      "train : loss:21.05984 dice:-223.37881 mse:21.05984\n",
      "saving best model\n",
      "val : loss:1.06789 dice:-21.71218 mse:1.06789\n",
      "Epoch time: 0m 52s\n",
      "----------\n",
      "Epoch 3/20 LR 0.0001\n",
      "train : loss:8.54663 dice:-224.59898 mse:8.54663\n",
      "saving best model\n",
      "val : loss:0.70344 dice:-21.56215 mse:0.70344\n",
      "Epoch time: 0m 52s\n",
      "----------\n",
      "Epoch 4/20 LR 0.0001\n",
      "train : loss:6.50161 dice:-224.79586 mse:6.50161\n",
      "saving best model\n",
      "val : loss:0.57155 dice:-21.61425 mse:0.57155\n",
      "Epoch time: 0m 53s\n",
      "----------\n",
      "Epoch 5/20 LR 0.0001\n",
      "train : loss:5.35930 dice:-224.93129 mse:5.35930\n",
      "saving best model\n",
      "val : loss:0.48960 dice:-21.69812 mse:0.48960\n",
      "Epoch time: 0m 54s\n",
      "----------\n",
      "Epoch 6/20 LR 0.0001\n",
      "train : loss:4.46581 dice:-225.03906 mse:4.46581\n",
      "saving best model\n",
      "val : loss:0.41641 dice:-21.51201 mse:0.41641\n",
      "Epoch time: 0m 54s\n",
      "----------\n",
      "Epoch 7/20 LR 0.0001\n",
      "train : loss:3.76241 dice:-225.11954 mse:3.76241\n",
      "saving best model\n",
      "val : loss:0.33634 dice:-21.64234 mse:0.33634\n",
      "Epoch time: 0m 49s\n",
      "----------\n",
      "Epoch 8/20 LR 0.0001\n",
      "train : loss:3.14995 dice:-225.21430 mse:3.14995\n",
      "saving best model\n",
      "val : loss:0.28205 dice:-21.65618 mse:0.28205\n",
      "Epoch time: 0m 52s\n",
      "----------\n",
      "Epoch 9/20 LR 0.0001\n",
      "train : loss:2.63369 dice:-225.28522 mse:2.63369\n",
      "saving best model\n",
      "val : loss:0.23978 dice:-21.62613 mse:0.23978\n",
      "Epoch time: 1m 1s\n",
      "----------\n",
      "Epoch 10/20 LR 0.0001\n",
      "train : loss:2.24799 dice:-225.34018 mse:2.24799\n",
      "saving best model\n",
      "val : loss:0.21747 dice:-21.55528 mse:0.21747\n",
      "Epoch time: 0m 56s\n",
      "----------\n",
      "Epoch 11/20 LR 9e-05\n",
      "train : loss:1.96742 dice:-225.37923 mse:1.96742\n",
      "saving best model\n",
      "val : loss:0.18693 dice:-21.70884 mse:0.18693\n",
      "Epoch time: 0m 53s\n",
      "----------\n",
      "Epoch 12/20 LR 9e-05\n",
      "train : loss:1.71599 dice:-225.41654 mse:1.71599\n",
      "saving best model\n",
      "val : loss:0.15892 dice:-21.62590 mse:0.15892\n",
      "Epoch time: 0m 54s\n",
      "----------\n",
      "Epoch 13/20 LR 9e-05\n",
      "train : loss:1.49813 dice:-225.44695 mse:1.49813\n",
      "saving best model\n",
      "val : loss:0.13960 dice:-21.67564 mse:0.13960\n",
      "Epoch time: 0m 53s\n",
      "----------\n",
      "Epoch 14/20 LR 9e-05\n",
      "train : loss:1.34721 dice:-225.46665 mse:1.34721\n",
      "saving best model\n",
      "val : loss:0.13720 dice:-21.74664 mse:0.13720\n",
      "Epoch time: 0m 54s\n",
      "----------\n",
      "Epoch 15/20 LR 9e-05\n",
      "train : loss:1.16432 dice:-225.49384 mse:1.16432\n",
      "saving best model\n",
      "val : loss:0.11117 dice:-21.69334 mse:0.11117\n",
      "Epoch time: 0m 56s\n",
      "----------\n",
      "Epoch 16/20 LR 9e-05\n",
      "train : loss:1.03199 dice:-225.51186 mse:1.03199\n",
      "saving best model\n",
      "val : loss:0.09675 dice:-21.64275 mse:0.09675\n",
      "Epoch time: 0m 59s\n",
      "----------\n",
      "Epoch 17/20 LR 9e-05\n",
      "train : loss:0.93353 dice:-225.52358 mse:0.93353\n",
      "saving best model\n",
      "val : loss:0.08858 dice:-21.69700 mse:0.08858\n",
      "Epoch time: 0m 51s\n",
      "----------\n",
      "Epoch 18/20 LR 9e-05\n",
      "train : loss:0.82753 dice:-225.53992 mse:0.82753\n",
      "saving best model\n",
      "val : loss:0.07717 dice:-21.65694 mse:0.07717\n",
      "Epoch time: 0m 59s\n",
      "----------\n",
      "Epoch 19/20 LR 9e-05\n",
      "train : loss:0.73902 dice:-225.55331 mse:0.73902\n",
      "saving best model\n",
      "val : loss:0.06993 dice:-21.64289 mse:0.06993\n",
      "Epoch time: 0m 49s\n",
      "----------\n",
      "Epoch 20/20 LR 9e-05\n",
      "train : loss:0.67419 dice:-225.55898 mse:0.67419\n",
      "saving best model\n",
      "val : loss:0.06309 dice:-21.66396 mse:0.06309\n",
      "Epoch time: 0m 50s\n",
      "Best val loss: 0.000315 best epoch: 19 training_time:17m 52s\n"
     ]
    }
   ],
   "source": [
    "unet_model =\\\n",
    "    train_autoencoder(unet_model, \n",
    "                      dataloaders = dataloaders,\n",
    "                      optimizer   = optimizer_ft, \n",
    "                      scheduler   = exp_lr_scheduler,  \n",
    "                      num_epochs  = EPOCH)    "
   ]
  },
  {
   "cell_type": "markdown",
   "metadata": {
    "id": "02u0yWcMqOhk"
   },
   "source": [
    "**Посмотрим результат для тестового датасета, созданного ранее**\n",
    "\n",
    "$^*$ Если тестовый датасет не найден, пресоздайте его"
   ]
  },
  {
   "cell_type": "code",
   "execution_count": null,
   "metadata": {
    "id": "fKFKTptEqOhk",
    "outputId": "3173664e-32ba-4651-c9af-399639aed396"
   },
   "outputs": [
    {
     "name": "stdout",
     "output_type": "stream",
     "text": [
      "loss:0.00181 dice:0.09802 mse:0.00181\n",
      " I N P U T  = G R O U N D T R U T H \n"
     ]
    },
    {
     "data": {
      "image/png": "[encoded data removed]",
      "text/plain": [
       "<Figure size 1152x288 with 4 Axes>"
      ]
     },
     "metadata": {
      "needs_background": "light",
      "tags": []
     },
     "output_type": "display_data"
    },
    {
     "name": "stdout",
     "output_type": "stream",
     "text": [
      " P R E D I C T E D \n"
     ]
    },
    {
     "data": {
      "image/png": "[encoded data removed]",
      "text/plain": [
       "<Figure size 1152x288 with 4 Axes>"
      ]
     },
     "metadata": {
      "needs_background": "light",
      "tags": []
     },
     "output_type": "display_data"
    }
   ],
   "source": [
    "unet_model.eval() \n",
    "inputs, labels = next(iter(test_loader))\n",
    "predicts       = unet_model(inputs)\n",
    "loss, metrics  = calc_autoloss(predicts, inputs)\n",
    "print('loss:%.5f'%(metrics['loss']),\n",
    "                  'dice:%.5f'%(1-metrics['dice']), \n",
    "                  'mse:%.5f' %(metrics['mse']))\n",
    "\n",
    "predicts = predicts.data.cpu().numpy()\n",
    "\n",
    "print(' I N P U T  =   G R O U N D T R U T H ')\n",
    "plt.figure(figsize=(16,4))\n",
    "plt.subplot(141);plt.imshow(inputs[0][0])\n",
    "plt.subplot(142);plt.imshow(inputs[1][0])\n",
    "plt.subplot(143);plt.imshow(inputs[2][0])\n",
    "plt.subplot(144);plt.imshow(inputs[3][0])\n",
    "plt.show()\n",
    "\n",
    "print(' P R E D I C T E D ')\n",
    "plt.figure(figsize=(16,4))\n",
    "plt.subplot(141);plt.imshow(predicts[0][0])\n",
    "plt.subplot(142);plt.imshow(predicts[1][0])\n",
    "plt.subplot(143);plt.imshow(predicts[2][0])\n",
    "plt.subplot(144);plt.imshow(predicts[3][0])\n",
    "plt.show()"
   ]
  },
  {
   "cell_type": "markdown",
   "metadata": {
    "id": "Rtu4T7k9qOhk"
   },
   "source": [
    "**Попробуем обучить предобученную сеть**"
   ]
  },
  {
   "cell_type": "code",
   "execution_count": null,
   "metadata": {
    "id": "ZZNsbjEHqOhk",
    "outputId": "ba6f6a06-eee9-4762-c150-b551305f0406"
   },
   "outputs": [
    {
     "name": "stdout",
     "output_type": "stream",
     "text": [
      "----------\n",
      "Epoch 0/19 LR 8.1e-05\n",
      "train : loss:9.51207 dice:-16.98738 bce:1.03676\n",
      "saving best model\n",
      "val : loss:0.38224 dice:0.26683 bce:0.03131\n",
      "Epoch time: 0m 50s\n",
      "----------\n",
      "Epoch 1/19 LR 8.1e-05\n",
      "train : loss:2.64964 dice:-4.07184 bce:0.22745\n",
      "saving best model\n",
      "val : loss:0.32173 dice:0.38086 bce:0.02432\n",
      "Epoch time: 0m 55s\n",
      "----------\n",
      "Epoch 2/19 LR 8.1e-05\n",
      "train : loss:2.25833 dice:-3.30974 bce:0.20691\n",
      "saving best model\n",
      "val : loss:0.23639 dice:0.54585 bce:0.01863\n",
      "Epoch time: 0m 51s\n",
      "----------\n",
      "Epoch 3/19 LR 8.1e-05\n",
      "train : loss:1.79976 dice:-2.42105 bce:0.17846\n",
      "saving best model\n",
      "val : loss:0.15528 dice:0.70261 bce:0.01317\n",
      "Epoch time: 0m 54s\n",
      "----------\n",
      "Epoch 4/19 LR 8.1e-05\n",
      "train : loss:1.44232 dice:-1.74357 bce:0.14107\n",
      "val : loss:0.20354 dice:0.61138 bce:0.01845\n",
      "Epoch time: 1m 2s\n",
      "----------\n",
      "Epoch 5/19 LR 8.1e-05\n",
      "train : loss:1.16712 dice:-1.22211 bce:0.11212\n",
      "saving best model\n",
      "val : loss:0.10726 dice:0.79581 bce:0.01032\n",
      "Epoch time: 0m 52s\n",
      "----------\n",
      "Epoch 6/19 LR 8.1e-05\n",
      "train : loss:1.04043 dice:-0.97121 bce:0.10965\n",
      "saving best model\n",
      "val : loss:0.08542 dice:0.83869 bce:0.00953\n",
      "Epoch time: 0m 50s\n",
      "----------\n",
      "Epoch 7/19 LR 8.1e-05\n",
      "train : loss:0.86422 dice:-0.63676 bce:0.09168\n",
      "saving best model\n",
      "val : loss:0.08278 dice:0.84506 bce:0.01062\n",
      "Epoch time: 1m 3s\n",
      "----------\n",
      "Epoch 8/19 LR 8.1e-05\n",
      "train : loss:0.77872 dice:-0.47008 bce:0.08737\n",
      "saving best model\n",
      "val : loss:0.07884 dice:0.85203 bce:0.00971\n",
      "Epoch time: 0m 50s\n",
      "----------\n",
      "Epoch 9/19 LR 8.1e-05\n",
      "train : loss:0.74354 dice:-0.40196 bce:0.08512\n",
      "val : loss:0.08282 dice:0.84553 bce:0.01118\n",
      "Epoch time: 0m 52s\n",
      "----------\n",
      "Epoch 10/19 LR 7.290000000000001e-05\n",
      "train : loss:0.69098 dice:-0.30684 bce:0.07512\n",
      "saving best model\n",
      "val : loss:0.07777 dice:0.85418 bce:0.00971\n",
      "Epoch time: 0m 51s\n",
      "----------\n",
      "Epoch 11/19 LR 7.290000000000001e-05\n",
      "train : loss:0.65670 dice:-0.23987 bce:0.07353\n",
      "saving best model\n",
      "val : loss:0.07544 dice:0.85856 bce:0.00945\n",
      "Epoch time: 0m 47s\n",
      "----------\n",
      "Epoch 12/19 LR 7.290000000000001e-05\n",
      "train : loss:0.66858 dice:-0.26030 bce:0.07686\n",
      "saving best model\n",
      "val : loss:0.07081 dice:0.86706 bce:0.00867\n",
      "Epoch time: 0m 55s\n",
      "----------\n",
      "Epoch 13/19 LR 7.290000000000001e-05\n",
      "train : loss:0.56626 dice:-0.07396 bce:0.05855\n",
      "val : loss:0.09558 dice:0.82294 bce:0.01409\n",
      "Epoch time: 0m 49s\n",
      "----------\n",
      "Epoch 14/19 LR 7.290000000000001e-05\n",
      "train : loss:0.61828 dice:-0.17303 bce:0.06353\n",
      "saving best model\n",
      "val : loss:0.06115 dice:0.88546 bce:0.00776\n",
      "Epoch time: 0m 53s\n",
      "----------\n",
      "Epoch 15/19 LR 7.290000000000001e-05\n",
      "train : loss:0.50071 dice:0.05206 bce:0.05349\n",
      "val : loss:0.07338 dice:0.86374 bce:0.01049\n",
      "Epoch time: 0m 52s\n",
      "----------\n",
      "Epoch 16/19 LR 7.290000000000001e-05\n",
      "train : loss:0.50500 dice:0.05003 bce:0.06004\n",
      "val : loss:0.06907 dice:0.87068 bce:0.00882\n",
      "Epoch time: 0m 51s\n",
      "----------\n",
      "Epoch 17/19 LR 7.290000000000001e-05\n",
      "train : loss:0.48522 dice:0.09083 bce:0.06127\n",
      "val : loss:0.10438 dice:0.80642 bce:0.01519\n",
      "Epoch time: 0m 51s\n",
      "----------\n",
      "Epoch 18/19 LR 7.290000000000001e-05\n",
      "train : loss:0.42796 dice:0.19255 bce:0.04848\n",
      "saving best model\n",
      "val : loss:0.05664 dice:0.89400 bce:0.00727\n",
      "Epoch time: 0m 52s\n",
      "----------\n",
      "Epoch 19/19 LR 7.290000000000001e-05\n",
      "train : loss:0.45972 dice:0.13232 bce:0.05176\n",
      "saving best model\n",
      "val : loss:0.05570 dice:0.89581 bce:0.00720\n",
      "Epoch time: 0m 51s\n",
      "Best val loss: 0.000278 best epoch: 19 training_time:17m 31s\n"
     ]
    }
   ],
   "source": [
    "unet_model =\\\n",
    "    train_model(unet_model, \n",
    "                dataloaders = dataloaders,\n",
    "                optimizer   = optimizer_ft, \n",
    "                scheduler   = exp_lr_scheduler,  \n",
    "                num_epochs  = EPOCH)   "
   ]
  },
  {
   "cell_type": "code",
   "execution_count": null,
   "metadata": {
    "id": "ZqcyrN4mqOhk",
    "outputId": "5c919ee5-0687-4fa9-99a7-9d850720464c"
   },
   "outputs": [
    {
     "name": "stdout",
     "output_type": "stream",
     "text": [
      "loss:0.00000 dice:0.99999 bce:0.00000\n",
      " I N P U T  = G R O U N D T R U T H \n"
     ]
    },
    {
     "data": {
      "image/png": "[encoded data removed]",
      "text/plain": [
       "<Figure size 1152x288 with 4 Axes>"
      ]
     },
     "metadata": {
      "needs_background": "light",
      "tags": []
     },
     "output_type": "display_data"
    },
    {
     "name": "stdout",
     "output_type": "stream",
     "text": [
      " P R E D I C T E D \n"
     ]
    },
    {
     "data": {
      "image/png": "[encoded data removed]",
      "text/plain": [
       "<Figure size 1152x288 with 4 Axes>"
      ]
     },
     "metadata": {
      "needs_background": "light",
      "tags": []
     },
     "output_type": "display_data"
    }
   ],
   "source": [
    "unet_model.eval() \n",
    "inputs, labels = next(iter(test_loader))\n",
    "predicts       = unet_model(inputs)\n",
    "loss, metrics  = calc_loss(predicts, labels)\n",
    "print('loss:%.5f'%(metrics['loss']),\n",
    "                  'dice:%.5f'%(1-metrics['dice']), \n",
    "                  'bce:%.5f' %(metrics['bce']))\n",
    "\n",
    "predicts = predicts.data.cpu().numpy()\n",
    "\n",
    "print(' I N P U T  = G R O U N D T R U T H ')\n",
    "plt.figure(figsize=(16,4))\n",
    "plt.subplot(141);plt.imshow(inputs[0][0])\n",
    "plt.subplot(142);plt.imshow(inputs[1][0])\n",
    "plt.subplot(143);plt.imshow(inputs[2][0])\n",
    "plt.subplot(144);plt.imshow(inputs[3][0])\n",
    "plt.show()\n",
    "\n",
    "print(' P R E D I C T E D ')\n",
    "plt.figure(figsize=(16,4))\n",
    "plt.subplot(141);plt.imshow(predicts[0][0])\n",
    "plt.subplot(142);plt.imshow(predicts[1][0])\n",
    "plt.subplot(143);plt.imshow(predicts[2][0])\n",
    "plt.subplot(144);plt.imshow(predicts[3][0])\n",
    "plt.show()"
   ]
  },
  {
   "cell_type": "markdown",
   "metadata": {
    "id": "K0ZA63MbqOhk"
   },
   "source": [
    "#### Упражнение 1\n",
    "Сравните результат работы предобученной сети и сети с произвольной инициализацией параметров.\n",
    "Для этого загрузите и тот и другой в разные модели и проведите оценку функции потерь, метрик качества, а также проведите визуальное сравнение.\n"
   ]
  },
  {
   "cell_type": "code",
   "execution_count": null,
   "metadata": {
    "id": "vSpUv8cMqOhk"
   },
   "outputs": [],
   "source": []
  },
  {
   "cell_type": "markdown",
   "metadata": {
    "id": "omYX6wWCqOhk"
   },
   "source": [
    "#### Упражнение 2\n",
    "\n",
    "На самом деле процедура тренировки автоэнкодера без учителя не требует процедуры валидации.\n",
    "Перепишите процедуру тренировки автоэнкодра так, чтобы исключить из нее валидацию."
   ]
  },
  {
   "cell_type": "code",
   "execution_count": null,
   "metadata": {
    "id": "iPLJgSlNqOhk"
   },
   "outputs": [],
   "source": []
  }
 ],
 "metadata": {
  "colab": {
   "name": "lab6_rus.ipynb",
   "provenance": []
  },
  "kernelspec": {
   "display_name": "Python 3",
   "language": "python",
   "name": "python3"
  },
  "language_info": {
   "codemirror_mode": {
    "name": "ipython",
    "version": 3
   },
   "file_extension": ".py",
   "mimetype": "text/x-python",
   "name": "python",
   "nbconvert_exporter": "python",
   "pygments_lexer": "ipython3",
   "version": "3.7.0"
  }
 },
 "nbformat": 4,
 "nbformat_minor": 4
}
