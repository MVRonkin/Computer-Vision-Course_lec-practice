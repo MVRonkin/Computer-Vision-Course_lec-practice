{
 "cells": [
  {
   "cell_type": "markdown",
   "metadata": {
    "id": "NGJeybGmqOhe"
   },
   "source": [
    "# Сверточные нейронные сети в PyTorch"
   ]
  },
  {
   "cell_type": "markdown",
   "metadata": {
    "id": "_slzV1gBqOhe"
   },
   "source": [
    "---"
   ]
  },
  {
   "cell_type": "markdown",
   "metadata": {
    "id": "V_s0BkBUqOhe"
   },
   "source": [
    "## Сверточная нейронная сеть классификации изображений"
   ]
  },
  {
   "cell_type": "code",
   "execution_count": null,
   "metadata": {
    "id": "1SdD6J7hqOhe"
   },
   "outputs": [],
   "source": [
    "import matplotlib.pyplot as plt\n",
    "import numpy as np"
   ]
  },
  {
   "cell_type": "code",
   "execution_count": null,
   "metadata": {
    "id": "LGHI9y6vqOhf"
   },
   "outputs": [],
   "source": [
    "import torch\n",
    "import torch.nn as nn\n",
    "import torch.nn.functional as F\n",
    "import torch.optim as optim\n",
    "\n",
    "import torchvision\n",
    "import torchvision.transforms as transforms\n",
    "\n",
    "try:  \n",
    "  from torchsummary import summary\n",
    "except:\n",
    "  !pip install -U torchsummary\n",
    "  from torchsummary import summary"
   ]
  },
  {
   "cell_type": "markdown",
   "metadata": {
    "id": "9grafA9fqOhf"
   },
   "source": [
    "Рассмотрим задачу классификации для датасета Cifar10 - это классический датасет с изображениями, относящимися к 10 классам.\n",
    "Каждое изображение трех-цветное и имеет размер 32 на 32 пикслея (то есть представляет тензор размером 3х32х32).\n",
    "\n",
    "Например Cifar10 содержит следующие изображения.\n",
    "\n",
    "![](https://debuggercafe.com/wp-content/uploads/2019/10/cifar10_plot.png)"
   ]
  },
  {
   "cell_type": "markdown",
   "metadata": {
    "id": "zMxy_BKBqOhf"
   },
   "source": [
    "Загрузим датасет и проведем его нормализацию"
   ]
  },
  {
   "cell_type": "code",
   "execution_count": null,
   "metadata": {
    "id": "TgULYeyyqOhf",
    "outputId": "a755bc09-8fb0-4a50-b228-dd9bb1569a4d"
   },
   "outputs": [
    {
     "name": "stdout",
     "output_type": "stream",
     "text": [
      "Files already downloaded and verified\n",
      "Files already downloaded and verified\n"
     ]
    }
   ],
   "source": [
    "transform =\\\n",
    "    transforms.Compose([transforms.ToTensor(),\n",
    "                        transforms.Normalize( \n",
    "                            mean = (0.5, 0.5, 0.5), \n",
    "                            std  = (0.5, 0.5, 0.5)  )\n",
    "                       ])\n",
    "\n",
    "BATCH_SIZE = 4\n",
    "\n",
    "trainset = torchvision.datasets.CIFAR10(root      = './data', \n",
    "                                        train     = True,\n",
    "                                        download  = True, \n",
    "                                        transform = transform)\n",
    "\n",
    "trainloader = torch.utils.data.DataLoader(trainset, \n",
    "                                          batch_size = BATCH_SIZE,\n",
    "                                          shuffle    = True)\n",
    "\n",
    "testset = torchvision.datasets.CIFAR10(root      = './data', \n",
    "                                       train     = False,\n",
    "                                       download  = True, \n",
    "                                       transform = transform)\n",
    "\n",
    "testloader = torch.utils.data.DataLoader(testset, \n",
    "                                         batch_size = BATCH_SIZE,\n",
    "                                         shuffle    = False)\n",
    "\n",
    "classes = ('plane', 'car', 'bird', 'cat','deer', 'dog', 'frog', 'horse', 'ship', 'truck')"
   ]
  },
  {
   "cell_type": "markdown",
   "metadata": {
    "id": "bNaSI2HjqOhg"
   },
   "source": [
    "Посмотрим на примеры изображений"
   ]
  },
  {
   "cell_type": "code",
   "execution_count": null,
   "metadata": {
    "id": "khfmbrD4qOhg",
    "outputId": "1499ebf6-2fd6-4e18-f48b-61781bf19703"
   },
   "outputs": [
    {
     "data": {
      "image/png": "[encoded data removed]",
      "text/plain": [
       "<Figure size 1152x288 with 1 Axes>"
      ]
     },
     "metadata": {
      "needs_background": "light",
      "tags": []
     },
     "output_type": "display_data"
    },
    {
     "name": "stdout",
     "output_type": "stream",
     "text": [
      "  dog horse  frog  bird\n"
     ]
    }
   ],
   "source": [
    "def imshow(img):\n",
    "    img = img / 2 + 0.5     # unnormalize\n",
    "    npimg = img.numpy()\n",
    "    \n",
    "    plt.figure(figsize=(16,4))\n",
    "    plt.imshow(np.transpose(npimg, (1, 2, 0)))\n",
    "    plt.show()\n",
    "\n",
    "batch = trainloader\n",
    "\n",
    "dataiter = iter(trainloader)\n",
    "images, labels = dataiter.next()\n",
    "\n",
    "imshow(torchvision.utils.make_grid(images))\n",
    "\n",
    "print(' '.join('%5s' % classes[labels[j]] for j in range(4)))"
   ]
  },
  {
   "cell_type": "markdown",
   "metadata": {
    "id": "mNkJhfPMqOhg"
   },
   "source": [
    "Теперь опишем класс сети. Будем использовать классическую сеть LeNet. Данная сеть была предложена в 1998 году и является одной из первых попыток разработки современного deep learning. \n",
    "\n",
    "Сеть имеет следующую архитектуру\n",
    "\n",
    "![](https://miro.medium.com/max/3600/1*-NnRGtEsiLHfNnUCSXoa-Q.png)"
   ]
  },
  {
   "cell_type": "markdown",
   "metadata": {
    "id": "KyeP6nBlqOhg"
   },
   "source": [
    "Таким образом сеть имеет:\n",
    " * входной слой для изображений 32х32 ( в нашем случае 3х32х32),\n",
    " * два сверточных слоя, \n",
    " * каждый сверточный слой имеет также макс-пулинг субдискретизацию,\n",
    " * слой векторизации карты признаков (приобразования матрицы в вектор путем ее \"разворачивания\",\n",
    " * два полносвязных внутренних слоя,\n",
    " * выходной слой - слой классификации с 10 выходами.\n",
    "\n",
    "Также особенности архитектуры:\n",
    "* свертка валидная (с уменьшением размера карты признаков на размер ядра - 1)$^*$;\n",
    "* ядро свертки имеет размер 5х5 (размер ядра = 5);\n",
    "* макс-пулин выполняется с шагом 2 по тайлам 2х2;\n",
    "* первый сверточный слой выдает 6 карт признаков 14х14 (после макс-пулинга);\n",
    "* второй сверточный слой выдает 16 карт признаков 5х5 (после макс-пулинга);\n",
    "* слой разворачивания принимает 16 карт признаков 5х5 и выдет вектор $1х16*5*5$ (1х400);\n",
    "* первый полносвязный слой имеет 120 выходов (120 перцептронов);\n",
    "* второй полносвязный слой имеет на выходе 84 перцептрона.\n",
    "\n",
    "$^*$Вобщем случае размер выхода свертки можно расчитать как: W=(W−F+2P)/S+1, where W is input size, F is kernel size, S is stride applied, and P is padding. "
   ]
  },
  {
   "cell_type": "markdown",
   "metadata": {
    "id": "F5CJ8B-wqOhg"
   },
   "source": [
    "**Реализуем сверточную сеть LeNet в виде класса, !Однако, для учебных целей добавим в сеть батч-нормализацию и дроп-ауты**"
   ]
  },
  {
   "cell_type": "code",
   "execution_count": null,
   "metadata": {
    "id": "G7lsTeGUqOhg"
   },
   "outputs": [],
   "source": [
    "class CNNModel(nn.Module):\n",
    "    \n",
    "    N_CLASSES = 10  \n",
    "    \n",
    "    def __init__(self):\n",
    "        super(CNNModel, self).__init__()\n",
    "        \n",
    "        # convolution\n",
    "        self.conv1   = nn.Conv2d(in_channels  = 3, \n",
    "                                 out_channels = 6, \n",
    "                                 kernel_size  = 5)       \n",
    "\n",
    "        self.conv2   = nn.Conv2d(in_channels  = 6, \n",
    "                                 out_channels = 16,\n",
    "                                 kernel_size  = 5)\n",
    "        \n",
    "        self.bn  = nn.BatchNorm2d(16)  \n",
    "        self.dropout = nn.Dropout(0.1)\n",
    "        \n",
    "        self.maxpool = nn.MaxPool2d(kernel_size = 2, \n",
    "                                    stride      = 2)\n",
    "        \n",
    "        # classification\n",
    "        self.fc1 = nn.Linear(in_features  = 16 * 5 * 5, \n",
    "                             out_features = 120)\n",
    "        \n",
    "        self.fc2 = nn.Linear(in_features  = 120, \n",
    "                             out_features = 84)\n",
    "        \n",
    "        self.fc_out = nn.Linear(in_features = 84, \n",
    "                                out_features = self.N_CLASSES)\n",
    "    \n",
    "    # specific operation\n",
    "    def flatten(self, x):\n",
    "        return x.view(-1, 16 * 5 * 5)\n",
    "    \n",
    "    def forward(self, x):\n",
    "        \n",
    "        # 1-st layer\n",
    "        x = self.conv1(x)\n",
    "        x = torch.relu(x)        \n",
    "        x = self.maxpool(x)\n",
    "        x = self.dropout(x)\n",
    "        \n",
    "        #2-nd layer\n",
    "        x = self.conv2(x)         \n",
    "        x = self.bn(x)        \n",
    "        x = torch.relu(x)        \n",
    "        x = self.maxpool(x)\n",
    "\n",
    "        #flatten\n",
    "        x = self.flatten(x)\n",
    "        \n",
    "        # 1-st fc layer\n",
    "        x = self.fc1(x)\n",
    "        x = torch.relu(x)\n",
    "        \n",
    "        # 2-nd fc layer\n",
    "        x = self.fc2(x)\n",
    "        x = torch.relu(x)\n",
    "        \n",
    "        # output layer\n",
    "        x = self.fc_out(x)\n",
    "        \n",
    "        return x#torch.softmax(x, dim=1)"
   ]
  },
  {
   "cell_type": "code",
   "execution_count": null,
   "metadata": {
    "id": "n1wg_3b1qOhg",
    "outputId": "d4de1382-9559-43ef-f87f-061ed8647c1d"
   },
   "outputs": [
    {
     "name": "stdout",
     "output_type": "stream",
     "text": [
      "torch.Size([4, 3, 32, 32])\n"
     ]
    }
   ],
   "source": [
    "print(images.shape)"
   ]
  },
  {
   "cell_type": "markdown",
   "metadata": {
    "id": "iY8XZwb6qOhg"
   },
   "source": [
    "**Опишим настрой**"
   ]
  },
  {
   "cell_type": "code",
   "execution_count": null,
   "metadata": {
    "id": "AAFRXpK-qOhg"
   },
   "outputs": [],
   "source": [
    "LR = 0.001\n",
    "cnn_net   = CNNModel()\n",
    "criterion = nn.CrossEntropyLoss()\n",
    "optimizer = torch.optim.Adam(cnn_net.parameters(), lr=LR)\n"
   ]
  },
  {
   "cell_type": "markdown",
   "metadata": {
    "id": "TMMEP0FBqOhh"
   },
   "source": [
    "Посмотрим структуру параметров созданной сети"
   ]
  },
  {
   "cell_type": "code",
   "execution_count": null,
   "metadata": {
    "id": "Zy9FMZaWqOhh",
    "outputId": "a20acec7-dcec-4df3-c562-37a2b36e7a0e"
   },
   "outputs": [
    {
     "name": "stdout",
     "output_type": "stream",
     "text": [
      "conv1.weight \t structure = [6, 3, 5, 5]\n",
      "conv1.bias \t structure = [6]\n",
      "conv2.weight \t structure = [16, 6, 5, 5]\n",
      "conv2.bias \t structure = [16]\n",
      "bn.weight \t structure = [16]\n",
      "bn.bias \t structure = [16]\n",
      "fc1.weight \t structure = [120, 400]\n",
      "fc1.bias \t structure = [120]\n",
      "fc2.weight \t structure = [84, 120]\n",
      "fc2.bias \t structure = [84]\n",
      "fc_out.weight \t structure = [10, 84]\n",
      "fc_out.bias \t structure = [10]\n"
     ]
    }
   ],
   "source": [
    "for name, param in cnn_net.named_parameters():\n",
    "    print(name, '\\t structure =',list(param.size()))"
   ]
  },
  {
   "cell_type": "code",
   "execution_count": null,
   "metadata": {
    "id": "qP-hu0bHqOhh",
    "outputId": "9b9d44d2-e659-4379-a7b8-7dd5edc7d6fc"
   },
   "outputs": [
    {
     "name": "stdout",
     "output_type": "stream",
     "text": [
      "----------------------------------------------------------------\n",
      "        Layer (type)               Output Shape         Param #\n",
      "================================================================\n",
      "            Conv2d-1            [-1, 6, 28, 28]             456\n",
      "         MaxPool2d-2            [-1, 6, 14, 14]               0\n",
      "           Dropout-3            [-1, 6, 14, 14]               0\n",
      "            Conv2d-4           [-1, 16, 10, 10]           2,416\n",
      "       BatchNorm2d-5           [-1, 16, 10, 10]              32\n",
      "         MaxPool2d-6             [-1, 16, 5, 5]               0\n",
      "            Linear-7                  [-1, 120]          48,120\n",
      "            Linear-8                   [-1, 84]          10,164\n",
      "            Linear-9                   [-1, 10]             850\n",
      "================================================================\n",
      "Total params: 62,038\n",
      "Trainable params: 62,038\n",
      "Non-trainable params: 0\n",
      "----------------------------------------------------------------\n",
      "Input size (MB): 0.01\n",
      "Forward/backward pass size (MB): 0.08\n",
      "Params size (MB): 0.24\n",
      "Estimated Total Size (MB): 0.33\n",
      "----------------------------------------------------------------\n"
     ]
    }
   ],
   "source": [
    "summary(cnn_net,input_size=(3, 32, 32))"
   ]
  },
  {
   "cell_type": "markdown",
   "metadata": {
    "id": "8Oz5Q80yqOhh"
   },
   "source": [
    "**Процесс обучения**"
   ]
  },
  {
   "cell_type": "code",
   "execution_count": null,
   "metadata": {
    "id": "FPyqq-tYqOhh",
    "outputId": "8a50dee9-d05b-4417-f2e2-441247ed3cf5"
   },
   "outputs": [
    {
     "name": "stdout",
     "output_type": "stream",
     "text": [
      "[1,  2000] loss: 1.894\n",
      "[1,  4000] loss: 1.706\n",
      "[1,  6000] loss: 1.613\n",
      "[1,  8000] loss: 1.547\n",
      "[1, 10000] loss: 1.502\n",
      "[1, 12000] loss: 1.478\n",
      "[2,  2000] loss: 1.432\n",
      "[2,  4000] loss: 1.392\n",
      "[2,  6000] loss: 1.385\n",
      "[2,  8000] loss: 1.340\n",
      "[2, 10000] loss: 1.351\n",
      "[2, 12000] loss: 1.325\n",
      "[3,  2000] loss: 1.281\n",
      "[3,  4000] loss: 1.275\n",
      "[3,  6000] loss: 1.289\n",
      "[3,  8000] loss: 1.263\n",
      "[3, 10000] loss: 1.246\n",
      "[3, 12000] loss: 1.255\n",
      "[4,  2000] loss: 1.217\n",
      "[4,  4000] loss: 1.226\n",
      "[4,  6000] loss: 1.201\n",
      "[4,  8000] loss: 1.205\n",
      "[4, 10000] loss: 1.205\n",
      "[4, 12000] loss: 1.188\n",
      "[5,  2000] loss: 1.143\n",
      "[5,  4000] loss: 1.150\n",
      "[5,  6000] loss: 1.161\n",
      "[5,  8000] loss: 1.145\n",
      "[5, 10000] loss: 1.166\n",
      "[5, 12000] loss: 1.165\n",
      "Finished Training\n"
     ]
    }
   ],
   "source": [
    "EPOHS = 5\n",
    "\n",
    "for epoch in range(EPOHS):  # loop over the dataset multiple times\n",
    "    cnn_net.train()\n",
    "    running_loss = 0.0\n",
    "    for i, data in enumerate(trainloader, 0):\n",
    "        \n",
    "        # get the inputs; data is a list of [inputs, labels]\n",
    "        inputs, labels = data\n",
    "\n",
    "        # zero the parameter gradients\n",
    "        optimizer.zero_grad()\n",
    "\n",
    "        # forward + backward + optimize        \n",
    "        outputs = cnn_net(inputs)        \n",
    "        loss    = criterion(outputs, labels)\n",
    "        loss.backward()\n",
    "        optimizer.step()\n",
    "\n",
    "        # print statistics\n",
    "        running_loss += loss.item()\n",
    "        \n",
    "        if i % 2000 == 1999:    # print every 2000 mini-batches\n",
    "            print('[%d, %5d] loss: %.3f' %\n",
    "                  (epoch + 1, i + 1, running_loss / 2000))\n",
    "            running_loss = 0.0\n",
    "\n",
    "print('Finished Training')"
   ]
  },
  {
   "cell_type": "markdown",
   "metadata": {
    "id": "bxNd7DGJqOhh"
   },
   "source": [
    "**Сохраним результат**"
   ]
  },
  {
   "cell_type": "code",
   "execution_count": null,
   "metadata": {
    "id": "c_5GzLrnqOhh"
   },
   "outputs": [],
   "source": [
    "PATH = './cifar_net.pth'\n",
    "torch.save(cnn_net.state_dict(), PATH)"
   ]
  },
  {
   "cell_type": "markdown",
   "metadata": {
    "id": "2SpaMlYiqOhh"
   },
   "source": [
    "**Загрузим результат**"
   ]
  },
  {
   "cell_type": "code",
   "execution_count": null,
   "metadata": {
    "id": "vU1W2uZRqOhh",
    "outputId": "4537075e-96ef-4e86-c868-f55e41f97e88"
   },
   "outputs": [
    {
     "data": {
      "text/plain": [
       "<All keys matched successfully>"
      ]
     },
     "execution_count": 12,
     "metadata": {
      "tags": []
     },
     "output_type": "execute_result"
    }
   ],
   "source": [
    "cnn_net = CNNModel()\n",
    "cnn_net.load_state_dict(torch.load(PATH))"
   ]
  },
  {
   "cell_type": "markdown",
   "metadata": {
    "id": "0A7VXC_YqOhh"
   },
   "source": [
    "**Проверим результат на тесте**"
   ]
  },
  {
   "cell_type": "code",
   "execution_count": null,
   "metadata": {
    "id": "BoYG-zWHqOhh",
    "outputId": "1f28bae5-9be3-419d-818d-7d4e14d3c5a3"
   },
   "outputs": [
    {
     "name": "stdout",
     "output_type": "stream",
     "text": [
      "tensor([[-3.2837, -3.9673, -1.5299,  0.7314, -1.7745, -0.0486, -0.6104, -3.3757,\n",
      "         -0.9014, -3.8526],\n",
      "        [-0.2538,  3.5094, -5.6621, -6.5749, -7.8627, -6.9011, -7.5081, -8.6892,\n",
      "          1.7389, -1.0329],\n",
      "        [ 0.5637,  0.0210, -2.3020, -3.8727, -4.1313, -3.7516, -4.5720, -4.9599,\n",
      "          1.0423, -1.8073],\n",
      "        [ 1.0702, -1.3061, -2.3262, -4.3609, -3.3588, -4.0132, -5.9665, -3.8883,\n",
      "          1.4958, -4.3026]], grad_fn=<AddmmBackward>)\n"
     ]
    }
   ],
   "source": [
    "cnn_net.eval()\n",
    "dataiter = iter(testloader)\n",
    "images, labels = dataiter.next()\n",
    "outputs = cnn_net(images)\n",
    "print(outputs)"
   ]
  },
  {
   "cell_type": "markdown",
   "metadata": {
    "id": "QbZHlDMlqOhh"
   },
   "source": [
    "**Приведем результат к более понятному виду**\n",
    "Каждый номер в выходном тензоре будет класс соответствующий картинке батча"
   ]
  },
  {
   "cell_type": "code",
   "execution_count": null,
   "metadata": {
    "id": "gjUv3Gy4qOhh",
    "outputId": "646468f2-acd6-43b4-a7aa-e52b5cd1f831"
   },
   "outputs": [
    {
     "name": "stdout",
     "output_type": "stream",
     "text": [
      "tensor([3, 1, 8, 8])\n"
     ]
    }
   ],
   "source": [
    "_, predicted = torch.max(outputs, 1)\n",
    "print(predicted)"
   ]
  },
  {
   "cell_type": "markdown",
   "metadata": {
    "id": "Y-gpS871qOhh"
   },
   "source": [
    "**Посмотрим, что получилось**"
   ]
  },
  {
   "cell_type": "code",
   "execution_count": null,
   "metadata": {
    "id": "QwsWqVNvqOhh",
    "outputId": "33698e96-ff9e-4e95-e816-c8500c9365d9"
   },
   "outputs": [
    {
     "data": {
      "image/png": "[encoded data removed]",
      "text/plain": [
       "<Figure size 1152x288 with 1 Axes>"
      ]
     },
     "metadata": {
      "needs_background": "light",
      "tags": []
     },
     "output_type": "display_data"
    },
    {
     "name": "stdout",
     "output_type": "stream",
     "text": [
      "GroundTruth:    cat  ship  ship plane\n",
      "Predicted :     cat   car  ship  ship\n"
     ]
    }
   ],
   "source": [
    "# print images\n",
    "imshow(torchvision.utils.make_grid(images))\n",
    "print('GroundTruth: ', ' '.join('%5s' % classes[labels[j]] for j in range(4)))\n",
    "print('Predicted :  ', ' '.join('%5s' % classes[predicted[j]] for j in range(4)))"
   ]
  },
  {
   "cell_type": "markdown",
   "metadata": {
    "id": "wmCtOCURqOhh"
   },
   "source": [
    "**Попробуем посчитать точность как число правильно классифицированных изобаржений к общему числу изображений**"
   ]
  },
  {
   "cell_type": "code",
   "execution_count": null,
   "metadata": {
    "id": "c57o9FL2qOhh",
    "outputId": "553e1be3-6f44-4976-fa1c-b04640b16b78"
   },
   "outputs": [
    {
     "name": "stdout",
     "output_type": "stream",
     "text": [
      "Accuracy of the network on the 10000 test images: 59 %\n"
     ]
    }
   ],
   "source": [
    "cnn_net.eval()\n",
    "correct = 0\n",
    "total   = 0\n",
    "with torch.no_grad():\n",
    "    for data in testloader:\n",
    "        images, labels = data\n",
    "        outputs        = cnn_net(images)\n",
    "        _, predicted    = torch.max(outputs.data, 1)\n",
    "        total   += labels.size(0)\n",
    "        correct += (predicted == labels).sum().item()\n",
    "\n",
    "print('Accuracy of the network on the 10000 test images: %d %%' % (\n",
    "    100 * correct / total))"
   ]
  },
  {
   "cell_type": "markdown",
   "metadata": {
    "id": "jR1L29PzqOhh"
   },
   "source": [
    "**Проведем анализ по каждому классу**"
   ]
  },
  {
   "cell_type": "code",
   "execution_count": null,
   "metadata": {
    "id": "ZWtxDLkgqOhh",
    "outputId": "6158960a-c8ec-4221-deca-41279009117b"
   },
   "outputs": [
    {
     "name": "stdout",
     "output_type": "stream",
     "text": [
      "Accuracy of plane : 76 %\n",
      "Accuracy of   car : 83 %\n",
      "Accuracy of  bird : 52 %\n",
      "Accuracy of   cat : 30 %\n",
      "Accuracy of  deer : 49 %\n",
      "Accuracy of   dog : 43 %\n",
      "Accuracy of  frog : 67 %\n",
      "Accuracy of horse : 70 %\n",
      "Accuracy of  ship : 65 %\n",
      "Accuracy of truck : 57 %\n"
     ]
    }
   ],
   "source": [
    "cnn_net.eval()\n",
    "class_correct = list(0. for i in range(10))\n",
    "class_total   = list(0. for i in range(10))\n",
    "with torch.no_grad():\n",
    "    for data in testloader:\n",
    "        images, labels = data\n",
    "        outputs = cnn_net(images)\n",
    "        _, predicted = torch.max(outputs, 1)\n",
    "        c = (predicted == labels).squeeze()\n",
    "        for i in range(4):\n",
    "            label = labels[i]\n",
    "            class_correct[label] += c[i].item()\n",
    "            class_total[label]   += 1\n",
    "\n",
    "\n",
    "for i in range(10):\n",
    "    print('Accuracy of %5s : %2d %%' % (\n",
    "        classes[i], 100 * class_correct[i] / class_total[i]))"
   ]
  },
  {
   "cell_type": "markdown",
   "metadata": {
    "id": "E4m8xWrlqOhh"
   },
   "source": [
    "#### Упражнение 1 \n",
    "Добавьте к процессу обучения валидацию и добавьте валидационный датасет."
   ]
  },
  {
   "cell_type": "code",
   "execution_count": null,
   "metadata": {
    "id": "hx-i_WrbqOhh"
   },
   "outputs": [],
   "source": []
  },
  {
   "cell_type": "markdown",
   "metadata": {
    "id": "inl4hZzFqOhi"
   },
   "source": [
    "#### Упражнение 2\n",
    "Улучшьте архитектуру сети путем использования доп.слоев батч-нормализации, дроп-аутов, добавлением слоев и друхи техник."
   ]
  },
  {
   "cell_type": "code",
   "execution_count": null,
   "metadata": {
    "id": "D9v2hFKkqOhi"
   },
   "outputs": [],
   "source": []
  },
  {
   "cell_type": "markdown",
   "metadata": {
    "id": "VYEXVFIXqOhi"
   },
   "source": [
    "#### Упражнение 3\n",
    "Проанализируйте полученные результаты, уберите из обучающей выборки класс с наименьшей точностью, проведите повторное обучение.\n"
   ]
  },
  {
   "cell_type": "code",
   "execution_count": null,
   "metadata": {
    "id": "DFG8LEkkqOhi"
   },
   "outputs": [],
   "source": []
  },
  {
   "cell_type": "markdown",
   "metadata": {
    "id": "uHEAUmWXqOhi"
   },
   "source": [
    "- - -"
   ]
  },
  {
   "cell_type": "markdown",
   "metadata": {
    "id": "W2q3kmAQqOhi"
   },
   "source": [
    "## Оптимизация  обучения модели сверточной сети"
   ]
  },
  {
   "cell_type": "markdown",
   "metadata": {
    "id": "U-JaxWBCqOhi"
   },
   "source": [
    "**Инициализация весов модели**"
   ]
  },
  {
   "cell_type": "code",
   "execution_count": null,
   "metadata": {
    "id": "yGhScOO5qOhi"
   },
   "outputs": [],
   "source": [
    "cnn_net = CNNModel()\n",
    "        \n",
    "def init_weights(m):\n",
    "    # for differernt types of layers different initialization could be applied\n",
    "    if type(m) == nn.Linear:\n",
    "        torch.nn.init.kaiming_normal_(m.weight)\n",
    "        m.bias.data.fill_(0.01)\n",
    "    \n",
    "    #same as type(m) == nn.Conv2d, but more correct to use isinstance   \n",
    "    if isinstance(m, nn.Conv2d):  \n",
    "        torch.nn.init.xavier_uniform_(m.weight)\n",
    "        torch.nn.init.zeros_(m.bias)   \n",
    "\n",
    "cnn_net.apply(init_weights);"
   ]
  },
  {
   "cell_type": "code",
   "execution_count": null,
   "metadata": {
    "id": "EU6yCJ1lqOhi"
   },
   "outputs": [],
   "source": [
    "criterion = nn.CrossEntropyLoss()\n",
    "optimizer = torch.optim.Adam(cnn_net.parameters(), lr=0.001)"
   ]
  },
  {
   "cell_type": "markdown",
   "metadata": {
    "id": "2woUaaJHqOhi"
   },
   "source": [
    "Проверим как прошла инициализация для значений смещений"
   ]
  },
  {
   "cell_type": "code",
   "execution_count": null,
   "metadata": {
    "id": "5XnT1dbqqOhi",
    "outputId": "0ab6b05f-badc-493b-c5ea-e4547ee1e5c0"
   },
   "outputs": [
    {
     "name": "stdout",
     "output_type": "stream",
     "text": [
      "Parameter containing:\n",
      "tensor([0., 0., 0., 0., 0., 0.], requires_grad=True) \n",
      "\n",
      "Parameter containing:\n",
      "tensor([0., 0., 0., 0., 0., 0., 0., 0., 0., 0., 0., 0., 0., 0., 0., 0.],\n",
      "       requires_grad=True) \n",
      "\n",
      "Parameter containing:\n",
      "tensor([0., 0., 0., 0., 0., 0., 0., 0., 0., 0., 0., 0., 0., 0., 0., 0.],\n",
      "       requires_grad=True) \n",
      "\n",
      "Parameter containing:\n",
      "tensor([0.0100, 0.0100, 0.0100, 0.0100, 0.0100, 0.0100, 0.0100, 0.0100, 0.0100,\n",
      "        0.0100, 0.0100, 0.0100, 0.0100, 0.0100, 0.0100, 0.0100, 0.0100, 0.0100,\n",
      "        0.0100, 0.0100, 0.0100, 0.0100, 0.0100, 0.0100, 0.0100, 0.0100, 0.0100,\n",
      "        0.0100, 0.0100, 0.0100, 0.0100, 0.0100, 0.0100, 0.0100, 0.0100, 0.0100,\n",
      "        0.0100, 0.0100, 0.0100, 0.0100, 0.0100, 0.0100, 0.0100, 0.0100, 0.0100,\n",
      "        0.0100, 0.0100, 0.0100, 0.0100, 0.0100, 0.0100, 0.0100, 0.0100, 0.0100,\n",
      "        0.0100, 0.0100, 0.0100, 0.0100, 0.0100, 0.0100, 0.0100, 0.0100, 0.0100,\n",
      "        0.0100, 0.0100, 0.0100, 0.0100, 0.0100, 0.0100, 0.0100, 0.0100, 0.0100,\n",
      "        0.0100, 0.0100, 0.0100, 0.0100, 0.0100, 0.0100, 0.0100, 0.0100, 0.0100,\n",
      "        0.0100, 0.0100, 0.0100, 0.0100, 0.0100, 0.0100, 0.0100, 0.0100, 0.0100,\n",
      "        0.0100, 0.0100, 0.0100, 0.0100, 0.0100, 0.0100, 0.0100, 0.0100, 0.0100,\n",
      "        0.0100, 0.0100, 0.0100, 0.0100, 0.0100, 0.0100, 0.0100, 0.0100, 0.0100,\n",
      "        0.0100, 0.0100, 0.0100, 0.0100, 0.0100, 0.0100, 0.0100, 0.0100, 0.0100,\n",
      "        0.0100, 0.0100, 0.0100], requires_grad=True) \n",
      "\n",
      "Parameter containing:\n",
      "tensor([0.0100, 0.0100, 0.0100, 0.0100, 0.0100, 0.0100, 0.0100, 0.0100, 0.0100,\n",
      "        0.0100, 0.0100, 0.0100, 0.0100, 0.0100, 0.0100, 0.0100, 0.0100, 0.0100,\n",
      "        0.0100, 0.0100, 0.0100, 0.0100, 0.0100, 0.0100, 0.0100, 0.0100, 0.0100,\n",
      "        0.0100, 0.0100, 0.0100, 0.0100, 0.0100, 0.0100, 0.0100, 0.0100, 0.0100,\n",
      "        0.0100, 0.0100, 0.0100, 0.0100, 0.0100, 0.0100, 0.0100, 0.0100, 0.0100,\n",
      "        0.0100, 0.0100, 0.0100, 0.0100, 0.0100, 0.0100, 0.0100, 0.0100, 0.0100,\n",
      "        0.0100, 0.0100, 0.0100, 0.0100, 0.0100, 0.0100, 0.0100, 0.0100, 0.0100,\n",
      "        0.0100, 0.0100, 0.0100, 0.0100, 0.0100, 0.0100, 0.0100, 0.0100, 0.0100,\n",
      "        0.0100, 0.0100, 0.0100, 0.0100, 0.0100, 0.0100, 0.0100, 0.0100, 0.0100,\n",
      "        0.0100, 0.0100, 0.0100], requires_grad=True) \n",
      "\n",
      "Parameter containing:\n",
      "tensor([0.0100, 0.0100, 0.0100, 0.0100, 0.0100, 0.0100, 0.0100, 0.0100, 0.0100,\n",
      "        0.0100], requires_grad=True) \n",
      "\n"
     ]
    }
   ],
   "source": [
    "for name, p in cnn_net.named_parameters():    \n",
    "    if 'bias' in name:\n",
    "        print(p,'\\n')"
   ]
  },
  {
   "cell_type": "markdown",
   "metadata": {
    "id": "0lE4Hp0fqOhi"
   },
   "source": [
    "Также посмортим веса для одного из слоев"
   ]
  },
  {
   "cell_type": "code",
   "execution_count": null,
   "metadata": {
    "id": "4HUFuQNdqOhi",
    "outputId": "62425ea4-cf09-4106-9953-de27d424c6a0"
   },
   "outputs": [
    {
     "name": "stdout",
     "output_type": "stream",
     "text": [
      "Parameter containing:\n",
      "tensor([[-0.0049,  0.1568, -0.1938,  ...,  0.0210,  0.2001,  0.0854],\n",
      "        [ 0.2390,  0.1583,  0.1660,  ...,  0.2324, -0.1878, -0.0452],\n",
      "        [-0.1908,  0.0208, -0.0475,  ..., -0.1081, -0.0418,  0.0394],\n",
      "        ...,\n",
      "        [-0.1874, -0.2636,  0.0752,  ...,  0.1175, -0.1062, -0.1552],\n",
      "        [ 0.0119, -0.1899, -0.2029,  ...,  0.1675,  0.0606, -0.0726],\n",
      "        [ 0.2841,  0.1060, -0.0233,  ..., -0.1134, -0.0474,  0.1394]],\n",
      "       requires_grad=True)\n"
     ]
    }
   ],
   "source": [
    "print(cnn_net.fc2.weight)"
   ]
  },
  {
   "cell_type": "markdown",
   "metadata": {
    "id": "8bzRkXAFqOhi"
   },
   "source": [
    "**Регуляризаия**"
   ]
  },
  {
   "cell_type": "markdown",
   "metadata": {
    "id": "Girfbs1sqOhi"
   },
   "source": [
    "используем эластическую регуляризацию для весов и для смещения."
   ]
  },
  {
   "cell_type": "code",
   "execution_count": null,
   "metadata": {
    "id": "vMCPls8BqOhi",
    "outputId": "4e8ece48-677e-4ee9-a68b-f71785c8f4d7"
   },
   "outputs": [
    {
     "name": "stdout",
     "output_type": "stream",
     "text": [
      "[1,  2000] loss: 2.244\n",
      "[1,  4000] loss: 1.931\n",
      "[1,  6000] loss: 1.801\n",
      "[1,  8000] loss: 1.731\n",
      "[1, 10000] loss: 1.704\n",
      "[1, 12000] loss: 1.662\n",
      "[2,  2000] loss: 1.621\n",
      "[2,  4000] loss: 1.619\n",
      "[2,  6000] loss: 1.598\n",
      "[2,  8000] loss: 1.592\n",
      "[2, 10000] loss: 1.588\n"
     ]
    },
    {
     "ename": "KeyboardInterrupt",
     "evalue": "",
     "output_type": "error",
     "traceback": [
      "\u001b[1;31m---------------------------------------------------------------------------\u001b[0m",
      "\u001b[1;31mKeyboardInterrupt\u001b[0m                         Traceback (most recent call last)",
      "\u001b[1;32m<ipython-input-35-ace0efcf3cc4>\u001b[0m in \u001b[0;36m<module>\u001b[1;34m\u001b[0m\n\u001b[0;32m     21\u001b[0m \u001b[1;33m\u001b[0m\u001b[0m\n\u001b[0;32m     22\u001b[0m         \u001b[1;32mfor\u001b[0m \u001b[0mp\u001b[0m \u001b[1;32min\u001b[0m \u001b[0mcnn_net\u001b[0m\u001b[1;33m.\u001b[0m\u001b[0mparameters\u001b[0m\u001b[1;33m(\u001b[0m\u001b[1;33m)\u001b[0m\u001b[1;33m:\u001b[0m\u001b[1;33m\u001b[0m\u001b[1;33m\u001b[0m\u001b[0m\n\u001b[1;32m---> 23\u001b[1;33m             \u001b[0ml1_regularization\u001b[0m \u001b[1;33m+=\u001b[0m \u001b[0mtorch\u001b[0m\u001b[1;33m.\u001b[0m\u001b[0mabs\u001b[0m\u001b[1;33m(\u001b[0m\u001b[0mp\u001b[0m\u001b[1;33m)\u001b[0m\u001b[1;33m.\u001b[0m\u001b[0msum\u001b[0m\u001b[1;33m(\u001b[0m\u001b[1;33m)\u001b[0m\u001b[1;33m\u001b[0m\u001b[1;33m\u001b[0m\u001b[0m\n\u001b[0m\u001b[0;32m     24\u001b[0m             \u001b[0ml2_regularization\u001b[0m \u001b[1;33m+=\u001b[0m \u001b[0mtorch\u001b[0m\u001b[1;33m.\u001b[0m\u001b[0mpow\u001b[0m\u001b[1;33m(\u001b[0m\u001b[0mp\u001b[0m\u001b[1;33m,\u001b[0m\u001b[1;36m2\u001b[0m\u001b[1;33m)\u001b[0m\u001b[1;33m.\u001b[0m\u001b[0msum\u001b[0m\u001b[1;33m(\u001b[0m\u001b[1;33m)\u001b[0m\u001b[1;33m\u001b[0m\u001b[1;33m\u001b[0m\u001b[0m\n\u001b[0;32m     25\u001b[0m \u001b[1;33m\u001b[0m\u001b[0m\n",
      "\u001b[1;31mKeyboardInterrupt\u001b[0m: "
     ]
    }
   ],
   "source": [
    "EPOHS = 5\n",
    "lambda_l1 = 1e-5\n",
    "lambda_l2 = 1e-3\n",
    "for epoch in range(EPOHS):  # loop over the dataset multiple times\n",
    "    cnn_net.train()\n",
    "    running_loss = 0.0\n",
    "    for i, data in enumerate(trainloader, 0):\n",
    "        \n",
    "        # get the inputs; data is a list of [inputs, labels]\n",
    "        inputs, labels = data\n",
    "\n",
    "        # zero the parameter gradients\n",
    "        optimizer.zero_grad()\n",
    "\n",
    "        # forward + backward + optimize        \n",
    "        outputs = cnn_net(inputs)        \n",
    "        loss    = criterion(outputs, labels)\n",
    "        \n",
    "        l1_regularization = 0\n",
    "        l2_regularization = 0\n",
    "        \n",
    "        for p in cnn_net.parameters():\n",
    "            l1_regularization += torch.abs(p).sum()\n",
    "            l2_regularization += torch.pow(p,2).sum()     \n",
    "\n",
    "        loss += lambda_l1*l1_regularization + lambda_l2*l2_regularization\n",
    "        \n",
    "        loss.backward()\n",
    "        optimizer.step()\n",
    "\n",
    "        # print statistics\n",
    "        running_loss += loss.item()\n",
    "        \n",
    "        if i % 2000 == 1999:    # print every 2000 mini-batches\n",
    "            print('[%d, %5d] loss: %.3f' %\n",
    "                  (epoch + 1, i + 1, running_loss / 2000))\n",
    "            running_loss = 0.0\n",
    "\n",
    "\n",
    "print('Finished Training')"
   ]
  },
  {
   "cell_type": "markdown",
   "metadata": {
    "id": "U-hO_efaqOhi"
   },
   "source": [
    "посмотрим на результат\n"
   ]
  },
  {
   "cell_type": "code",
   "execution_count": null,
   "metadata": {
    "id": "IX81WUTXqOhi"
   },
   "outputs": [],
   "source": [
    "cnn_net.eval()\n",
    "class_correct = list(0. for i in range(10))\n",
    "class_total   = list(0. for i in range(10))\n",
    "with torch.no_grad():\n",
    "    for data in testloader:\n",
    "        images, labels = data\n",
    "        outputs = cnn_net(images)\n",
    "        _, predicted = torch.max(outputs, 1)\n",
    "        c = (predicted == labels).squeeze()\n",
    "        for i in range(4):\n",
    "            label = labels[i]\n",
    "            class_correct[label] += c[i].item()\n",
    "            class_total[label]   += 1\n",
    "\n",
    "for i in range(10):\n",
    "    print('Accuracy of %5s : %2d %%' % (\n",
    "        classes[i], 100 * class_correct[i] / class_total[i]))"
   ]
  },
  {
   "cell_type": "markdown",
   "metadata": {
    "id": "MsXXw8KwqOhi"
   },
   "source": [
    "#### Упрпажнение 1\n",
    "Проведите инициализацию смещения слоя батч-нормализации нулями.\n"
   ]
  },
  {
   "cell_type": "code",
   "execution_count": null,
   "metadata": {
    "id": "45wiuEGQqOhi"
   },
   "outputs": [],
   "source": []
  },
  {
   "cell_type": "markdown",
   "metadata": {
    "id": "H0LkE75uqOhi"
   },
   "source": [
    "#### Упрпажнение 2\n",
    "1. Исключите из регуляризации слой батч-нормализации.\n",
    "2. Введите особую процедуру регуляризации для выходного слоя сети\n",
    "<details>\n",
    "<summary>Click here for hint</summary>\n",
    "  Обратится к конкретному слою можно\n",
    "```\n",
    "    torch.norm(model.fc1.weight, p=1)\n",
    "```"
   ]
  },
  {
   "cell_type": "code",
   "execution_count": null,
   "metadata": {
    "id": "LsX1ODoVqOhi"
   },
   "outputs": [],
   "source": []
  },
  {
   "cell_type": "markdown",
   "metadata": {
    "id": "SW2hW1awqOhi"
   },
   "source": [
    "- - -"
   ]
  }
 ],
 "metadata": {
  "colab": {
   "name": "lab6_rus.ipynb",
   "provenance": []
  },
  "kernelspec": {
   "display_name": "Python 3",
   "language": "python",
   "name": "python3"
  },
  "language_info": {
   "codemirror_mode": {
    "name": "ipython",
    "version": 3
   },
   "file_extension": ".py",
   "mimetype": "text/x-python",
   "name": "python",
   "nbconvert_exporter": "python",
   "pygments_lexer": "ipython3",
   "version": "3.7.0"
  }
 },
 "nbformat": 4,
 "nbformat_minor": 4
}
