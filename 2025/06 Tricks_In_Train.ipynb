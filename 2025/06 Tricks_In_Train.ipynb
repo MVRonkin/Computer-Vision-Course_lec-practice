{
 "cells": [
  {
   "cell_type": "markdown",
   "id": "32d67e20-f9b7-4ecb-baab-78e8d9221023",
   "metadata": {},
   "source": [
    "# Особенности посторения процесса обучения нейронной сети\n",
    "\n",
    "Больше о настройке обучения нейронных сетей можно найти, например, в:\n",
    "* [A Recipe for Training Neural Networks](https://karpathy.github.io/2019/04/25/recipe/) от Анедрея Карпатых.\n",
    "* [Bag of Tricks for Image Classification with Convolutional Neural Networks](https://arxiv.org/abs/1812.01187) - статья 2018 год об обучении сверточных нейронных сетей\n",
    "* [Tips for Model Training](https://docs.ultralytics.com/guides/model-training-tips/#community-resources) от известной команды `ultralytics` и другие гайд от них и других команд. \n",
    "* и в других тематических публикациях известных специалистов, например [тут](https://sebastianraschka.com/blog/2023/pytorch-faster.html), [тут](https://github.com/vahidk/EffectivePyTorch), [тут](https://github.com/rasbt/deeplearning-models)  а также официальные публикации `PyTorch`, [например](https://pytorch.org/tutorials/recipes/recipes/tuning_guide.html), и известные коллекции примеров, [например](https://madewithml.com/) или [тут](https://github.com/Conchylicultor/Deep-Learning-Tricks). \n",
    "<!-- и [тут](https://stackoverflow.com/questions/70554413/how-to-improve-the-performance-of-cnn-model-for-a-specific-dataset-getting-low). -->\n",
    "* Важно также иметь в виду вопросы ускорения и вычислительной оптимизации обучения нейронных сетей, см., [например](https://habr.com/ru/companies/wunderfund/articles/820721/).\n",
    "* А также важно иметь в виду вопросы настройки гиперпараметров обучения нейронных сетей, см., [например](https://pytorch.org/tutorials/beginner/hyperparameter_tuning_tutorial.html) и [тут](https://docs.ray.io/en/latest/tune/getting-started.html) и [тут](https://docs.ray.io/en/latest/tune/examples/tune-pytorch-cifar.html).\n",
    "* Курс включающий много примеров [тут](https://deeplearning.neuromatch.io/tutorials/W1D5_Optimization/chapter_title.html).\n",
    "* Гайд [Deep Learning Tuning Playbook](https://github.com/google-research/tuning_playbook)\n",
    "* [некоторые заметки](https://habr.com/ru/companies/magnus-tech/articles/846012/)\n",
    "<!-- [![Open In Colab](https://colab.research.google.com/assets/colab-badge.svg)](https://colab.research.google.com/drive/1k5ih-FSbCTuErwBHHi3J3uCN1q4fRzFI) -->"
   ]
  },
  {
   "cell_type": "markdown",
   "id": "76216073-4db1-4cc9-be56-ff2dc77d552f",
   "metadata": {},
   "source": [
    "## Импорт"
   ]
  },
  {
   "cell_type": "code",
   "execution_count": 1,
   "id": "a9dca147-0285-44a8-af91-849b37ef2a45",
   "metadata": {},
   "outputs": [],
   "source": [
    "import torch\n",
    "import torch.nn as nn\n",
    "import torchvision\n",
    "from torch.utils.data import DataLoader\n",
    "from torchvision import datasets, transforms\n",
    "from torchmetrics import Accuracy, Precision, Recall, F1Score\n",
    "import pandas as pd"
   ]
  },
  {
   "cell_type": "code",
   "execution_count": 2,
   "id": "21d7dd9a-9434-4861-86ab-5e8b227f574b",
   "metadata": {},
   "outputs": [],
   "source": [
    "from torch_trainer import *"
   ]
  },
  {
   "cell_type": "markdown",
   "id": "be3973d9-8ce4-4270-a678-e90df6b25f22",
   "metadata": {},
   "source": [
    "Настроим работу с `PyTorch` при помощи функции `setup_experiment`. Выбирем формат работы и устройство для работы.\n",
    "\n",
    " Настраивает окружение для воспроизводимых экспериментов в PyTorch.\n",
    "\n",
    "-  `seed (int)`: Сид для генераторов случайных чисел `(Python, NumPy, PyTorch)`.\n",
    "-  `deterministic (bool)`: Включить детерминированное поведение операций `CuDNN` (может снизить скорость).\n",
    "-  `benchmark (bool)`: Включить CuDNN benchmark для автоматического выбора быстрых алгоритмов (не совместимо с `deterministic=True`).\n",
    "-  `allow_tf32 (bool)`: Разрешить использование TensorFloat32 на Ampere+ GPU (ускоряет вычисления с небольшой потерей точности).\n",
    "-  `device_preference (str)`: `\"cpu\", \"cuda\", \"mps\"`, или `\"auto\"` — выбор устройства.\n",
    "\n",
    "возвращается Устройство, на котором будут выполняться вычисления."
   ]
  },
  {
   "cell_type": "code",
   "execution_count": 3,
   "id": "e4972c3c-8419-4ab4-bdd7-4979cbe68823",
   "metadata": {},
   "outputs": [
    {
     "name": "stdout",
     "output_type": "stream",
     "text": [
      "[✓] Device: cuda | Seed: 42 | TF32: True\n"
     ]
    }
   ],
   "source": [
    "device = setup_experiment(seed=42, device_preference=\"auto\")"
   ]
  },
  {
   "cell_type": "code",
   "execution_count": null,
   "id": "3c606cd3-7df1-45e9-be7e-24931eaf3e32",
   "metadata": {},
   "outputs": [],
   "source": []
  },
  {
   "cell_type": "markdown",
   "id": "7acb406a-9242-4234-90b0-ea2f282682f2",
   "metadata": {},
   "source": [
    "# Обзор библиотеки `timm`"
   ]
  },
  {
   "cell_type": "code",
   "execution_count": 6,
   "id": "279c6f23-e69c-4bf6-aaba-da9f74c6a3bd",
   "metadata": {},
   "outputs": [],
   "source": [
    "import timm"
   ]
  },
  {
   "cell_type": "markdown",
   "id": "36f98b03-9043-4b6e-acf7-985686917eab",
   "metadata": {},
   "source": [
    "Библиотека [timm (PyTorch Image Models)](https://huggingface.co/timm) один из самых востребованных инструментов для задач компьютерного зрения по  классификации изображений, а также для построения мощных `feature extractor` для более сложных архитектур. [Библиотека `timm`](https://github.com/huggingface/pytorch-image-models) поддерживает более 1000 предобученных моделей и имеет тесную интеграцию с экосистемой `Hugging Face`.\n",
    "\n",
    "<!-- [Библиотека `timm`](https://huggingface.co/docs/timm/index) предоставляет встроенная поддержка `transfer learnin`: — например, замену головной части классификатора под нужное число классов или указание количество входных каналов (обычно 3 для `RGB`-изображений или 1 для `grayscale`). Это особенно удобно при работе с нестандартными доменами — от медицинских снимков до спутниковых изображений.\n",
    "\n",
    "Помимо моделей, [библиотека `timm`](https://github.com/huggingface/pytorch-image-models) предоставляет готовые и согласованные пайплайны обработки данных, включая автоматическую настройку аугментаций и нормализации под конкретную архитектуру через `timm.data.create_transform()` и `resolve_data_config()`. Это гарантирует, что входные данные будут обработаны так же, как и при оригинальном предобучении — критически важное условие для стабильной и точной инференции.\n",
    "\n",
    "[Библиотека `timm`](https://huggingface.co/docs/timm/index) полностью совместим с `Hugging Face Hub`: модели можно не только загружать напрямую из репозиториев `Hugging Face`, но и публиковать собственные веса, делая их доступными для сообщества. Такая интеграция упрощает воспроизводимость экспериментов и совместную работу. -->\n",
    "\n",
    "\n"
   ]
  },
  {
   "cell_type": "markdown",
   "id": "c9bd97a6-063b-450e-835e-8348e5a3aaa0",
   "metadata": {},
   "source": [
    "Модели в `Timm` можно найти при помощи [поисковика hugging face](https://huggingface.co/models?pipeline_tag=image-classification&library=timm,pytorch&sort=trending) или функции  `list_models` как это показано ниже."
   ]
  },
  {
   "cell_type": "code",
   "execution_count": 7,
   "id": "b0261f5c-6586-4443-a6d3-23ac55c65fde",
   "metadata": {},
   "outputs": [
    {
     "name": "stdout",
     "output_type": "stream",
     "text": [
      "['mobilenetv3_large_075', 'mobilenetv3_large_100', 'mobilenetv3_large_150d', 'mobilenetv3_rw', 'mobilenetv3_small_050', 'mobilenetv3_small_075', 'mobilenetv3_small_100']\n"
     ]
    }
   ],
   "source": [
    "model_names = timm.list_models('mobilenetv3*')\n",
    "print(model_names[:15])"
   ]
  },
  {
   "cell_type": "markdown",
   "id": "ab476542-c620-41e3-8ef3-07df5a8caafd",
   "metadata": {},
   "source": [
    "В данном уроке посмотрим на работу с `TIMM` на  примере архитектуры типа `mobilenetv3_small`. Эта архитектура представляет собой модификацию архитектуры `mobilenet v3`.\n",
    "\n",
    "<!-- В коде ниже\n",
    "\n",
    "* `timm.create_model` — функция из библиотеки `timm` для загрузки архитектур нейронных сетей.\n",
    "\n",
    "* `mobilenetv3_small_050` — название архитектуры конкрейтной: `mobilenet v3`.\n",
    "\n",
    "* `pretrained=True` — загрузка весов, предварительно обученных на `ImageNet`.\n",
    "\n",
    "* `num_classes=2` — количество классов на выходном слое (модель перестраивается под задачу бинарной классификации).\n",
    "\n",
    "* `in_chans=3` — число входных каналов (3 соответствует `RGB`‑изображениям). -->\n",
    "\n"
   ]
  },
  {
   "cell_type": "code",
   "execution_count": 8,
   "id": "953074f0-7735-4b77-8a87-5258cf704b8a",
   "metadata": {},
   "outputs": [],
   "source": [
    "model = timm.create_model('mobilenetv3_small_050', pretrained=True, num_classes=2, in_chans=3)"
   ]
  },
  {
   "cell_type": "markdown",
   "id": "b8f0cf4a-0b48-4a5d-9057-f523c246e9db",
   "metadata": {},
   "source": [
    "<blockquote>\n",
    "\n",
    "Отметим, что при наличии локальной предобученной модели ее можно загрузить как чекпоинт\n",
    "\n",
    "```python\n",
    "    model = timm.create_model(\n",
    "    'resnet18',\n",
    "    pretrained=False,\n",
    "    checkpoint_path='/path/to/resnet18.pth'  # путь к локальному .pth\n",
    ")\n",
    "```\n",
    "\n",
    "</blockquote>"
   ]
  },
  {
   "cell_type": "code",
   "execution_count": 9,
   "id": "aea12656-446d-4363-9730-7c9bdfdcea2b",
   "metadata": {},
   "outputs": [
    {
     "name": "stdout",
     "output_type": "stream",
     "text": [
      "Logits shape: torch.Size([7, 2])\n"
     ]
    }
   ],
   "source": [
    "model.eval() \n",
    "with torch.inference_mode():\n",
    "    out = model(torch.randn(7, 3, 224, 224))\n",
    "    \n",
    "print(f'Logits shape: {out.shape}')  "
   ]
  },
  {
   "cell_type": "markdown",
   "id": "d7f28fbc-59ef-495c-ac2c-30e8999e5b48",
   "metadata": {},
   "source": [
    "Для такой модели, например, можно отдельно вызвать `feature_extractor` (`backbone`).\n",
    "\n",
    "Параметры:\n",
    "* `num_classes=0` — убирает классификатор,\n",
    "* `global_pool=''` — отключает глобальный пуллинг."
   ]
  },
  {
   "cell_type": "code",
   "execution_count": 20,
   "id": "81ccb802-98ff-42a0-a08c-1da14a080456",
   "metadata": {},
   "outputs": [
    {
     "name": "stdout",
     "output_type": "stream",
     "text": [
      "Feature map shape: torch.Size([7, 1024, 7, 7])\n"
     ]
    }
   ],
   "source": [
    "backbone = timm.create_model('mobilenetv3_small_050', pretrained=True, num_classes=0, global_pool='')  # no head\n",
    "features = backbone(torch.randn(7, 3, 224, 224))  \n",
    "print(f\"Feature map shape: {features.shape}\")"
   ]
  },
  {
   "cell_type": "markdown",
   "id": "4b98c6b7-779d-4cee-a3b7-c5bc8d6b8895",
   "metadata": {},
   "source": [
    "Аналогично для модели с указанной головной частью можно получить головную часть при помощи метода `get_classifier` и заменить ее при помощи метода `reset_classifier`"
   ]
  },
  {
   "cell_type": "code",
   "execution_count": 21,
   "id": "e153491c-78b2-4750-bcc2-fcf884059270",
   "metadata": {},
   "outputs": [],
   "source": [
    "model = timm.create_model('mobilenetv3_small_050', pretrained=True)"
   ]
  },
  {
   "cell_type": "code",
   "execution_count": 22,
   "id": "10c58e70-5983-497c-b41b-c367b330cff0",
   "metadata": {},
   "outputs": [
    {
     "data": {
      "text/plain": [
       "Linear(in_features=1024, out_features=1000, bias=True)"
      ]
     },
     "execution_count": 22,
     "metadata": {},
     "output_type": "execute_result"
    }
   ],
   "source": [
    "model.get_classifier()"
   ]
  },
  {
   "cell_type": "code",
   "execution_count": 23,
   "id": "5f19402b-07bd-432f-bf6f-d54d95d867fe",
   "metadata": {
    "scrolled": true
   },
   "outputs": [
    {
     "name": "stdout",
     "output_type": "stream",
     "text": [
      "Linear(in_features=1024, out_features=2, bias=True)\n"
     ]
    }
   ],
   "source": [
    "model.reset_classifier(num_classes=2)\n",
    "print(model.get_classifier())  # → Linear(in_features=512, out_features=2, bias=True)"
   ]
  },
  {
   "cell_type": "markdown",
   "id": "e3a979c5-fc76-4adb-86d4-aa93d755befe",
   "metadata": {},
   "source": [
    "Чтобы заморозить `backbone`, можно при помощи указанных методов сделать следующее"
   ]
  },
  {
   "cell_type": "code",
   "execution_count": 24,
   "id": "d2200365-93f9-470f-a1d8-bd6b39421f47",
   "metadata": {},
   "outputs": [
    {
     "data": {
      "text/plain": [
       "Linear(in_features=1024, out_features=2, bias=True)"
      ]
     },
     "execution_count": 24,
     "metadata": {},
     "output_type": "execute_result"
    }
   ],
   "source": [
    "for param in model.parameters():\n",
    "    param.requires_grad = False\n",
    "model.get_classifier().requires_grad_(True)"
   ]
  },
  {
   "cell_type": "markdown",
   "id": "bff4116e-8f31-4bd4-8996-7047e8e04571",
   "metadata": {},
   "source": [
    "Аналогично можно попытаться заменить головную часть на кастомную"
   ]
  },
  {
   "cell_type": "code",
   "execution_count": 25,
   "id": "824d9063-1d13-42a9-9980-a3f4ae2de4e8",
   "metadata": {},
   "outputs": [],
   "source": [
    "custom_head = nn.Sequential(\n",
    "    nn.Dropout(0.5),\n",
    "    nn.Linear(1024, 512),\n",
    "    nn.ReLU(),\n",
    "    nn.Linear(512, 2)  # 2 класса\n",
    ")"
   ]
  },
  {
   "cell_type": "code",
   "execution_count": 26,
   "id": "cc6a9e4b-7f6e-43ab-a39d-7b838a9161b6",
   "metadata": {},
   "outputs": [],
   "source": [
    "model.classifier = custom_head  "
   ]
  },
  {
   "cell_type": "markdown",
   "id": "11c8d413-03ac-499b-9acb-d51ab0eb1062",
   "metadata": {},
   "source": [
    "<!-- Аналогично можно создать новые преобразования при помощи `create_transform`\n",
    "\n",
    "Важные замечания\n",
    "1. `create_transform` ожидает `PIL.Image` на входе, а не с `ndaray` или `torch.tensor`.\n",
    "2. Поэтому если открываете датасет вручную, то всегда делайте:\n",
    "`Image.open(path).convert(\"RGB\")`\n",
    "3. Не применяйте `ToTensor()` вручную!\n",
    "`create_transform` уже включает `ToTensor()` и `Normalize()` — не добавляйте их дважды!\n",
    "4. Для валидации — только детерминированные преобразования. Никаких случайных аугментаций (если вы не делаете `test time augmentation` конечно)!\n",
    "`is_training=False` → только `Resize, CenterCrop, ToTensor, Normalize`. -->\n",
    "\n",
    "Отметим, что на самом деле в `timm` представлен достаточно широкий функционал, включая возможность:\n",
    "- создание преобрзований  при помощи `create_transform`\n",
    "- создание оптимизаторов при помощи `create_optimizer_v2`\n",
    "- создание планировщиков обучения  при помощи `create_scheduler_v2`\n",
    "- создание датасетов и загрузчиков данных, а также еще целый ряд фунций.\n",
    "- однако, данный функционал почти не представлен в документации и его работоспособность соответственно не гарантируется!"
   ]
  },
  {
   "cell_type": "markdown",
   "id": "a2633b8b-fb6f-48e5-869b-b04ab3b883d0",
   "metadata": {},
   "source": [
    "# Настройка обучения модели"
   ]
  },
  {
   "cell_type": "markdown",
   "id": "76d9dbff-fdc2-4a3a-bcef-ad0b73b52f0f",
   "metadata": {},
   "source": [
    "## Датасет"
   ]
  },
  {
   "cell_type": "code",
   "execution_count": 61,
   "id": "8f43e061-ac5a-419a-9671-e7b70ebce668",
   "metadata": {},
   "outputs": [],
   "source": [
    "from torchinfo import summary\n",
    "from torchvision import transforms, datasets\n",
    "from torchvision.datasets.utils import download_and_extract_archive"
   ]
  },
  {
   "cell_type": "code",
   "execution_count": 62,
   "id": "0ea4d942-472d-432d-834f-c3b0aff658cc",
   "metadata": {},
   "outputs": [],
   "source": [
    "url = 'https://download.pytorch.org/tutorial/hymenoptera_data.zip'\n",
    "root_directory = os.path.join(os.getcwd(),'data')\n",
    "\n",
    "archive_name = url.split('/')[-1]\n",
    "dataset_directory = os.path.join(root_directory, archive_name)\n",
    "dataset_directory = os.path.splitext(dataset_directory)[0]\n",
    "\n",
    "download_and_extract_archive(url, root_directory)"
   ]
  },
  {
   "cell_type": "code",
   "execution_count": 64,
   "id": "08e7860f-6072-487f-9ea6-dc81d4d1fddf",
   "metadata": {},
   "outputs": [],
   "source": [
    "MEAN = [0.485, 0.456, 0.406]\n",
    "STD = [0.229, 0.224, 0.225]\n",
    "BATCH_SIZE  = 16\n",
    "\n",
    "transform = transforms.Compose([\n",
    "        transforms.Resize((224,224)),\n",
    "        transforms.ToTensor(),\n",
    "        transforms.Normalize(MEAN,STD)\n",
    "    ])\n",
    "\n",
    "traindata = datasets.ImageFolder(os.path.join(dataset_directory, 'train'),transform)\n",
    "valdata   = datasets.ImageFolder(os.path.join(dataset_directory, 'val'), transform)\n",
    "trainloader = torch.utils.data.DataLoader(traindata, batch_size=BATCH_SIZE, shuffle=True)\n",
    "valloader   = torch.utils.data.DataLoader(valdata, batch_size=BATCH_SIZE, shuffle=False, )\n",
    "num_classes = len(traindata.classes)"
   ]
  },
  {
   "cell_type": "markdown",
   "id": "b61430d0-d8c9-45cd-ad57-ee7101467d0f",
   "metadata": {},
   "source": [
    "## Оптимизатор\n",
    "\n",
    "Наиболее [простые и популярные](https://docs.pytorch.org/docs/stable/optim.html) оптмизаторы могут быть найдены ниже\n",
    "\n",
    "> Отдельно отметим возможность также использовать более продвинутые и современные оптимизаторы из [HuggingFace bitsbytes](https://huggingface.co/docs/bitsandbytes/main/en/reference/optim/optim_overview) или напримере библиотеки [torch_optimizer](https://github.com/jettify/pytorch-optimizer) или [timm](https://huggingface.co/docs/timm/en/reference/optimizers).\n",
    ">\n",
    "> Также отметим существование [алгоритмов поиска оптимального `Learning rate`](https://github.com/davidtvs/pytorch-lr-finder). Однако известная реализация устарела и не обновляется. Имеется также реализация в `pytorch_lighting`\n",
    ">\n",
    "> Также [`LR` зависит от `BatchSize`](https://stackoverflow.com/questions/53033556/how-should-the-learning-rate-change-as-the-batch-size-change). Чем больше батч - тем больше `LR`"
   ]
  },
  {
   "cell_type": "markdown",
   "id": "2ed9fcce-3d68-4814-909d-89f0a6ccc5b0",
   "metadata": {},
   "source": [
    "| Оптимизатор                              | Плюсы                                                                 | Минусы                                                                 | Когда использовать                                                                 |\n",
    "|------------------------------------------|------------------------------------------------------------------------|-------------------------------------------------------------------------|-------------------------------------------------------------------------------------|\n",
    "| **SGD + momentum** / **SGD + Nesterov**  | - Простой и надёжный<br>- Хорошо обобщает<br>- Часто даёт лучшие результаты при тонкой настройке | - Требует тщательного подбора learning rate<br>- Медленная сходимость   | - Базовые модели (ResNet, VGG)<br>- Когда важна обобщающая способность<br>- При наличии хорошего LR scheduler'а |\n",
    "| **Adam / AdamW / NAdam / Adamax**        | - Адаптивные learning rate<br>- Быстрая сходимость<br>- Мало чувствителен к начальному LR | - Хуже обобщает по сравнению с SGD<br>- Может «застревать» в плохих минимумах | - Быстрый прототип / эксперимент<br>- Маленькие датасеты<br>- Когда не критична обобщающая способность |\n",
    "| **RMSprop**                              | - Хорош для рекуррентных сетей и некоторых CV задач (например, в старых EfficientNet) | - Редко используется в современных CV моделях                          | - Legacy код<br>- Некоторые мобильные архитектуры                                   |\n",
    "\n",
    "```python\n",
    "optimizer = torch.optim.SGD(...,\n",
    "    lr=0.1,               # часто 0.1 для ImageNet, 0.01–0.001 для малых датасетов\n",
    "    momentum=0.9,\n",
    "    weight_decay=1e-4     # для ResNet/VGG\n",
    "    nesterov=True # для Nesterov\n",
    ")\n",
    "\n",
    "optimizer = torch.optim.Adam(...,\n",
    "    lr=3e-4,               # типичный \"магический\" LR\n",
    "    weight_decay=0         # ← Adam не совместим с L2-regularization напрямую!\n",
    ")    \n",
    "\n",
    "optimizer = torch.optim.AdamW/NAdam/Adamax(  ...    weight_decay=1e-2 )    # ← теперь корректная декуплинговая регуляризация\n",
    "\n",
    "optimizer = torch.optim.RMSprop(\n",
    "    model.parameters(),\n",
    "    lr=1e-3,\n",
    "    alpha=0.99,            # decay\n",
    "    eps=1e-8,\n",
    "    weight_decay=1e-5,\n",
    "    momentum=0.9           # иногда добавляют\n",
    ")                                        \n",
    "```"
   ]
  },
  {
   "cell_type": "markdown",
   "id": "db141560-dfc2-4e8e-a471-731c3f8093cc",
   "metadata": {},
   "source": [
    "<blockquote>\n",
    "    \n",
    "\n",
    "Иногда при использовании предобученных сетей используется гипотеза заключается в том, что ранние слои нейронной сети учатся извлекать более общие признаки, в то время как поздние слои учатся извлекать более специфичные для конкретной задачи признаки. Если это так, то общие признаки, извлекаемые ранними слоями, должны быть полезны для любой задачи, и мы должны изменять их предварительно обученные веса на очень небольшую величину — если вообще должны.\n",
    "\n",
    "Дискриминативную тонкую настройку параметров обучения обычно нет необходимости использовать при обучении модели на основе случайно инициализированных весов.\n",
    "\n",
    "```python\n",
    "\n",
    "LR = 1e-2;\n",
    "\n",
    "params = [\n",
    "          {'params': model.feature_extractor.parameters(), 'lr': LR / 2},\n",
    "          {'params': model.fc.parameters(), 'lr': LR }\n",
    "         ]\n",
    "\n",
    "optimizer = optim.Adam(params, lr=LR)\n",
    "```\n",
    "\n",
    "Настройка параметров обучения может быть выполнена не только по блокам модели, но и по отдельным параметрам. Например, если используется `SGD with weight_decay`, иногда полезно отключить `weight_decay` для параметра смещения. Это можно сделать следующим образом.\n",
    "    \n",
    "```python\n",
    "    bias_params = [p for name, p in self.named_parameters() if 'bias' in name]\n",
    "    others = [p for name, p in self.named_parameters() if 'bias' not in name]\n",
    "\n",
    "    optim.SGD([\n",
    "                    {'params': others},\n",
    "                    {'params': bias_params, 'weight_decay': 0}\n",
    "                ], weight_decay=1e-2, lr=1e-2)\n",
    "```\n",
    "> Отметим, что также [в ряде случаев](https://github.com/NVIDIA/DeepLearningExamples/blob/8d8b21a933fff3defb692e0527fca15532da5dc6/PyTorch/Classification/ConvNets/image_classification/training.py)  'weight_decay' не используется для параметров батч-нормализации.\n",
    "\n",
    "</blockquote> "
   ]
  },
  {
   "cell_type": "code",
   "execution_count": 65,
   "id": "62ef2f59-d693-41db-8ac4-a99962c7c05a",
   "metadata": {},
   "outputs": [],
   "source": [
    "optimizer = torch.optim.AdamW(model.parameters(), lr=3e-4, weight_decay=1e-4)"
   ]
  },
  {
   "cell_type": "markdown",
   "id": "c9b81aea-ca6b-45ca-ad78-2562f790ac9d",
   "metadata": {},
   "source": [
    "## Планировщик обучения\n",
    "\n",
    "Другим полезным приемом будет использовать [планировщик скорости обучения](https://pytorch.org/docs/stable/optim.html#how-to-adjust-learning-rate) `learning rate scheduler`. Планировщик скорости обучения динамически изменяет скорость обучения во время обучения модели. \n",
    " \n",
    "В наиболее простом случае планировщик скорости обучения задается из пакета `torch.optim.lr_scheduler` как одноцикловой планировщик. То есть он имеет только один цикл изменения скорости. \n",
    "\n",
    "Ниже показан пример визуализации для 4 типов планировщиков. \n",
    "\n",
    "> * Обратите внимание, что текущее значение скорости обучения можно получить как `optimizer.param_groups[0][\"lr\"]`.  \n",
    "> * Также скорость може быть и установлена `optimizer.param_groups[0][\"lr\"]  = 0.01`\n",
    "> * Всегда визуализируйте LR перед запуском долгого обучения.\n",
    "> * Для fine-tuning: начинайте с LR в 10–100× меньше, чем при pre-training.\n",
    "> * Используйте warmup, если batch size большой или данные зашумлены."
   ]
  },
  {
   "cell_type": "markdown",
   "id": "f7b1c583-b1ff-48b6-8469-f86498f71f5f",
   "metadata": {},
   "source": [
    "<blockquote>\n",
    "    \n",
    "Отметим, что также может быть использован планировщик `ReduceLROnPlateau`, который снижает скорость обучения автоматически при выходе валидации на плато.\n",
    "    \n",
    "```python\n",
    "\n",
    "    optimizer = torch.optim.SGD(model.parameters(), lr=0.1, momentum=0.9)\n",
    "    scheduler = ReduceLROnPlateau(optimizer, 'min')\n",
    "    for epoch in range(10):\n",
    "        train(...)\n",
    "        val_loss = validate(...)\n",
    "        # Note that step should be called after validate()\n",
    "        scheduler.step(val_loss)\n",
    "```\n",
    "\n",
    "Следует также отметить, что помимо расписания ниже приведен следующий код:\n",
    "```python\n",
    "    max_grad = 10\n",
    "    for p in model.parameters():\n",
    "        p.register_hook(lambda grad: torch.clamp(grad, -0.1, max_grad))\n",
    "```\n",
    "\n",
    "Такой прием позволяет ограничить значение градиента (`gradient clipping`): `lambda grad: torch.clamp(grad, -0.1, max_grad)`. Прием применяется для всех параметров, так как задан цикл. При этом данный прием записывается как дополнительная функция при расчете градиента. Это реализовано через т.н. `hook`. По средствам метода `register_hook` подобно `callback` каждому параметру ставится дополнительная функция в соответствие."
   ]
  },
  {
   "cell_type": "markdown",
   "id": "4ab2989e-0e3a-4c4c-a1d8-5516ee4a5a17",
   "metadata": {},
   "source": [
    "Отметим, следующие [практики использования изменяющейся скорости обучения](https://github.com/Devinterview-io/pytorch-interview-questions?tab=readme-ov-file#process-for-implementing-custom-layers):\n",
    "* __Начните с фиксированной скорости__. Начните обучение с постоянной скорости обучения, чтобы установить базовый уровень и обеспечить начальную сходимость.\n",
    "* __Настройте параметры планировщика__. Размер шага (`step_size`), гамма (`gamma`) и другие параметры планировщика сильно влияют на производительность модели. Поэкспериментируйте с различными настройками, чтобы найти оптимальный вариант для ваших данных и модели.\n",
    "* __Следите за потерями и метриками__. Следите за метриками обучения и проверки. Планировщики скорости обучения могут помочь точно настроить модель, адаптируясь к ее изменяющимся потребностям во время обучения.\n",
    "\n",
    "Когда следует использовать планирование скорости обучения:\n",
    "* __Разреженные данные__. Для данных с разреженными признаками планирование может помочь модели сосредоточиться на менее распространенных признаках, тем самым повышая производительность.\n",
    "* __Медленно и быстро обучающиеся признаки__. Не все признаки должны обновляться с одинаковой скоростью. Например, в нейронных сетях весам более ранних слоев может потребоваться больше времени для сходимости. Планирование может помочь ускорить их обновление.\n",
    "* __Плато потерь__. Когда функция потерь сглаживается, указывая на то, что модель мало чему учится при текущей скорости обучения, планировщик может снизить скорость и вывести модель из колеи."
   ]
  },
  {
   "cell_type": "code",
   "execution_count": 66,
   "id": "7ffd30d6-1667-465b-a825-176122ba1fe8",
   "metadata": {
    "scrolled": true
   },
   "outputs": [
    {
     "name": "stderr",
     "output_type": "stream",
     "text": [
      "C:\\Users\\Ronkin\\anaconda3\\envs\\py39\\lib\\site-packages\\torch\\optim\\lr_scheduler.py:192: UserWarning: Detected call of `lr_scheduler.step()` before `optimizer.step()`. In PyTorch 1.1.0 and later, you should call them in the opposite order: `optimizer.step()` before `lr_scheduler.step()`.  Failure to do this will result in PyTorch skipping the first value of the learning rate schedule. See more details at https://pytorch.org/docs/stable/optim.html#how-to-adjust-learning-rate\n",
      "  warnings.warn(\n"
     ]
    },
    {
     "data": {
      "image/png": "[encoded data removed]",
      "text/plain": [
       "<Figure size 1200x400 with 4 Axes>"
      ]
     },
     "metadata": {},
     "output_type": "display_data"
    }
   ],
   "source": [
    "import matplotlib.pyplot as plt\n",
    "\n",
    "# Гиперпараметры\n",
    "epochs = 20\n",
    "initial_lr = 0.01\n",
    "\n",
    "# Создаём \"фиктивный\" оптимизатор (только для LR)\n",
    "dummy_model = torch.nn.Linear(1, 1)\n",
    "optimizer = torch.optim.SGD(dummy_model.parameters(), lr=initial_lr)\n",
    "\n",
    "schedulers = {\n",
    "    'StepLR': torch.optim.lr_scheduler.StepLR(optimizer, step_size=5, gamma=0.5),\n",
    "    'ExponentialLR': torch.optim.lr_scheduler.ExponentialLR(optimizer, gamma=0.85),\n",
    "    'CosineAnnealing': torch.optim.lr_scheduler.CosineAnnealingLR(optimizer, T_max=epochs, eta_min=1e-6),\n",
    "    'CosineWarmRestarts': torch.optim.lr_scheduler.CosineAnnealingWarmRestarts(\n",
    "        optimizer, T_0=19, T_mult=1, eta_min=1e-6\n",
    "    )\n",
    "}\n",
    "\n",
    "# Собираем LR по эпохам\n",
    "lrs = {}\n",
    "for name in schedulers:\n",
    "    lrs[name] = []\n",
    "\n",
    "for name, scheduler in schedulers.items():\n",
    "\n",
    "    for param_group in optimizer.param_groups:\n",
    "        param_group['lr'] = initial_lr\n",
    "\n",
    "    for epoch in range(epochs):\n",
    "        scheduler.step()\n",
    "        lrs[name].append(optimizer.param_groups[0]['lr'])\n",
    "        \n",
    "# Визуализация\n",
    "fig, axs = plt.subplots(2, 2, figsize=(12, 4))\n",
    "axs = axs.ravel()\n",
    "\n",
    "for i, (name, lr_vals) in enumerate(lrs.items()):\n",
    "    axs[i].plot(range(epochs), lr_vals, marker='o', linewidth=2, markersize=3)\n",
    "    axs[i].set_title(name, fontsize=12)\n",
    "    axs[i].set_xlabel('Epoch')\n",
    "    axs[i].set_ylabel('Learning Rate')\n",
    "    axs[i].grid(True, linestyle='--', alpha=0.6)\n",
    "\n",
    "plt.tight_layout()\n",
    "plt.show()"
   ]
  },
  {
   "cell_type": "code",
   "execution_count": null,
   "id": "3d17a194-9de2-46b8-b55f-14252b198ded",
   "metadata": {},
   "outputs": [],
   "source": []
  },
  {
   "cell_type": "markdown",
   "id": "6e2a45d4-9554-4fd8-bed2-320ba594b968",
   "metadata": {},
   "source": [
    "## Метрики обучения"
   ]
  },
  {
   "cell_type": "markdown",
   "id": "9979ab55-f292-41b2-a086-a96ab928b393",
   "metadata": {},
   "source": [
    "Метрики обучения возьмем из библиотеки [`torchmetrics`](https://github.com/Lightning-AI/torchmetrics) для библиотеки есть актуальный [GitHub](https://github.com/Lightning-AI/torchmetrics)  и [очень старая документация](https://torchmetrics.readthedocs.io/en/v0.8.2/index.html).\n",
    "\n",
    "Для объектов классов заданных метрик также используем т.н. \"захват функции\" (`wrapped_metrics`) - получение объекта класса из заданного в словаре класса."
   ]
  },
  {
   "cell_type": "code",
   "execution_count": 67,
   "id": "9b30da53-68e3-4a24-a4cd-a4b13176b2c9",
   "metadata": {},
   "outputs": [],
   "source": [
    "from torchmetrics import *"
   ]
  },
  {
   "cell_type": "code",
   "execution_count": 68,
   "id": "638102c4-de19-47e0-9d04-0917103745d4",
   "metadata": {},
   "outputs": [],
   "source": [
    "metrics = {\n",
    "    \"acc\": Accuracy(task=\"multiclass\", num_classes=num_classes).to(device),\n",
    "    \"prec\": Precision(task=\"multiclass\", num_classes=num_classes, average=\"macro\").to(device),\n",
    "    \"rec\": Recall(task=\"multiclass\", num_classes=num_classes, average=\"macro\").to(device),\n",
    "    \"f1\": F1Score(task=\"multiclass\", num_classes=num_classes, average=\"macro\").to(device),\n",
    "}\n",
    "# Оборачиваем для совместимости\n",
    "wrapped_metrics = {k: lambda pred, target, fn=fn: fn(pred, target) for k, fn in metrics.items()}"
   ]
  },
  {
   "cell_type": "code",
   "execution_count": 69,
   "id": "d650dab1-18cc-4d5b-9b9e-4b51cb9299c6",
   "metadata": {},
   "outputs": [
    {
     "data": {
      "text/plain": [
       "{'acc': <function __main__.<dictcomp>.<lambda>(pred, target, fn=MulticlassAccuracy())>,\n",
       " 'prec': <function __main__.<dictcomp>.<lambda>(pred, target, fn=MulticlassPrecision())>,\n",
       " 'rec': <function __main__.<dictcomp>.<lambda>(pred, target, fn=MulticlassRecall())>,\n",
       " 'f1': <function __main__.<dictcomp>.<lambda>(pred, target, fn=MulticlassF1Score())>}"
      ]
     },
     "execution_count": 69,
     "metadata": {},
     "output_type": "execute_result"
    }
   ],
   "source": [
    "wrapped_metrics"
   ]
  },
  {
   "cell_type": "markdown",
   "id": "18749fc4-5d10-496a-872f-1ef887f598fc",
   "metadata": {},
   "source": [
    "> Напомним, что\n",
    ">\n",
    "> * `average=\"macro\"` - среднее по классам,\n",
    ">  * `average=\"micro\"` - среднее по всем записям\n",
    ">  * Разница важна для метрик `Precision, Recall, F1Score` при работе с несбалансированными классами."
   ]
  },
  {
   "cell_type": "markdown",
   "id": "3e6d731f-ba48-4ed9-bbfc-74aa1394a20e",
   "metadata": {},
   "source": [
    "## Функция потерь"
   ]
  },
  {
   "cell_type": "markdown",
   "id": "57b2046e-b999-4544-8d6d-29599ac44e06",
   "metadata": {},
   "source": [
    "<blockquote>\n",
    " \n",
    " Иногда в функцию потерь также добавляют параметр [`label_smoothing`](https://paperswithcode.com/method/label-smoothing), выставляя его небольшим. При этом итоговая метка класса формируется как $$ y_s = (1-\\eta y) + U[0, \\eta/K] $$ где $\\eta$ — весовой коэффициент, $K$ — число классов, а $U[0, \\eta/K]$ — равномерное распределение. То есть $y_s$ представляет собой вектор, где основной класс имеет значение в диапазоне $(0,1)$, а остаток этого диапазона «размыт» между значениями остальных классов. В таком случае ожидается, что подразумеваемая функция активации $softmax$ не будет выходить в насыщение, что снизит вероятность переобучения слоя принятия решений. Сегодня `label_smoothing` в оригинальной функции потерь, как это показано ниже. \n",
    "```python \n",
    "    nn.CrossEntropyLoss(label_smoothing = ...)\n",
    "```\n",
    " </blockquote>"
   ]
  },
  {
   "cell_type": "markdown",
   "id": "094c4e59-9a7c-4c17-9d29-a26837026a02",
   "metadata": {},
   "source": [
    "## Обучение модели\n",
    "\n",
    "### Загрузка модели."
   ]
  },
  {
   "cell_type": "code",
   "execution_count": 70,
   "id": "1f1a2416-1c97-4ae2-a780-202254d1b81e",
   "metadata": {},
   "outputs": [
    {
     "data": {
      "text/plain": [
       "Linear(in_features=1024, out_features=2, bias=True)"
      ]
     },
     "execution_count": 70,
     "metadata": {},
     "output_type": "execute_result"
    }
   ],
   "source": [
    "model = timm.create_model('mobilenetv3_small_050', \n",
    "                          pretrained=True, \n",
    "                          num_classes=len(traindata.classes), \n",
    "                          in_chans=3)\n",
    "\n",
    "for param in model.parameters():\n",
    "    param.requires_grad = False\n",
    "model.get_classifier().requires_grad_(True)\n",
    "\n",
    "def init_classifier(m):\n",
    "    if isinstance(m, (nn.Conv2d, nn.Linear)):\n",
    "        nn.init.normal_(m.weight, mean=0.0, std=0.01)\n",
    "        if m.bias is not None:\n",
    "            nn.init.constant_(m.bias, 0)\n",
    "\n",
    "# Применяем ТОЛЬКО к голове\n",
    "model.classifier.apply(init_classifier)"
   ]
  },
  {
   "cell_type": "code",
   "execution_count": 71,
   "id": "dbc70413-4409-4e73-b4a8-19c7bc3e00a0",
   "metadata": {},
   "outputs": [
    {
     "data": {
      "text/plain": [
       "===============================================================================================\n",
       "Layer (type:depth-idx)                        Output Shape              Param #\n",
       "===============================================================================================\n",
       "MobileNetV3                                   [1, 2]                    --\n",
       "├─Conv2d: 1-1                                 [1, 16, 112, 112]         (432)\n",
       "├─BatchNormAct2d: 1-2                         [1, 16, 112, 112]         32\n",
       "│    └─Identity: 2-1                          [1, 16, 112, 112]         --\n",
       "│    └─Hardswish: 2-2                         [1, 16, 112, 112]         --\n",
       "├─Sequential: 1-3                             [1, 288, 7, 7]            --\n",
       "│    └─Sequential: 2-3                        [1, 8, 56, 56]            --\n",
       "│    │    └─DepthwiseSeparableConv: 3-1       [1, 8, 56, 56]            (600)\n",
       "│    └─Sequential: 2-4                        [1, 16, 28, 28]           --\n",
       "│    │    └─InvertedResidual: 3-2             [1, 16, 28, 28]           (1,512)\n",
       "│    │    └─InvertedResidual: 3-3             [1, 16, 28, 28]           (2,552)\n",
       "│    └─Sequential: 2-5                        [1, 24, 14, 14]           --\n",
       "│    │    └─InvertedResidual: 3-4             [1, 24, 14, 14]           (6,592)\n",
       "│    │    └─InvertedResidual: 3-5             [1, 24, 14, 14]           (22,840)\n",
       "│    │    └─InvertedResidual: 3-6             [1, 24, 14, 14]           (22,840)\n",
       "│    └─Sequential: 2-6                        [1, 24, 14, 14]           --\n",
       "│    │    └─InvertedResidual: 3-7             [1, 24, 14, 14]           (9,144)\n",
       "│    │    └─InvertedResidual: 3-8             [1, 24, 14, 14]           (9,144)\n",
       "│    └─Sequential: 2-7                        [1, 48, 7, 7]             --\n",
       "│    │    └─InvertedResidual: 3-9             [1, 48, 7, 7]             (26,344)\n",
       "│    │    └─InvertedResidual: 3-10            [1, 48, 7, 7]             (77,928)\n",
       "│    │    └─InvertedResidual: 3-11            [1, 48, 7, 7]             (77,928)\n",
       "│    └─Sequential: 2-8                        [1, 288, 7, 7]            --\n",
       "│    │    └─ConvBnAct: 3-12                   [1, 288, 7, 7]            (14,400)\n",
       "├─SelectAdaptivePool2d: 1-4                   [1, 288, 1, 1]            --\n",
       "│    └─AdaptiveAvgPool2d: 2-9                 [1, 288, 1, 1]            --\n",
       "│    └─Identity: 2-10                         [1, 288, 1, 1]            --\n",
       "├─Conv2d: 1-5                                 [1, 1024, 1, 1]           (295,936)\n",
       "├─Identity: 1-6                               [1, 1024, 1, 1]           --\n",
       "├─Hardswish: 1-7                              [1, 1024, 1, 1]           --\n",
       "├─Flatten: 1-8                                [1, 1024]                 --\n",
       "├─Linear: 1-9                                 [1, 2]                    2,050\n",
       "===============================================================================================\n",
       "Total params: 570,274\n",
       "Trainable params: 2,050\n",
       "Non-trainable params: 568,224\n",
       "Total mult-adds (M): 23.17\n",
       "===============================================================================================\n",
       "Input size (MB): 0.60\n",
       "Forward/backward pass size (MB): 7.33\n",
       "Params size (MB): 2.26\n",
       "Estimated Total Size (MB): 10.19\n",
       "==============================================================================================="
      ]
     },
     "execution_count": 71,
     "metadata": {},
     "output_type": "execute_result"
    }
   ],
   "source": [
    "summary(model, (1,3,224,224))"
   ]
  },
  {
   "cell_type": "code",
   "execution_count": 72,
   "id": "d29f6f5c-17d9-470b-ad09-96aa79ef0d8a",
   "metadata": {},
   "outputs": [
    {
     "name": "stdout",
     "output_type": "stream",
     "text": [
      "trainable p: 2050 all p: 570274\n"
     ]
    }
   ],
   "source": [
    "trainable_params = sum(p.numel() for p in model.parameters() if p.requires_grad)\n",
    "total_params = sum(p.numel() for p in model.parameters())\n",
    "print('trainable p:', trainable_params, 'all p:', total_params)"
   ]
  },
  {
   "cell_type": "code",
   "execution_count": 73,
   "id": "4efa7cf7-7510-4911-b0f4-ce6db66c0755",
   "metadata": {},
   "outputs": [],
   "source": [
    "trainable_parameters = filter(lambda p: p.requires_grad, model.parameters())\n",
    "optimizer = torch.optim.AdamW(trainable_parameters, lr=3e-4, weight_decay=1e-4)\n",
    "scheduler = torch.optim.lr_scheduler.ReduceLROnPlateau(optimizer, mode=\"max\", patience=3)\n",
    "criterion=torch.nn.CrossEntropyLoss().to(device)\n",
    "model.to(device);\n"
   ]
  },
  {
   "cell_type": "markdown",
   "id": "c76bf706-ff9a-44d5-a317-f96e796f6d60",
   "metadata": {},
   "source": [
    "### Обучение модели"
   ]
  },
  {
   "cell_type": "code",
   "execution_count": 74,
   "id": "81ed92cb-c234-4961-9431-c59cc950aac1",
   "metadata": {},
   "outputs": [
    {
     "data": {
      "application/vnd.jupyter.widget-view+json": {
       "model_id": "32eb0aea28b94435a29066cdd16f0555",
       "version_major": 2,
       "version_minor": 0
      },
      "text/plain": [
       "Train:   0%|          | 0/16 [00:00<?, ?it/s]"
      ]
     },
     "metadata": {},
     "output_type": "display_data"
    },
    {
     "data": {
      "application/vnd.jupyter.widget-view+json": {
       "model_id": "c7c0bb8629b94529843e3267ed7526bf",
       "version_major": 2,
       "version_minor": 0
      },
      "text/plain": [
       "Val:   0%|          | 0/10 [00:00<?, ?it/s]"
      ]
     },
     "metadata": {},
     "output_type": "display_data"
    },
    {
     "name": "stdout",
     "output_type": "stream",
     "text": [
      "Epoch 01 | Time: 21.1s | LR: 3.00e-04 | Train Loss: 0.6733 | Val Loss: 0.6787 | Val f1: 0.4154 ★\n"
     ]
    },
    {
     "data": {
      "application/vnd.jupyter.widget-view+json": {
       "model_id": "aac8c95c52bc4df69bf704c5ef6ded45",
       "version_major": 2,
       "version_minor": 0
      },
      "text/plain": [
       "Train:   0%|          | 0/16 [00:00<?, ?it/s]"
      ]
     },
     "metadata": {},
     "output_type": "display_data"
    },
    {
     "data": {
      "application/vnd.jupyter.widget-view+json": {
       "model_id": "d9f749913a434d53ae0653d9f730d54e",
       "version_major": 2,
       "version_minor": 0
      },
      "text/plain": [
       "Val:   0%|          | 0/10 [00:00<?, ?it/s]"
      ]
     },
     "metadata": {},
     "output_type": "display_data"
    },
    {
     "name": "stdout",
     "output_type": "stream",
     "text": [
      "Epoch 02 | Time: 1.8s | LR: 3.00e-04 | Train Loss: 0.6157 | Val Loss: 0.6793 | Val f1: 0.4084 \n"
     ]
    },
    {
     "data": {
      "application/vnd.jupyter.widget-view+json": {
       "model_id": "ac00db350896464f9099c987dfbafe0b",
       "version_major": 2,
       "version_minor": 0
      },
      "text/plain": [
       "Train:   0%|          | 0/16 [00:00<?, ?it/s]"
      ]
     },
     "metadata": {},
     "output_type": "display_data"
    },
    {
     "data": {
      "application/vnd.jupyter.widget-view+json": {
       "model_id": "7963ee29ef5942fe8dc5ecd5c2efd5f3",
       "version_major": 2,
       "version_minor": 0
      },
      "text/plain": [
       "Val:   0%|          | 0/10 [00:00<?, ?it/s]"
      ]
     },
     "metadata": {},
     "output_type": "display_data"
    },
    {
     "name": "stdout",
     "output_type": "stream",
     "text": [
      "Epoch 03 | Time: 1.8s | LR: 3.00e-04 | Train Loss: 0.5763 | Val Loss: 0.6784 | Val f1: 0.4555 ★\n"
     ]
    },
    {
     "data": {
      "application/vnd.jupyter.widget-view+json": {
       "model_id": "650b798749ab46af9591870efcc31c6c",
       "version_major": 2,
       "version_minor": 0
      },
      "text/plain": [
       "Train:   0%|          | 0/16 [00:00<?, ?it/s]"
      ]
     },
     "metadata": {},
     "output_type": "display_data"
    },
    {
     "data": {
      "application/vnd.jupyter.widget-view+json": {
       "model_id": "dbd957a586ba406e94195dd27d8433c1",
       "version_major": 2,
       "version_minor": 0
      },
      "text/plain": [
       "Val:   0%|          | 0/10 [00:00<?, ?it/s]"
      ]
     },
     "metadata": {},
     "output_type": "display_data"
    },
    {
     "name": "stdout",
     "output_type": "stream",
     "text": [
      "Epoch 04 | Time: 1.9s | LR: 3.00e-04 | Train Loss: 0.5401 | Val Loss: 0.6770 | Val f1: 0.4209 \n"
     ]
    },
    {
     "data": {
      "application/vnd.jupyter.widget-view+json": {
       "model_id": "d76624b270074277976e48261359bc5e",
       "version_major": 2,
       "version_minor": 0
      },
      "text/plain": [
       "Train:   0%|          | 0/16 [00:00<?, ?it/s]"
      ]
     },
     "metadata": {},
     "output_type": "display_data"
    },
    {
     "data": {
      "application/vnd.jupyter.widget-view+json": {
       "model_id": "8f7b147b88674d5d8fca5e28f938913a",
       "version_major": 2,
       "version_minor": 0
      },
      "text/plain": [
       "Val:   0%|          | 0/10 [00:00<?, ?it/s]"
      ]
     },
     "metadata": {},
     "output_type": "display_data"
    },
    {
     "name": "stdout",
     "output_type": "stream",
     "text": [
      "Epoch 05 | Time: 2.1s | LR: 3.00e-04 | Train Loss: 0.5071 | Val Loss: 0.6733 | Val f1: 0.4244 \n"
     ]
    },
    {
     "data": {
      "application/vnd.jupyter.widget-view+json": {
       "model_id": "57c97d4fbc274506b36c0eeaca54abff",
       "version_major": 2,
       "version_minor": 0
      },
      "text/plain": [
       "Train:   0%|          | 0/16 [00:00<?, ?it/s]"
      ]
     },
     "metadata": {},
     "output_type": "display_data"
    },
    {
     "data": {
      "application/vnd.jupyter.widget-view+json": {
       "model_id": "68d59ca386574fef9482026047133798",
       "version_major": 2,
       "version_minor": 0
      },
      "text/plain": [
       "Val:   0%|          | 0/10 [00:00<?, ?it/s]"
      ]
     },
     "metadata": {},
     "output_type": "display_data"
    },
    {
     "name": "stdout",
     "output_type": "stream",
     "text": [
      "Epoch 06 | Time: 2.3s | LR: 3.00e-04 | Train Loss: 0.4921 | Val Loss: 0.6697 | Val f1: 0.4397 \n"
     ]
    },
    {
     "data": {
      "application/vnd.jupyter.widget-view+json": {
       "model_id": "8c1022a090884db1a6ffe6a1795b675f",
       "version_major": 2,
       "version_minor": 0
      },
      "text/plain": [
       "Train:   0%|          | 0/16 [00:00<?, ?it/s]"
      ]
     },
     "metadata": {},
     "output_type": "display_data"
    },
    {
     "data": {
      "application/vnd.jupyter.widget-view+json": {
       "model_id": "de2819b0513f46e5a7c64ee9c2c347b7",
       "version_major": 2,
       "version_minor": 0
      },
      "text/plain": [
       "Val:   0%|          | 0/10 [00:00<?, ?it/s]"
      ]
     },
     "metadata": {},
     "output_type": "display_data"
    },
    {
     "name": "stdout",
     "output_type": "stream",
     "text": [
      "Epoch 07 | Time: 2.3s | LR: 3.00e-05 | Train Loss: 0.4590 | Val Loss: 0.6639 | Val f1: 0.4447 \n"
     ]
    },
    {
     "data": {
      "application/vnd.jupyter.widget-view+json": {
       "model_id": "642116251fb04f5ca0fcd35c392ea1f0",
       "version_major": 2,
       "version_minor": 0
      },
      "text/plain": [
       "Train:   0%|          | 0/16 [00:00<?, ?it/s]"
      ]
     },
     "metadata": {},
     "output_type": "display_data"
    },
    {
     "data": {
      "application/vnd.jupyter.widget-view+json": {
       "model_id": "4fa5d46ee2a8439f9e6fca921ea54f19",
       "version_major": 2,
       "version_minor": 0
      },
      "text/plain": [
       "Val:   0%|          | 0/10 [00:00<?, ?it/s]"
      ]
     },
     "metadata": {},
     "output_type": "display_data"
    },
    {
     "name": "stdout",
     "output_type": "stream",
     "text": [
      "Epoch 08 | Time: 2.3s | LR: 3.00e-05 | Train Loss: 0.4503 | Val Loss: 0.6606 | Val f1: 0.4477 \n"
     ]
    },
    {
     "data": {
      "application/vnd.jupyter.widget-view+json": {
       "model_id": "bea5af3fbc654ed890bcadcc400143ad",
       "version_major": 2,
       "version_minor": 0
      },
      "text/plain": [
       "Train:   0%|          | 0/16 [00:00<?, ?it/s]"
      ]
     },
     "metadata": {},
     "output_type": "display_data"
    },
    {
     "data": {
      "application/vnd.jupyter.widget-view+json": {
       "model_id": "270c1477702749f6bc092da00341d32f",
       "version_major": 2,
       "version_minor": 0
      },
      "text/plain": [
       "Val:   0%|          | 0/10 [00:00<?, ?it/s]"
      ]
     },
     "metadata": {},
     "output_type": "display_data"
    },
    {
     "name": "stdout",
     "output_type": "stream",
     "text": [
      "Epoch 09 | Time: 2.3s | LR: 3.00e-05 | Train Loss: 0.4438 | Val Loss: 0.6581 | Val f1: 0.4459 \n"
     ]
    },
    {
     "data": {
      "application/vnd.jupyter.widget-view+json": {
       "model_id": "1369a58ed0c3447a9c21f8d309df5f62",
       "version_major": 2,
       "version_minor": 0
      },
      "text/plain": [
       "Train:   0%|          | 0/16 [00:00<?, ?it/s]"
      ]
     },
     "metadata": {},
     "output_type": "display_data"
    },
    {
     "data": {
      "application/vnd.jupyter.widget-view+json": {
       "model_id": "62bb5dbf36b34103bbf26308e5ae3305",
       "version_major": 2,
       "version_minor": 0
      },
      "text/plain": [
       "Val:   0%|          | 0/10 [00:00<?, ?it/s]"
      ]
     },
     "metadata": {},
     "output_type": "display_data"
    },
    {
     "name": "stdout",
     "output_type": "stream",
     "text": [
      "Epoch 10 | Time: 2.3s | LR: 3.00e-05 | Train Loss: 0.4318 | Val Loss: 0.6525 | Val f1: 0.4616 ★\n"
     ]
    },
    {
     "data": {
      "application/vnd.jupyter.widget-view+json": {
       "model_id": "3ac5ca1d9be14120b8394f1d4765b806",
       "version_major": 2,
       "version_minor": 0
      },
      "text/plain": [
       "Train:   0%|          | 0/16 [00:00<?, ?it/s]"
      ]
     },
     "metadata": {},
     "output_type": "display_data"
    },
    {
     "data": {
      "application/vnd.jupyter.widget-view+json": {
       "model_id": "64db775aa19249eda27f048bbe228411",
       "version_major": 2,
       "version_minor": 0
      },
      "text/plain": [
       "Val:   0%|          | 0/10 [00:00<?, ?it/s]"
      ]
     },
     "metadata": {},
     "output_type": "display_data"
    },
    {
     "name": "stdout",
     "output_type": "stream",
     "text": [
      "Epoch 11 | Time: 1.9s | LR: 3.00e-05 | Train Loss: 0.4201 | Val Loss: 0.6490 | Val f1: 0.4668 ★\n"
     ]
    },
    {
     "data": {
      "application/vnd.jupyter.widget-view+json": {
       "model_id": "d01ba67236d14cf7b2b6105b365bd395",
       "version_major": 2,
       "version_minor": 0
      },
      "text/plain": [
       "Train:   0%|          | 0/16 [00:00<?, ?it/s]"
      ]
     },
     "metadata": {},
     "output_type": "display_data"
    },
    {
     "data": {
      "application/vnd.jupyter.widget-view+json": {
       "model_id": "173ec86ca88b4ad2848e5049d7671366",
       "version_major": 2,
       "version_minor": 0
      },
      "text/plain": [
       "Val:   0%|          | 0/10 [00:00<?, ?it/s]"
      ]
     },
     "metadata": {},
     "output_type": "display_data"
    },
    {
     "name": "stdout",
     "output_type": "stream",
     "text": [
      "Epoch 12 | Time: 1.8s | LR: 3.00e-05 | Train Loss: 0.4437 | Val Loss: 0.6463 | Val f1: 0.5196 ★\n"
     ]
    },
    {
     "data": {
      "application/vnd.jupyter.widget-view+json": {
       "model_id": "95adcdd46fc14e5db8cc5f2a6e12ebce",
       "version_major": 2,
       "version_minor": 0
      },
      "text/plain": [
       "Train:   0%|          | 0/16 [00:00<?, ?it/s]"
      ]
     },
     "metadata": {},
     "output_type": "display_data"
    },
    {
     "data": {
      "application/vnd.jupyter.widget-view+json": {
       "model_id": "041a7be1bb214488a74a3a99f1bb9a12",
       "version_major": 2,
       "version_minor": 0
      },
      "text/plain": [
       "Val:   0%|          | 0/10 [00:00<?, ?it/s]"
      ]
     },
     "metadata": {},
     "output_type": "display_data"
    },
    {
     "name": "stdout",
     "output_type": "stream",
     "text": [
      "Epoch 13 | Time: 1.9s | LR: 3.00e-05 | Train Loss: 0.4284 | Val Loss: 0.6404 | Val f1: 0.4668 \n"
     ]
    },
    {
     "data": {
      "application/vnd.jupyter.widget-view+json": {
       "model_id": "4676573916884cfda16fe64da159cf45",
       "version_major": 2,
       "version_minor": 0
      },
      "text/plain": [
       "Train:   0%|          | 0/16 [00:00<?, ?it/s]"
      ]
     },
     "metadata": {},
     "output_type": "display_data"
    },
    {
     "data": {
      "application/vnd.jupyter.widget-view+json": {
       "model_id": "662cc759e0af4f1ca0fbef49e48939dd",
       "version_major": 2,
       "version_minor": 0
      },
      "text/plain": [
       "Val:   0%|          | 0/10 [00:00<?, ?it/s]"
      ]
     },
     "metadata": {},
     "output_type": "display_data"
    },
    {
     "name": "stdout",
     "output_type": "stream",
     "text": [
      "Epoch 14 | Time: 2.0s | LR: 3.00e-05 | Train Loss: 0.4319 | Val Loss: 0.6386 | Val f1: 0.5244 ★\n"
     ]
    },
    {
     "data": {
      "application/vnd.jupyter.widget-view+json": {
       "model_id": "3abba4b46a8341fa87aa2dadea25f6e4",
       "version_major": 2,
       "version_minor": 0
      },
      "text/plain": [
       "Train:   0%|          | 0/16 [00:00<?, ?it/s]"
      ]
     },
     "metadata": {},
     "output_type": "display_data"
    },
    {
     "data": {
      "application/vnd.jupyter.widget-view+json": {
       "model_id": "044e811c56a84e01a33eb38d20f4246b",
       "version_major": 2,
       "version_minor": 0
      },
      "text/plain": [
       "Val:   0%|          | 0/10 [00:00<?, ?it/s]"
      ]
     },
     "metadata": {},
     "output_type": "display_data"
    },
    {
     "name": "stdout",
     "output_type": "stream",
     "text": [
      "Epoch 15 | Time: 2.3s | LR: 3.00e-05 | Train Loss: 0.4356 | Val Loss: 0.6321 | Val f1: 0.4746 \n"
     ]
    },
    {
     "data": {
      "application/vnd.jupyter.widget-view+json": {
       "model_id": "bdf2366ecd3e41ec8c2cae41a8cbf62e",
       "version_major": 2,
       "version_minor": 0
      },
      "text/plain": [
       "Train:   0%|          | 0/16 [00:00<?, ?it/s]"
      ]
     },
     "metadata": {},
     "output_type": "display_data"
    },
    {
     "data": {
      "application/vnd.jupyter.widget-view+json": {
       "model_id": "8b2dfb0ad74c4283ac10f8555171a406",
       "version_major": 2,
       "version_minor": 0
      },
      "text/plain": [
       "Val:   0%|          | 0/10 [00:00<?, ?it/s]"
      ]
     },
     "metadata": {},
     "output_type": "display_data"
    },
    {
     "name": "stdout",
     "output_type": "stream",
     "text": [
      "Epoch 16 | Time: 2.2s | LR: 3.00e-05 | Train Loss: 0.4444 | Val Loss: 0.6281 | Val f1: 0.4713 \n"
     ]
    },
    {
     "data": {
      "application/vnd.jupyter.widget-view+json": {
       "model_id": "0ec02d34d20648c7aba7b7110c5f2ab0",
       "version_major": 2,
       "version_minor": 0
      },
      "text/plain": [
       "Train:   0%|          | 0/16 [00:00<?, ?it/s]"
      ]
     },
     "metadata": {},
     "output_type": "display_data"
    },
    {
     "data": {
      "application/vnd.jupyter.widget-view+json": {
       "model_id": "758c30ccb25241cfb211c27d6ddbccf1",
       "version_major": 2,
       "version_minor": 0
      },
      "text/plain": [
       "Val:   0%|          | 0/10 [00:00<?, ?it/s]"
      ]
     },
     "metadata": {},
     "output_type": "display_data"
    },
    {
     "name": "stdout",
     "output_type": "stream",
     "text": [
      "Epoch 17 | Time: 2.2s | LR: 3.00e-05 | Train Loss: 0.4236 | Val Loss: 0.6255 | Val f1: 0.4884 \n"
     ]
    },
    {
     "data": {
      "application/vnd.jupyter.widget-view+json": {
       "model_id": "f152a3e97ea5423681906b5f1fda5ce7",
       "version_major": 2,
       "version_minor": 0
      },
      "text/plain": [
       "Train:   0%|          | 0/16 [00:00<?, ?it/s]"
      ]
     },
     "metadata": {},
     "output_type": "display_data"
    },
    {
     "data": {
      "application/vnd.jupyter.widget-view+json": {
       "model_id": "a1b0a6e1ab8c4afc8373ccfcf5b4faa4",
       "version_major": 2,
       "version_minor": 0
      },
      "text/plain": [
       "Val:   0%|          | 0/10 [00:00<?, ?it/s]"
      ]
     },
     "metadata": {},
     "output_type": "display_data"
    },
    {
     "name": "stdout",
     "output_type": "stream",
     "text": [
      "Epoch 18 | Time: 2.2s | LR: 3.00e-05 | Train Loss: 0.4317 | Val Loss: 0.6234 | Val f1: 0.5339 ★\n"
     ]
    },
    {
     "data": {
      "application/vnd.jupyter.widget-view+json": {
       "model_id": "f7c41923f6f34dfe9b3dc2e6a3fde5f5",
       "version_major": 2,
       "version_minor": 0
      },
      "text/plain": [
       "Train:   0%|          | 0/16 [00:00<?, ?it/s]"
      ]
     },
     "metadata": {},
     "output_type": "display_data"
    },
    {
     "data": {
      "application/vnd.jupyter.widget-view+json": {
       "model_id": "05e7dd5f82e94bbb86f0c737ef7e0dff",
       "version_major": 2,
       "version_minor": 0
      },
      "text/plain": [
       "Val:   0%|          | 0/10 [00:00<?, ?it/s]"
      ]
     },
     "metadata": {},
     "output_type": "display_data"
    },
    {
     "name": "stdout",
     "output_type": "stream",
     "text": [
      "Epoch 19 | Time: 2.2s | LR: 3.00e-05 | Train Loss: 0.4139 | Val Loss: 0.6176 | Val f1: 0.4843 \n"
     ]
    },
    {
     "data": {
      "application/vnd.jupyter.widget-view+json": {
       "model_id": "933993e89ba94e53846265f221f88a80",
       "version_major": 2,
       "version_minor": 0
      },
      "text/plain": [
       "Train:   0%|          | 0/16 [00:00<?, ?it/s]"
      ]
     },
     "metadata": {},
     "output_type": "display_data"
    },
    {
     "data": {
      "application/vnd.jupyter.widget-view+json": {
       "model_id": "17e2c79ef05244e09c5a000347b4b6b4",
       "version_major": 2,
       "version_minor": 0
      },
      "text/plain": [
       "Val:   0%|          | 0/10 [00:00<?, ?it/s]"
      ]
     },
     "metadata": {},
     "output_type": "display_data"
    },
    {
     "name": "stdout",
     "output_type": "stream",
     "text": [
      "Epoch 20 | Time: 2.2s | LR: 3.00e-05 | Train Loss: 0.4188 | Val Loss: 0.6149 | Val f1: 0.4837 \n"
     ]
    },
    {
     "data": {
      "application/vnd.jupyter.widget-view+json": {
       "model_id": "0591662017b44dc1b66bb840422db677",
       "version_major": 2,
       "version_minor": 0
      },
      "text/plain": [
       "Train:   0%|          | 0/16 [00:00<?, ?it/s]"
      ]
     },
     "metadata": {},
     "output_type": "display_data"
    },
    {
     "data": {
      "application/vnd.jupyter.widget-view+json": {
       "model_id": "9637c00fbbfb43dd9edad2bd7bc8c796",
       "version_major": 2,
       "version_minor": 0
      },
      "text/plain": [
       "Val:   0%|          | 0/10 [00:00<?, ?it/s]"
      ]
     },
     "metadata": {},
     "output_type": "display_data"
    },
    {
     "name": "stdout",
     "output_type": "stream",
     "text": [
      "Epoch 21 | Time: 2.2s | LR: 3.00e-05 | Train Loss: 0.4058 | Val Loss: 0.6119 | Val f1: 0.5376 ★\n"
     ]
    },
    {
     "data": {
      "application/vnd.jupyter.widget-view+json": {
       "model_id": "50ddb82aa3c64a278bdc3cd2cbee0046",
       "version_major": 2,
       "version_minor": 0
      },
      "text/plain": [
       "Train:   0%|          | 0/16 [00:00<?, ?it/s]"
      ]
     },
     "metadata": {},
     "output_type": "display_data"
    },
    {
     "data": {
      "application/vnd.jupyter.widget-view+json": {
       "model_id": "c1067be04f1d4e00965343f42b82e908",
       "version_major": 2,
       "version_minor": 0
      },
      "text/plain": [
       "Val:   0%|          | 0/10 [00:00<?, ?it/s]"
      ]
     },
     "metadata": {},
     "output_type": "display_data"
    },
    {
     "name": "stdout",
     "output_type": "stream",
     "text": [
      "Epoch 22 | Time: 2.3s | LR: 3.00e-05 | Train Loss: 0.4096 | Val Loss: 0.6071 | Val f1: 0.4881 \n"
     ]
    },
    {
     "data": {
      "application/vnd.jupyter.widget-view+json": {
       "model_id": "e0e3d1d8c58842e7b2122a8fc5f69d4c",
       "version_major": 2,
       "version_minor": 0
      },
      "text/plain": [
       "Train:   0%|          | 0/16 [00:00<?, ?it/s]"
      ]
     },
     "metadata": {},
     "output_type": "display_data"
    },
    {
     "data": {
      "application/vnd.jupyter.widget-view+json": {
       "model_id": "8e1578955dbb4e828eccc640cbad8b7f",
       "version_major": 2,
       "version_minor": 0
      },
      "text/plain": [
       "Val:   0%|          | 0/10 [00:00<?, ?it/s]"
      ]
     },
     "metadata": {},
     "output_type": "display_data"
    },
    {
     "name": "stdout",
     "output_type": "stream",
     "text": [
      "Epoch 23 | Time: 2.3s | LR: 3.00e-05 | Train Loss: 0.4051 | Val Loss: 0.6043 | Val f1: 0.5397 ★\n"
     ]
    },
    {
     "data": {
      "application/vnd.jupyter.widget-view+json": {
       "model_id": "577f38636ba24d928e471c40890fcdb0",
       "version_major": 2,
       "version_minor": 0
      },
      "text/plain": [
       "Train:   0%|          | 0/16 [00:00<?, ?it/s]"
      ]
     },
     "metadata": {},
     "output_type": "display_data"
    },
    {
     "data": {
      "application/vnd.jupyter.widget-view+json": {
       "model_id": "32748eabe1b04dfca232afeec3063ed3",
       "version_major": 2,
       "version_minor": 0
      },
      "text/plain": [
       "Val:   0%|          | 0/10 [00:00<?, ?it/s]"
      ]
     },
     "metadata": {},
     "output_type": "display_data"
    },
    {
     "name": "stdout",
     "output_type": "stream",
     "text": [
      "Epoch 24 | Time: 2.2s | LR: 3.00e-05 | Train Loss: 0.3943 | Val Loss: 0.5999 | Val f1: 0.5002 \n"
     ]
    },
    {
     "data": {
      "application/vnd.jupyter.widget-view+json": {
       "model_id": "dda0b3b67c1f42a6847a715847c9961e",
       "version_major": 2,
       "version_minor": 0
      },
      "text/plain": [
       "Train:   0%|          | 0/16 [00:00<?, ?it/s]"
      ]
     },
     "metadata": {},
     "output_type": "display_data"
    },
    {
     "data": {
      "application/vnd.jupyter.widget-view+json": {
       "model_id": "7fe1b892602c4b54827e6446baa8c69e",
       "version_major": 2,
       "version_minor": 0
      },
      "text/plain": [
       "Val:   0%|          | 0/10 [00:00<?, ?it/s]"
      ]
     },
     "metadata": {},
     "output_type": "display_data"
    },
    {
     "name": "stdout",
     "output_type": "stream",
     "text": [
      "Epoch 25 | Time: 2.2s | LR: 3.00e-05 | Train Loss: 0.4202 | Val Loss: 0.5967 | Val f1: 0.4903 \n"
     ]
    },
    {
     "data": {
      "application/vnd.jupyter.widget-view+json": {
       "model_id": "ee0cd80ef69c450290ee5ef496316d87",
       "version_major": 2,
       "version_minor": 0
      },
      "text/plain": [
       "Train:   0%|          | 0/16 [00:00<?, ?it/s]"
      ]
     },
     "metadata": {},
     "output_type": "display_data"
    },
    {
     "data": {
      "application/vnd.jupyter.widget-view+json": {
       "model_id": "a7e5be8aaee2449f9bb1f1f896fd9c82",
       "version_major": 2,
       "version_minor": 0
      },
      "text/plain": [
       "Val:   0%|          | 0/10 [00:00<?, ?it/s]"
      ]
     },
     "metadata": {},
     "output_type": "display_data"
    },
    {
     "name": "stdout",
     "output_type": "stream",
     "text": [
      "Epoch 26 | Time: 2.3s | LR: 3.00e-05 | Train Loss: 0.3993 | Val Loss: 0.5922 | Val f1: 0.4838 \n"
     ]
    },
    {
     "data": {
      "application/vnd.jupyter.widget-view+json": {
       "model_id": "318074ca28314e4b86e25f16c3760caf",
       "version_major": 2,
       "version_minor": 0
      },
      "text/plain": [
       "Train:   0%|          | 0/16 [00:00<?, ?it/s]"
      ]
     },
     "metadata": {},
     "output_type": "display_data"
    },
    {
     "data": {
      "application/vnd.jupyter.widget-view+json": {
       "model_id": "f5e0152aab2349af809a093c4adee04b",
       "version_major": 2,
       "version_minor": 0
      },
      "text/plain": [
       "Val:   0%|          | 0/10 [00:00<?, ?it/s]"
      ]
     },
     "metadata": {},
     "output_type": "display_data"
    },
    {
     "name": "stdout",
     "output_type": "stream",
     "text": [
      "Epoch 27 | Time: 2.2s | LR: 3.00e-06 | Train Loss: 0.4155 | Val Loss: 0.5868 | Val f1: 0.4936 \n"
     ]
    },
    {
     "data": {
      "application/vnd.jupyter.widget-view+json": {
       "model_id": "d1d8c58c8dbc4f76b9d972d19e84eede",
       "version_major": 2,
       "version_minor": 0
      },
      "text/plain": [
       "Train:   0%|          | 0/16 [00:00<?, ?it/s]"
      ]
     },
     "metadata": {},
     "output_type": "display_data"
    },
    {
     "data": {
      "application/vnd.jupyter.widget-view+json": {
       "model_id": "24925ec86e4a4cd19b8ec722e68f2ab8",
       "version_major": 2,
       "version_minor": 0
      },
      "text/plain": [
       "Val:   0%|          | 0/10 [00:00<?, ?it/s]"
      ]
     },
     "metadata": {},
     "output_type": "display_data"
    },
    {
     "name": "stdout",
     "output_type": "stream",
     "text": [
      "Epoch 28 | Time: 2.3s | LR: 3.00e-06 | Train Loss: 0.3917 | Val Loss: 0.5853 | Val f1: 0.5002 \n"
     ]
    },
    {
     "data": {
      "application/vnd.jupyter.widget-view+json": {
       "model_id": "8babc1fd4dfa40f4bc6c977fa35f7f76",
       "version_major": 2,
       "version_minor": 0
      },
      "text/plain": [
       "Train:   0%|          | 0/16 [00:00<?, ?it/s]"
      ]
     },
     "metadata": {},
     "output_type": "display_data"
    },
    {
     "data": {
      "application/vnd.jupyter.widget-view+json": {
       "model_id": "2e5a7a727715493384c03ead49fb96df",
       "version_major": 2,
       "version_minor": 0
      },
      "text/plain": [
       "Val:   0%|          | 0/10 [00:00<?, ?it/s]"
      ]
     },
     "metadata": {},
     "output_type": "display_data"
    },
    {
     "name": "stdout",
     "output_type": "stream",
     "text": [
      "Epoch 29 | Time: 2.2s | LR: 3.00e-06 | Train Loss: 0.4051 | Val Loss: 0.5839 | Val f1: 0.4903 \n"
     ]
    },
    {
     "data": {
      "application/vnd.jupyter.widget-view+json": {
       "model_id": "57c7bc91e4a641d785ac66597097c18a",
       "version_major": 2,
       "version_minor": 0
      },
      "text/plain": [
       "Train:   0%|          | 0/16 [00:00<?, ?it/s]"
      ]
     },
     "metadata": {},
     "output_type": "display_data"
    },
    {
     "data": {
      "application/vnd.jupyter.widget-view+json": {
       "model_id": "88a7d96b52ee45c293bb598dafc82807",
       "version_major": 2,
       "version_minor": 0
      },
      "text/plain": [
       "Val:   0%|          | 0/10 [00:00<?, ?it/s]"
      ]
     },
     "metadata": {},
     "output_type": "display_data"
    },
    {
     "name": "stdout",
     "output_type": "stream",
     "text": [
      "Epoch 30 | Time: 2.3s | LR: 3.00e-06 | Train Loss: 0.4073 | Val Loss: 0.5816 | Val f1: 0.4903 \n",
      "Early stopping at epoch 30. Best: 0.539737 at epoch 23\n"
     ]
    }
   ],
   "source": [
    "history = fit(\n",
    "    model=model,\n",
    "    train_loader=trainloader,\n",
    "    val_loader=valloader,\n",
    "    optimizer=optimizer,\n",
    "    scheduler = scheduler,\n",
    "    criterion=criterion,\n",
    "    metrics=wrapped_metrics,\n",
    "    device=device,\n",
    "    epochs=30,\n",
    "    patience=7,\n",
    "    monitor_metric=\"f1\",\n",
    "    mode=\"max\",\n",
    "    use_amp=(device.type == \"cuda\"),\n",
    "    ema_decay=0.999,\n",
    "    grad_clip=1.0,\n",
    "    accumulation_steps=1,\n",
    "    checkpoint_path=\"best_model.pt\",\n",
    ")"
   ]
  },
  {
   "cell_type": "code",
   "execution_count": 4,
   "id": "a828efdf-adc1-4812-99a6-c1d2db96e30d",
   "metadata": {},
   "outputs": [],
   "source": []
  },
  {
   "cell_type": "markdown",
   "id": "c9a42836-b9cc-4371-bfe9-b9a689e7008c",
   "metadata": {},
   "source": [
    "https://msu.ai/how_to_train_nn_notebook_new"
   ]
  },
  {
   "cell_type": "markdown",
   "id": "515c406b-5706-4220-a047-48cc22ca25ea",
   "metadata": {},
   "source": [
    "## Задания"
   ]
  },
  {
   "cell_type": "markdown",
   "id": "80c87403-3881-448c-8724-27b0bfb534d2",
   "metadata": {},
   "source": [
    "**1.** Проверьте, как влияют те или иные режимы инициализации на качество работы нейронной сети. Например, инициализация постоянными величинами `nn.init.constant_(m.weight, constant_weight)`."
   ]
  },
  {
   "cell_type": "code",
   "execution_count": null,
   "id": "9e50eba0-69d5-488e-bf98-4c41404a7322",
   "metadata": {},
   "outputs": [],
   "source": []
  },
  {
   "cell_type": "markdown",
   "id": "b46efed3-87c2-4946-9554-095da6bea2e7",
   "metadata": {},
   "source": [
    "__2.__  В ряде [случаев](https://discuss.pytorch.org/t/tricks-for-being-able-to-use-a-higher-learning-rate/142179) рекомендуется стратегия обучения, когда изначально используется крайне низкая скорость обучения в течение нескольких эпох, чтобы веса модели настроились в нужном направлении. Такие эпохи будут сравнительно бесполезными с точки зрения результата обучения, но повышают стабильность экспериментов. Затем скорость обучения резко увеличивают и начинают плавно снижать. Предполагается, что после первоначальной настройки весов они могут быстро обучиться в нужном направлении. __Предлагается__ реализовать эту стратегию самостоятельно.\n",
    "\n",
    "> Также иногда используют циклическую скорость обучения для большого числа эпох."
   ]
  },
  {
   "cell_type": "code",
   "execution_count": null,
   "id": "a9e8f69b-a945-43a2-bdec-56004cad1e64",
   "metadata": {},
   "outputs": [],
   "source": []
  },
  {
   "cell_type": "markdown",
   "id": "66e6f102-b64e-48f0-b79f-4da0647de31f",
   "metadata": {},
   "source": [
    "<code style=\"color : red\">__3.*__</code> В ряде [работ](https://openreview.net/pdf?id=B1Yy1BxCZ) рекомендуется вместе с изменением скорости обучения (с ее снижением) [увеличивать размер батча](https://stackoverflow.com/questions/53033556/how-should-the-learning-rate-change-as-the-batch-size-change). __Предлагается__ реализовать эту стратегию обучения самостоятельно. \n",
    "\n",
    "> [Иногда](https://ar5iv.labs.arxiv.org/abs/1803.09820) также рекомендуют уменьшать затухание весов с ростом эпохи обучения (параметр `L2` регуляризации — `weight_decay` в оптимизаторах). Если используется параметр `momentum`, то он должен снижаться с увеличением скорости обучения [или циркулировать](https://ar5iv.labs.arxiv.org/abs/1803.09820)."
   ]
  },
  {
   "cell_type": "code",
   "execution_count": null,
   "id": "3d93cb67-81f7-4c07-8fdf-7ba7ee1992db",
   "metadata": {},
   "outputs": [],
   "source": []
  },
  {
   "cell_type": "markdown",
   "id": "0b7cc836-7b33-4757-9150-8f15e92c9dab",
   "metadata": {},
   "source": [
    "<code style=\"color : red\">__4.*__</code> Настройка параметров обучения может быть выполнена не только по блокам модели, но и по отдельным параметрам. Например, если используется `SGD with weight_decay`, иногда полезно отключить `weight_decay` для параметра смещения. Это можно сделать следующим образом.\n",
    "    \n",
    "```python\n",
    "    bias_params = [p for name, p in self.named_parameters() if 'bias' in name]\n",
    "    others = [p for name, p in self.named_parameters() if 'bias' not in name]\n",
    "\n",
    "    optim.SGD([\n",
    "                    {'params': others},\n",
    "                    {'params': bias_params, 'weight_decay': 0}\n",
    "                ], weight_decay=1e-2, lr=1e-2)\n",
    "```\n",
    "> Отметим, что также [в ряде случаев](https://github.com/NVIDIA/DeepLearningExamples/blob/8d8b21a933fff3defb692e0527fca15532da5dc6/PyTorch/Classification/ConvNets/image_classification/training.py)  'weight_decay' не используется для параметров батч-нормализации.\n",
    "\n",
    "__Предлагается__ проверить качество такого оптимизатора самостоятельно."
   ]
  },
  {
   "cell_type": "code",
   "execution_count": null,
   "id": "d0b3159a-b514-4060-970f-e92f18ddfe54",
   "metadata": {},
   "outputs": [],
   "source": []
  },
  {
   "cell_type": "markdown",
   "id": "1aefcfad-c119-4c2d-b548-241b9ff210a0",
   "metadata": {},
   "source": [
    "<code style=\"color : red\">__5.*__</code> Иногда в функцию потерь также добавляют параметр [`label_smoothing`](https://paperswithcode.com/method/label-smoothing), выставляя его небольшим. При этом итоговая метка класса формируется как $$ y_s = (1-\\eta y) + U[0, \\eta/K] $$ где $\\eta$ — весовой коэффициент, $K$ — число классов, а $U[0, \\eta/K]$ — равномерное распределение. То есть $y_s$ представляет собой вектор, где основной класс имеет значение в диапазоне $(0,1)$, а остаток этого диапазона «размыт» между значениями остальных классов. В таком случае ожидается, что подразумеваемая функция активации $softmax$ не будет выходить в насыщение, что снизит вероятность переобучения слоя принятия решений. Сегодня `label_smoothing` в оригинальной функции потерь, как это показано ниже. __Предлагается__ попробовать использовать эту функцию самостоятельно.\n",
    "\n",
    "```python \n",
    "    nn.CrossEntropyLoss(label_smoothing = ...)\n",
    "```"
   ]
  },
  {
   "cell_type": "code",
   "execution_count": null,
   "id": "0c9d6a40-292f-4825-947f-b3756ea63f5c",
   "metadata": {},
   "outputs": [],
   "source": []
  }
 ],
 "metadata": {
  "kernelspec": {
   "display_name": "Python 3 (ipykernel)",
   "language": "python",
   "name": "python3"
  },
  "language_info": {
   "codemirror_mode": {
    "name": "ipython",
    "version": 3
   },
   "file_extension": ".py",
   "mimetype": "text/x-python",
   "name": "python",
   "nbconvert_exporter": "python",
   "pygments_lexer": "ipython3",
   "version": "3.9.23"
  }
 },
 "nbformat": 4,
 "nbformat_minor": 5
}
